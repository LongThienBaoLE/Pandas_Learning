{
 "cells": [
  {
   "cell_type": "markdown",
   "metadata": {},
   "source": [
    "## GETTING STARTED"
   ]
  },
  {
   "cell_type": "code",
   "execution_count": 1,
   "metadata": {},
   "outputs": [],
   "source": [
    "import pandas as pd"
   ]
  },
  {
   "cell_type": "code",
   "execution_count": 2,
   "metadata": {},
   "outputs": [
    {
     "data": {
      "text/html": [
       "<div>\n",
       "<style scoped>\n",
       "    .dataframe tbody tr th:only-of-type {\n",
       "        vertical-align: middle;\n",
       "    }\n",
       "\n",
       "    .dataframe tbody tr th {\n",
       "        vertical-align: top;\n",
       "    }\n",
       "\n",
       "    .dataframe thead th {\n",
       "        text-align: right;\n",
       "    }\n",
       "</style>\n",
       "<table border=\"1\" class=\"dataframe\">\n",
       "  <thead>\n",
       "    <tr style=\"text-align: right;\">\n",
       "      <th></th>\n",
       "      <th>SMILES</th>\n",
       "      <th>IC50</th>\n",
       "      <th>pIC50</th>\n",
       "    </tr>\n",
       "  </thead>\n",
       "  <tbody>\n",
       "    <tr>\n",
       "      <th>0</th>\n",
       "      <td>COC1=NC(=CN=C1CN2CC3(C2)CCC(=O)N3)C4=CC=CC(=C4...</td>\n",
       "      <td>0.080</td>\n",
       "      <td>NaN</td>\n",
       "    </tr>\n",
       "    <tr>\n",
       "      <th>1</th>\n",
       "      <td>COC1=NC(=CN=C1CN2CC(C2)O)C3=CC=CC(=C3F)C4=C(C(...</td>\n",
       "      <td>0.135</td>\n",
       "      <td>9.869666</td>\n",
       "    </tr>\n",
       "    <tr>\n",
       "      <th>2</th>\n",
       "      <td>COC1CN(C1)CC2=NC=C(N=C2OC)C3=CC=CC(=C3F)C4=C(C...</td>\n",
       "      <td>0.318</td>\n",
       "      <td>9.497573</td>\n",
       "    </tr>\n",
       "    <tr>\n",
       "      <th>3</th>\n",
       "      <td>CC(=O)N1CC2(C1)CN(C2)CC3=NC=C(N=C3OC)C4=CC=CC(...</td>\n",
       "      <td>NaN</td>\n",
       "      <td>10.065502</td>\n",
       "    </tr>\n",
       "    <tr>\n",
       "      <th>4</th>\n",
       "      <td>COC1=NC(=CN=C1CNCCO)C2=CC=CC(=C2F)C3=C(C(=CC=C...</td>\n",
       "      <td>0.213</td>\n",
       "      <td>9.671620</td>\n",
       "    </tr>\n",
       "    <tr>\n",
       "      <th>...</th>\n",
       "      <td>...</td>\n",
       "      <td>...</td>\n",
       "      <td>...</td>\n",
       "    </tr>\n",
       "    <tr>\n",
       "      <th>652</th>\n",
       "      <td>COC1=NC(=CN=C1CNC[C@@H]2CCC(=O)N2)C3=CC=CC(=C3...</td>\n",
       "      <td>0.121</td>\n",
       "      <td>9.917215</td>\n",
       "    </tr>\n",
       "    <tr>\n",
       "      <th>653</th>\n",
       "      <td>COC1=NC(=CN=C1CNCC2CCNC(=O)C2)C3=CC=CC(=C3Cl)C...</td>\n",
       "      <td>0.135</td>\n",
       "      <td>9.869666</td>\n",
       "    </tr>\n",
       "    <tr>\n",
       "      <th>654</th>\n",
       "      <td>COC1=NC(=CN=C1CNCC2CCNC2=O)C3=CC=CC(=C3Cl)C4=C...</td>\n",
       "      <td>0.064</td>\n",
       "      <td>10.193820</td>\n",
       "    </tr>\n",
       "    <tr>\n",
       "      <th>655</th>\n",
       "      <td>CC1=C(C=CC=C1C2=CN=C(C(=N2)OC)CN3CC4(C3)CN(C4)...</td>\n",
       "      <td>0.082</td>\n",
       "      <td>10.086186</td>\n",
       "    </tr>\n",
       "    <tr>\n",
       "      <th>656</th>\n",
       "      <td>CC(=O)NC[C@@H]1CCN(C1)CC2=NC=C(N=C2OC)C3=CC=CC...</td>\n",
       "      <td>0.281</td>\n",
       "      <td>NaN</td>\n",
       "    </tr>\n",
       "  </tbody>\n",
       "</table>\n",
       "<p>657 rows × 3 columns</p>\n",
       "</div>"
      ],
      "text/plain": [
       "                                                SMILES   IC50      pIC50\n",
       "0    COC1=NC(=CN=C1CN2CC3(C2)CCC(=O)N3)C4=CC=CC(=C4...  0.080        NaN\n",
       "1    COC1=NC(=CN=C1CN2CC(C2)O)C3=CC=CC(=C3F)C4=C(C(...  0.135   9.869666\n",
       "2    COC1CN(C1)CC2=NC=C(N=C2OC)C3=CC=CC(=C3F)C4=C(C...  0.318   9.497573\n",
       "3    CC(=O)N1CC2(C1)CN(C2)CC3=NC=C(N=C3OC)C4=CC=CC(...    NaN  10.065502\n",
       "4    COC1=NC(=CN=C1CNCCO)C2=CC=CC(=C2F)C3=C(C(=CC=C...  0.213   9.671620\n",
       "..                                                 ...    ...        ...\n",
       "652  COC1=NC(=CN=C1CNC[C@@H]2CCC(=O)N2)C3=CC=CC(=C3...  0.121   9.917215\n",
       "653  COC1=NC(=CN=C1CNCC2CCNC(=O)C2)C3=CC=CC(=C3Cl)C...  0.135   9.869666\n",
       "654  COC1=NC(=CN=C1CNCC2CCNC2=O)C3=CC=CC(=C3Cl)C4=C...  0.064  10.193820\n",
       "655  CC1=C(C=CC=C1C2=CN=C(C(=N2)OC)CN3CC4(C3)CN(C4)...  0.082  10.086186\n",
       "656  CC(=O)NC[C@@H]1CCN(C1)CC2=NC=C(N=C2OC)C3=CC=CC...  0.281        NaN\n",
       "\n",
       "[657 rows x 3 columns]"
      ]
     },
     "execution_count": 2,
     "metadata": {},
     "output_type": "execute_result"
    }
   ],
   "source": [
    "File2 = pd.read_csv('File2.csv')\n",
    "File2"
   ]
  },
  {
   "cell_type": "markdown",
   "metadata": {},
   "source": [
    "1. Ex1. Eliminate all compounds that do not have IC50 values"
   ]
  },
  {
   "cell_type": "code",
   "execution_count": 43,
   "metadata": {},
   "outputs": [
    {
     "data": {
      "text/plain": [
       "0      False\n",
       "1      False\n",
       "2      False\n",
       "3       True\n",
       "4      False\n",
       "       ...  \n",
       "652    False\n",
       "653    False\n",
       "654    False\n",
       "655    False\n",
       "656    False\n",
       "Name: IC50, Length: 657, dtype: bool"
      ]
     },
     "execution_count": 43,
     "metadata": {},
     "output_type": "execute_result"
    }
   ],
   "source": [
    "File2['IC50'].isna()"
   ]
  },
  {
   "cell_type": "code",
   "execution_count": 8,
   "metadata": {},
   "outputs": [
    {
     "data": {
      "text/html": [
       "<div>\n",
       "<style scoped>\n",
       "    .dataframe tbody tr th:only-of-type {\n",
       "        vertical-align: middle;\n",
       "    }\n",
       "\n",
       "    .dataframe tbody tr th {\n",
       "        vertical-align: top;\n",
       "    }\n",
       "\n",
       "    .dataframe thead th {\n",
       "        text-align: right;\n",
       "    }\n",
       "</style>\n",
       "<table border=\"1\" class=\"dataframe\">\n",
       "  <thead>\n",
       "    <tr style=\"text-align: right;\">\n",
       "      <th></th>\n",
       "      <th>SMILES</th>\n",
       "      <th>IC50</th>\n",
       "      <th>pIC50</th>\n",
       "    </tr>\n",
       "  </thead>\n",
       "  <tbody>\n",
       "    <tr>\n",
       "      <th>3</th>\n",
       "      <td>CC(=O)N1CC2(C1)CN(C2)CC3=NC=C(N=C3OC)C4=CC=CC(...</td>\n",
       "      <td>NaN</td>\n",
       "      <td>10.065502</td>\n",
       "    </tr>\n",
       "    <tr>\n",
       "      <th>27</th>\n",
       "      <td>COC1=NC(=CN=C1CNC[C@@H]2CCC(=O)N2)C3=CC=CC(=C3...</td>\n",
       "      <td>NaN</td>\n",
       "      <td>9.360514</td>\n",
       "    </tr>\n",
       "    <tr>\n",
       "      <th>28</th>\n",
       "      <td>CC1=NC(=NN1)CNCC2=NC=C(N=C2OC)C3=CC=CC(=C3Cl)C...</td>\n",
       "      <td>NaN</td>\n",
       "      <td>8.962574</td>\n",
       "    </tr>\n",
       "    <tr>\n",
       "      <th>29</th>\n",
       "      <td>CN1C=CC(=N1)CNCC2=NC=C(N=C2OC)C3=CC=CC(=C3Cl)C...</td>\n",
       "      <td>NaN</td>\n",
       "      <td>9.323306</td>\n",
       "    </tr>\n",
       "    <tr>\n",
       "      <th>34</th>\n",
       "      <td>COC1=NC(=CN=C1CNC[C@@H]2CCC(=O)N2)C3=CC=CC(=C3...</td>\n",
       "      <td>NaN</td>\n",
       "      <td>9.718967</td>\n",
       "    </tr>\n",
       "    <tr>\n",
       "      <th>38</th>\n",
       "      <td>COC1=NC(=CN=C1CNC[C@@H]2CCC(=O)N2)C3=CC=CC(=C3...</td>\n",
       "      <td>NaN</td>\n",
       "      <td>9.408935</td>\n",
       "    </tr>\n",
       "    <tr>\n",
       "      <th>41</th>\n",
       "      <td>COC1=NC(=CN=C1CNCCS(=O)(=O)O)C2=CC=CC(=C2Cl)C3...</td>\n",
       "      <td>NaN</td>\n",
       "      <td>8.465974</td>\n",
       "    </tr>\n",
       "  </tbody>\n",
       "</table>\n",
       "</div>"
      ],
      "text/plain": [
       "                                               SMILES  IC50      pIC50\n",
       "3   CC(=O)N1CC2(C1)CN(C2)CC3=NC=C(N=C3OC)C4=CC=CC(...   NaN  10.065502\n",
       "27  COC1=NC(=CN=C1CNC[C@@H]2CCC(=O)N2)C3=CC=CC(=C3...   NaN   9.360514\n",
       "28  CC1=NC(=NN1)CNCC2=NC=C(N=C2OC)C3=CC=CC(=C3Cl)C...   NaN   8.962574\n",
       "29  CN1C=CC(=N1)CNCC2=NC=C(N=C2OC)C3=CC=CC(=C3Cl)C...   NaN   9.323306\n",
       "34  COC1=NC(=CN=C1CNC[C@@H]2CCC(=O)N2)C3=CC=CC(=C3...   NaN   9.718967\n",
       "38  COC1=NC(=CN=C1CNC[C@@H]2CCC(=O)N2)C3=CC=CC(=C3...   NaN   9.408935\n",
       "41  COC1=NC(=CN=C1CNCCS(=O)(=O)O)C2=CC=CC(=C2Cl)C3...   NaN   8.465974"
      ]
     },
     "execution_count": 8,
     "metadata": {},
     "output_type": "execute_result"
    }
   ],
   "source": [
    "File2[File2['IC50'].isna()]"
   ]
  },
  {
   "cell_type": "code",
   "execution_count": 9,
   "metadata": {},
   "outputs": [
    {
     "data": {
      "text/html": [
       "<div>\n",
       "<style scoped>\n",
       "    .dataframe tbody tr th:only-of-type {\n",
       "        vertical-align: middle;\n",
       "    }\n",
       "\n",
       "    .dataframe tbody tr th {\n",
       "        vertical-align: top;\n",
       "    }\n",
       "\n",
       "    .dataframe thead th {\n",
       "        text-align: right;\n",
       "    }\n",
       "</style>\n",
       "<table border=\"1\" class=\"dataframe\">\n",
       "  <thead>\n",
       "    <tr style=\"text-align: right;\">\n",
       "      <th></th>\n",
       "      <th>SMILES</th>\n",
       "      <th>IC50</th>\n",
       "      <th>pIC50</th>\n",
       "    </tr>\n",
       "  </thead>\n",
       "  <tbody>\n",
       "    <tr>\n",
       "      <th>0</th>\n",
       "      <td>COC1=NC(=CN=C1CN2CC3(C2)CCC(=O)N3)C4=CC=CC(=C4...</td>\n",
       "      <td>0.080</td>\n",
       "      <td>NaN</td>\n",
       "    </tr>\n",
       "    <tr>\n",
       "      <th>1</th>\n",
       "      <td>COC1=NC(=CN=C1CN2CC(C2)O)C3=CC=CC(=C3F)C4=C(C(...</td>\n",
       "      <td>0.135</td>\n",
       "      <td>9.869666</td>\n",
       "    </tr>\n",
       "    <tr>\n",
       "      <th>2</th>\n",
       "      <td>COC1CN(C1)CC2=NC=C(N=C2OC)C3=CC=CC(=C3F)C4=C(C...</td>\n",
       "      <td>0.318</td>\n",
       "      <td>9.497573</td>\n",
       "    </tr>\n",
       "    <tr>\n",
       "      <th>4</th>\n",
       "      <td>COC1=NC(=CN=C1CNCCO)C2=CC=CC(=C2F)C3=C(C(=CC=C...</td>\n",
       "      <td>0.213</td>\n",
       "      <td>9.671620</td>\n",
       "    </tr>\n",
       "    <tr>\n",
       "      <th>5</th>\n",
       "      <td>COC1=NC(=CN=C1CNC[C@@H]2CCC(=O)N2)C3=CC=CC(=C3...</td>\n",
       "      <td>0.099</td>\n",
       "      <td>10.004365</td>\n",
       "    </tr>\n",
       "    <tr>\n",
       "      <th>...</th>\n",
       "      <td>...</td>\n",
       "      <td>...</td>\n",
       "      <td>...</td>\n",
       "    </tr>\n",
       "    <tr>\n",
       "      <th>652</th>\n",
       "      <td>COC1=NC(=CN=C1CNC[C@@H]2CCC(=O)N2)C3=CC=CC(=C3...</td>\n",
       "      <td>0.121</td>\n",
       "      <td>9.917215</td>\n",
       "    </tr>\n",
       "    <tr>\n",
       "      <th>653</th>\n",
       "      <td>COC1=NC(=CN=C1CNCC2CCNC(=O)C2)C3=CC=CC(=C3Cl)C...</td>\n",
       "      <td>0.135</td>\n",
       "      <td>9.869666</td>\n",
       "    </tr>\n",
       "    <tr>\n",
       "      <th>654</th>\n",
       "      <td>COC1=NC(=CN=C1CNCC2CCNC2=O)C3=CC=CC(=C3Cl)C4=C...</td>\n",
       "      <td>0.064</td>\n",
       "      <td>10.193820</td>\n",
       "    </tr>\n",
       "    <tr>\n",
       "      <th>655</th>\n",
       "      <td>CC1=C(C=CC=C1C2=CN=C(C(=N2)OC)CN3CC4(C3)CN(C4)...</td>\n",
       "      <td>0.082</td>\n",
       "      <td>10.086186</td>\n",
       "    </tr>\n",
       "    <tr>\n",
       "      <th>656</th>\n",
       "      <td>CC(=O)NC[C@@H]1CCN(C1)CC2=NC=C(N=C2OC)C3=CC=CC...</td>\n",
       "      <td>0.281</td>\n",
       "      <td>NaN</td>\n",
       "    </tr>\n",
       "  </tbody>\n",
       "</table>\n",
       "<p>650 rows × 3 columns</p>\n",
       "</div>"
      ],
      "text/plain": [
       "                                                SMILES   IC50      pIC50\n",
       "0    COC1=NC(=CN=C1CN2CC3(C2)CCC(=O)N3)C4=CC=CC(=C4...  0.080        NaN\n",
       "1    COC1=NC(=CN=C1CN2CC(C2)O)C3=CC=CC(=C3F)C4=C(C(...  0.135   9.869666\n",
       "2    COC1CN(C1)CC2=NC=C(N=C2OC)C3=CC=CC(=C3F)C4=C(C...  0.318   9.497573\n",
       "4    COC1=NC(=CN=C1CNCCO)C2=CC=CC(=C2F)C3=C(C(=CC=C...  0.213   9.671620\n",
       "5    COC1=NC(=CN=C1CNC[C@@H]2CCC(=O)N2)C3=CC=CC(=C3...  0.099  10.004365\n",
       "..                                                 ...    ...        ...\n",
       "652  COC1=NC(=CN=C1CNC[C@@H]2CCC(=O)N2)C3=CC=CC(=C3...  0.121   9.917215\n",
       "653  COC1=NC(=CN=C1CNCC2CCNC(=O)C2)C3=CC=CC(=C3Cl)C...  0.135   9.869666\n",
       "654  COC1=NC(=CN=C1CNCC2CCNC2=O)C3=CC=CC(=C3Cl)C4=C...  0.064  10.193820\n",
       "655  CC1=C(C=CC=C1C2=CN=C(C(=N2)OC)CN3CC4(C3)CN(C4)...  0.082  10.086186\n",
       "656  CC(=O)NC[C@@H]1CCN(C1)CC2=NC=C(N=C2OC)C3=CC=CC...  0.281        NaN\n",
       "\n",
       "[650 rows x 3 columns]"
      ]
     },
     "execution_count": 9,
     "metadata": {},
     "output_type": "execute_result"
    }
   ],
   "source": [
    "File2.drop(index = File2[File2['IC50'].isna()].index)"
   ]
  },
  {
   "cell_type": "markdown",
   "metadata": {},
   "source": [
    "### 2. Ex2. Number of compounds that do not have 'pIC50' value"
   ]
  },
  {
   "cell_type": "code",
   "execution_count": 10,
   "metadata": {},
   "outputs": [
    {
     "data": {
      "text/plain": [
       "8"
      ]
     },
     "execution_count": 10,
     "metadata": {},
     "output_type": "execute_result"
    }
   ],
   "source": [
    "File2['pIC50'].isna().sum()"
   ]
  },
  {
   "cell_type": "markdown",
   "metadata": {},
   "source": [
    "### 3. Ex3: Number of columns and rows of File2"
   ]
  },
  {
   "cell_type": "code",
   "execution_count": 11,
   "metadata": {},
   "outputs": [
    {
     "data": {
      "text/plain": [
       "(657, 3)"
      ]
     },
     "execution_count": 11,
     "metadata": {},
     "output_type": "execute_result"
    }
   ],
   "source": [
    "File2.shape"
   ]
  },
  {
   "cell_type": "code",
   "execution_count": 14,
   "metadata": {},
   "outputs": [
    {
     "data": {
      "text/plain": [
       "657"
      ]
     },
     "execution_count": 14,
     "metadata": {},
     "output_type": "execute_result"
    }
   ],
   "source": [
    "# Rows\n",
    "File2.shape[0]"
   ]
  },
  {
   "cell_type": "code",
   "execution_count": 15,
   "metadata": {},
   "outputs": [
    {
     "data": {
      "text/plain": [
       "3"
      ]
     },
     "execution_count": 15,
     "metadata": {},
     "output_type": "execute_result"
    }
   ],
   "source": [
    "# Columns\n",
    "File2.shape[1]"
   ]
  },
  {
   "cell_type": "markdown",
   "metadata": {},
   "source": [
    "### 4. Ex 4. Drop rows and columns in Dataframe"
   ]
  },
  {
   "cell_type": "code",
   "execution_count": 16,
   "metadata": {},
   "outputs": [
    {
     "data": {
      "text/html": [
       "<div>\n",
       "<style scoped>\n",
       "    .dataframe tbody tr th:only-of-type {\n",
       "        vertical-align: middle;\n",
       "    }\n",
       "\n",
       "    .dataframe tbody tr th {\n",
       "        vertical-align: top;\n",
       "    }\n",
       "\n",
       "    .dataframe thead th {\n",
       "        text-align: right;\n",
       "    }\n",
       "</style>\n",
       "<table border=\"1\" class=\"dataframe\">\n",
       "  <thead>\n",
       "    <tr style=\"text-align: right;\">\n",
       "      <th></th>\n",
       "      <th>SMILES</th>\n",
       "      <th>IC50</th>\n",
       "      <th>pIC50</th>\n",
       "    </tr>\n",
       "  </thead>\n",
       "  <tbody>\n",
       "    <tr>\n",
       "      <th>0</th>\n",
       "      <td>COC1=NC(=CN=C1CN2CC3(C2)CCC(=O)N3)C4=CC=CC(=C4...</td>\n",
       "      <td>0.080</td>\n",
       "      <td>NaN</td>\n",
       "    </tr>\n",
       "    <tr>\n",
       "      <th>1</th>\n",
       "      <td>COC1=NC(=CN=C1CN2CC(C2)O)C3=CC=CC(=C3F)C4=C(C(...</td>\n",
       "      <td>0.135</td>\n",
       "      <td>9.869666</td>\n",
       "    </tr>\n",
       "    <tr>\n",
       "      <th>3</th>\n",
       "      <td>CC(=O)N1CC2(C1)CN(C2)CC3=NC=C(N=C3OC)C4=CC=CC(...</td>\n",
       "      <td>NaN</td>\n",
       "      <td>10.065502</td>\n",
       "    </tr>\n",
       "    <tr>\n",
       "      <th>4</th>\n",
       "      <td>COC1=NC(=CN=C1CNCCO)C2=CC=CC(=C2F)C3=C(C(=CC=C...</td>\n",
       "      <td>0.213</td>\n",
       "      <td>9.671620</td>\n",
       "    </tr>\n",
       "    <tr>\n",
       "      <th>5</th>\n",
       "      <td>COC1=NC(=CN=C1CNC[C@@H]2CCC(=O)N2)C3=CC=CC(=C3...</td>\n",
       "      <td>0.099</td>\n",
       "      <td>10.004365</td>\n",
       "    </tr>\n",
       "    <tr>\n",
       "      <th>...</th>\n",
       "      <td>...</td>\n",
       "      <td>...</td>\n",
       "      <td>...</td>\n",
       "    </tr>\n",
       "    <tr>\n",
       "      <th>652</th>\n",
       "      <td>COC1=NC(=CN=C1CNC[C@@H]2CCC(=O)N2)C3=CC=CC(=C3...</td>\n",
       "      <td>0.121</td>\n",
       "      <td>9.917215</td>\n",
       "    </tr>\n",
       "    <tr>\n",
       "      <th>653</th>\n",
       "      <td>COC1=NC(=CN=C1CNCC2CCNC(=O)C2)C3=CC=CC(=C3Cl)C...</td>\n",
       "      <td>0.135</td>\n",
       "      <td>9.869666</td>\n",
       "    </tr>\n",
       "    <tr>\n",
       "      <th>654</th>\n",
       "      <td>COC1=NC(=CN=C1CNCC2CCNC2=O)C3=CC=CC(=C3Cl)C4=C...</td>\n",
       "      <td>0.064</td>\n",
       "      <td>10.193820</td>\n",
       "    </tr>\n",
       "    <tr>\n",
       "      <th>655</th>\n",
       "      <td>CC1=C(C=CC=C1C2=CN=C(C(=N2)OC)CN3CC4(C3)CN(C4)...</td>\n",
       "      <td>0.082</td>\n",
       "      <td>10.086186</td>\n",
       "    </tr>\n",
       "    <tr>\n",
       "      <th>656</th>\n",
       "      <td>CC(=O)NC[C@@H]1CCN(C1)CC2=NC=C(N=C2OC)C3=CC=CC...</td>\n",
       "      <td>0.281</td>\n",
       "      <td>NaN</td>\n",
       "    </tr>\n",
       "  </tbody>\n",
       "</table>\n",
       "<p>656 rows × 3 columns</p>\n",
       "</div>"
      ],
      "text/plain": [
       "                                                SMILES   IC50      pIC50\n",
       "0    COC1=NC(=CN=C1CN2CC3(C2)CCC(=O)N3)C4=CC=CC(=C4...  0.080        NaN\n",
       "1    COC1=NC(=CN=C1CN2CC(C2)O)C3=CC=CC(=C3F)C4=C(C(...  0.135   9.869666\n",
       "3    CC(=O)N1CC2(C1)CN(C2)CC3=NC=C(N=C3OC)C4=CC=CC(...    NaN  10.065502\n",
       "4    COC1=NC(=CN=C1CNCCO)C2=CC=CC(=C2F)C3=C(C(=CC=C...  0.213   9.671620\n",
       "5    COC1=NC(=CN=C1CNC[C@@H]2CCC(=O)N2)C3=CC=CC(=C3...  0.099  10.004365\n",
       "..                                                 ...    ...        ...\n",
       "652  COC1=NC(=CN=C1CNC[C@@H]2CCC(=O)N2)C3=CC=CC(=C3...  0.121   9.917215\n",
       "653  COC1=NC(=CN=C1CNCC2CCNC(=O)C2)C3=CC=CC(=C3Cl)C...  0.135   9.869666\n",
       "654  COC1=NC(=CN=C1CNCC2CCNC2=O)C3=CC=CC(=C3Cl)C4=C...  0.064  10.193820\n",
       "655  CC1=C(C=CC=C1C2=CN=C(C(=N2)OC)CN3CC4(C3)CN(C4)...  0.082  10.086186\n",
       "656  CC(=O)NC[C@@H]1CCN(C1)CC2=NC=C(N=C2OC)C3=CC=CC...  0.281        NaN\n",
       "\n",
       "[656 rows x 3 columns]"
      ]
     },
     "execution_count": 16,
     "metadata": {},
     "output_type": "execute_result"
    }
   ],
   "source": [
    "# Drop rows\n",
    "File2.drop(index=2)"
   ]
  },
  {
   "cell_type": "code",
   "execution_count": 18,
   "metadata": {},
   "outputs": [
    {
     "data": {
      "text/html": [
       "<div>\n",
       "<style scoped>\n",
       "    .dataframe tbody tr th:only-of-type {\n",
       "        vertical-align: middle;\n",
       "    }\n",
       "\n",
       "    .dataframe tbody tr th {\n",
       "        vertical-align: top;\n",
       "    }\n",
       "\n",
       "    .dataframe thead th {\n",
       "        text-align: right;\n",
       "    }\n",
       "</style>\n",
       "<table border=\"1\" class=\"dataframe\">\n",
       "  <thead>\n",
       "    <tr style=\"text-align: right;\">\n",
       "      <th></th>\n",
       "      <th>SMILES</th>\n",
       "      <th>pIC50</th>\n",
       "    </tr>\n",
       "  </thead>\n",
       "  <tbody>\n",
       "    <tr>\n",
       "      <th>0</th>\n",
       "      <td>COC1=NC(=CN=C1CN2CC3(C2)CCC(=O)N3)C4=CC=CC(=C4...</td>\n",
       "      <td>NaN</td>\n",
       "    </tr>\n",
       "    <tr>\n",
       "      <th>1</th>\n",
       "      <td>COC1=NC(=CN=C1CN2CC(C2)O)C3=CC=CC(=C3F)C4=C(C(...</td>\n",
       "      <td>9.869666</td>\n",
       "    </tr>\n",
       "    <tr>\n",
       "      <th>2</th>\n",
       "      <td>COC1CN(C1)CC2=NC=C(N=C2OC)C3=CC=CC(=C3F)C4=C(C...</td>\n",
       "      <td>9.497573</td>\n",
       "    </tr>\n",
       "    <tr>\n",
       "      <th>3</th>\n",
       "      <td>CC(=O)N1CC2(C1)CN(C2)CC3=NC=C(N=C3OC)C4=CC=CC(...</td>\n",
       "      <td>10.065502</td>\n",
       "    </tr>\n",
       "    <tr>\n",
       "      <th>4</th>\n",
       "      <td>COC1=NC(=CN=C1CNCCO)C2=CC=CC(=C2F)C3=C(C(=CC=C...</td>\n",
       "      <td>9.671620</td>\n",
       "    </tr>\n",
       "    <tr>\n",
       "      <th>...</th>\n",
       "      <td>...</td>\n",
       "      <td>...</td>\n",
       "    </tr>\n",
       "    <tr>\n",
       "      <th>652</th>\n",
       "      <td>COC1=NC(=CN=C1CNC[C@@H]2CCC(=O)N2)C3=CC=CC(=C3...</td>\n",
       "      <td>9.917215</td>\n",
       "    </tr>\n",
       "    <tr>\n",
       "      <th>653</th>\n",
       "      <td>COC1=NC(=CN=C1CNCC2CCNC(=O)C2)C3=CC=CC(=C3Cl)C...</td>\n",
       "      <td>9.869666</td>\n",
       "    </tr>\n",
       "    <tr>\n",
       "      <th>654</th>\n",
       "      <td>COC1=NC(=CN=C1CNCC2CCNC2=O)C3=CC=CC(=C3Cl)C4=C...</td>\n",
       "      <td>10.193820</td>\n",
       "    </tr>\n",
       "    <tr>\n",
       "      <th>655</th>\n",
       "      <td>CC1=C(C=CC=C1C2=CN=C(C(=N2)OC)CN3CC4(C3)CN(C4)...</td>\n",
       "      <td>10.086186</td>\n",
       "    </tr>\n",
       "    <tr>\n",
       "      <th>656</th>\n",
       "      <td>CC(=O)NC[C@@H]1CCN(C1)CC2=NC=C(N=C2OC)C3=CC=CC...</td>\n",
       "      <td>NaN</td>\n",
       "    </tr>\n",
       "  </tbody>\n",
       "</table>\n",
       "<p>657 rows × 2 columns</p>\n",
       "</div>"
      ],
      "text/plain": [
       "                                                SMILES      pIC50\n",
       "0    COC1=NC(=CN=C1CN2CC3(C2)CCC(=O)N3)C4=CC=CC(=C4...        NaN\n",
       "1    COC1=NC(=CN=C1CN2CC(C2)O)C3=CC=CC(=C3F)C4=C(C(...   9.869666\n",
       "2    COC1CN(C1)CC2=NC=C(N=C2OC)C3=CC=CC(=C3F)C4=C(C...   9.497573\n",
       "3    CC(=O)N1CC2(C1)CN(C2)CC3=NC=C(N=C3OC)C4=CC=CC(...  10.065502\n",
       "4    COC1=NC(=CN=C1CNCCO)C2=CC=CC(=C2F)C3=C(C(=CC=C...   9.671620\n",
       "..                                                 ...        ...\n",
       "652  COC1=NC(=CN=C1CNC[C@@H]2CCC(=O)N2)C3=CC=CC(=C3...   9.917215\n",
       "653  COC1=NC(=CN=C1CNCC2CCNC(=O)C2)C3=CC=CC(=C3Cl)C...   9.869666\n",
       "654  COC1=NC(=CN=C1CNCC2CCNC2=O)C3=CC=CC(=C3Cl)C4=C...  10.193820\n",
       "655  CC1=C(C=CC=C1C2=CN=C(C(=N2)OC)CN3CC4(C3)CN(C4)...  10.086186\n",
       "656  CC(=O)NC[C@@H]1CCN(C1)CC2=NC=C(N=C2OC)C3=CC=CC...        NaN\n",
       "\n",
       "[657 rows x 2 columns]"
      ]
     },
     "execution_count": 18,
     "metadata": {},
     "output_type": "execute_result"
    }
   ],
   "source": [
    "# Drop columns\n",
    "File2.drop(columns= File2.columns[1])"
   ]
  },
  {
   "cell_type": "markdown",
   "metadata": {},
   "source": [
    "### 5. Ex5. Find compounds that have \"F\"/ \"Cl\" in their structure\n"
   ]
  },
  {
   "cell_type": "code",
   "execution_count": 72,
   "metadata": {},
   "outputs": [
    {
     "name": "stdout",
     "output_type": "stream",
     "text": [
      "['COC1=NC(=CN=C1CN2CC3(C2)CCC(=O)N3)C4=CC=CC(=C4F)C5=C(C(=CC=C5)C6=CN=C(C(=N6)OC)CN7CC8(C7)CCC(=O)N8)Cl', 'COC1=NC(=CN=C1CN2CC(C2)O)C3=CC=CC(=C3F)C4=C(C(=CC=C4)C5=CN=C(C(=N5)OC)CN6CC(C6)O)Cl', 'COC1CN(C1)CC2=NC=C(N=C2OC)C3=CC=CC(=C3F)C4=C(C(=CC=C4)C5=CN=C(C(=N5)OC)CN6CC(C6)OC)Cl', 'CC(=O)N1CC2(C1)CN(C2)CC3=NC=C(N=C3OC)C4=CC=CC(=C4F)C5=C(C(=CC=C5)C6=CN=C(C(=N6)OC)CN7CC8(C7)CN(C8)C(=O)C)Cl', 'COC1=NC(=CN=C1CNCCO)C2=CC=CC(=C2F)C3=C(C(=CC=C3)C4=CN=C(C(=N4)OC)CNCCO)Cl', 'COC1=NC(=CN=C1CNC[C@@H]2CCC(=O)N2)C3=CC=CC(=C3F)C4=C(C(=CC=C4)C5=CN=C(C(=N5)OC)CNC[C@@H]6CCC(=O)N6)Cl', 'COC1=NC(=CN=C1CNC[C@@H]2CCC(=O)N2)C3=CC=CC(=C3Cl)C4=C(C(=CC=C4)C5=CN=C(C(=N5)OC)CNC67CC(C6)(C7)C(F)(F)F)Cl', 'COC1=NC(=CN=C1CNC[C@@H]2CCC(=O)N2)C3=CC=CC(=C3Cl)C4=C(C(=CC=C4)C5=CN=C(C(=N5)OC)CN6C[C@H](C[C@H]6CO)F)Cl', 'COC1=NC(=CN=C1CNC[C@@H]2CCC(=O)N2)C3=CC=CC(=C3Cl)C4=C(C(=CC=C4)C5=CN=C(C(=N5)OC)CNCC(C(F)(F)F)O)Cl', 'CNC1=NC(=CN=C1CN2CC(C2)F)C3=CC=CC(=C3Cl)C4=C(C(=CC=C4)C5=CN=C(C(=N5)NC)CN6CC(C6)F)Cl', 'COC1=NC(=CN=C1CN2CC(C2)F)C3=CC=CC(=C3Cl)C4=C(C(=CC=C4)C5=CN=C(C(=N5)OC)CN6CC(C6)F)Cl', 'COC1=NC(=CN=C1C2=NCC(CN2)(F)F)C3=CC=CC(=C3Cl)C4=C(C(=CC=C4)C5=CN=C(C(=N5)OC)C6=NCC(CN6)(F)F)Cl', 'COC1=NC(=CN=C1CNC[C@@H]2CCC(=O)N2)C3=CC=CC(=C3Cl)C4=C(C(=CC=C4)C5=CN=C(C(=N5)OC)CNC6CCC(C6)F)Cl', 'COC1=NC(=CN=C1CNC[C@@H]2CCC(=O)N2)C3=CC=CC(=C3Cl)C4=C(C(=CC=C4)C5=CN=C(C(=N5)OC)CN[C@@H]6C[C@@H]6F)Cl', 'COC1=NC(=CN=C1CNC[C@@H]2CCC(=O)N2)C3=CC=CC(=C3Cl)C4=C(C(=CC=C4)C5=CN=C(C(=N5)OC)CN[C@@H]6C[C@@H]6C(F)F)Cl', 'CC(C)(C(F)F)NCC1=NC=C(N=C1OC)C2=CC=CC(=C2Cl)C3=C(C(=CC=C3)C4=CN=C(C(=N4)OC)CNC[C@@H]5CCC(=O)N5)Cl', 'COC1=NC(=CN=C1CNC[C@@H]2CCC(=O)N2)C3=CC=CC(=C3Cl)C4=C(C(=CC=C4)C5=CN=C(C(=N5)OC)CNCC(F)F)Cl', 'COC1=NC(=CN=C1CNC[C@@H]2CCC(=O)N2)C3=CC=CC(=C3Cl)C4=C(C(=CC=C4)C5=CN=C(C(=N5)OC)CN6CC(C6)OC(F)F)Cl', 'COC1=NC(=CN=C1CN2CC(C2)(CO)F)C3=CC=CC(=C3Cl)C4=C(C(=CC=C4)C5=CN=C(C(=N5)OC)CN6CC(C6)(CO)F)Cl', 'COC1=NC(=CN=C1CNC[C@@H]2CCC(=O)N2)C3=CC=CC(=C3Cl)C4=C(C(=CC=C4)C5=CN=C(C(=N5)OC)CNC(CCF)CO)Cl', 'COC1=NC(=CN=C1CNC[C@@H]2CCC(=O)N2)C3=CC=CC(=C3Cl)C4=C(C(=CC=C4)C5=CN=C(C(=N5)OC)CNC(CO)CF)Cl', 'COCC(C(F)(F)F)NCC1=NC=C(N=C1OC)C2=CC=CC(=C2Cl)C3=C(C(=CC=C3)C4=CN=C(C(=N4)OC)CNC[C@@H]5CCC(=O)N5)Cl', 'COC1=NC(=CN=C1CNC[C@@H]2CCC(=O)N2)C3=CC=CC(=C3Cl)C4=C(C(=CC=C4)C5=CN=C(C(=N5)OC)CN6CC(C6)(CO)F)Cl', 'COC1=NC(=CN=C1CNC[C@@H]2CCC(=O)N2)C3=CC=CC(=C3Cl)C4=C(C(=CC=C4)C5=CN=C(C(=N5)OC)CN(CCO)CC(F)(F)F)Cl', 'CO[C@@H]1CCN(C[C@@H]1F)CC2=NC=C(N=C2OC)C3=CC=CC(=C3Cl)C4=C(C(=CC=C4)C5=CN=C(C(=N5)OC)CNC[C@@H]6CCC(=O)N6)Cl', 'COC1=NC(=CN=C1CNC[C@@H]2CCC(=O)N2)C3=CC=CC(=C3Cl)C4=C(C(=CC=C4)C5=CN=C(C(=N5)OC)CN6CCCC(C6)(CO)F)Cl', 'COC1=NC(=CN=C1CNC[C@@H]2CCC(=O)N2)C3=CC=CC(=C3Cl)C4=C(C(=CC=C4)C5=CN=C(C(=N5)OC)CN6C[C@H](C[C@H](C6)F)O)Cl', 'COC1=NC(=CN=C1CNC[C@@H]2CCC(=O)N2)C3=CC=CC(=C3Cl)C4=C(C(=CC=C4)C5=CN=C(C(=N5)OC)CN6C[C@@H](C[C@H](C6)F)O)Cl', 'COC1=NC(=CN=C1CNC[C@@H]2CCC(=O)N2)C3=CC=CC(=C3Cl)C4=C(C(=CC=C4)C5=CN=C(C(=N5)OC)CN6C[C@@H]([C@H](C6)F)O)Cl', 'COC1=NC(=CN=C1CNC[C@@H]2CCC(=O)N2)C3=CC=CC(=C3Cl)C4=C(C(=CC=C4)C5=CN=C(C(=N5)OC)CNC6CCC(C6)(F)F)Cl', 'COC1=NC(=CN=C1CNC[C@@H]2CCC(=O)N2)C3=CC=CC(=C3Cl)C4=C(C(=CC=C4)C5=CN=C(C(=N5)OC)CN6CCC[C@H](C6)F)Cl', 'COC1=NC(=CN=C1CNC[C@@H]2CCC(=O)N2)C3=CC=CC(=C3Cl)C4=C(C(=CC=C4)C5=CN=C(C(=N5)OC)CN6CCCC(C6)(F)F)Cl', 'COC1=NC(=CN=C1CNC[C@@H]2CCC(=O)N2)C3=CC=CC(=C3Cl)C4=C(C(=CC=C4)C5=CN=C(C(=N5)OC)CN6CCCC(C6)C(F)F)Cl', 'COC1=NC(=CN=C1CNC[C@@H]2CCC(=O)N2)C3=CC=CC(=C3Cl)C4=C(C(=CC=C4)C5=CN=C(C(=N5)OC)CN6CC[C@@H]([C@H](C6)F)O)Cl', 'COC1=NC(=CN=C1CNC[C@@H]2CCC(=O)N2)C3=CC=CC(=C3Cl)C4=C(C(=CC=C4)C5=CN=C(C(=N5)OC)CN6CC[C@H]([C@H](C6)F)O)Cl', 'COC1=NC(=CN=C1CNC[C@@H]2CCC(=O)N2)C3=CC=CC(=C3Cl)C4=C(C(=CC=C4)C5=CN=C(C(=N5)OC)CN6CC[C@H]([C@@H](C6)F)O)Cl', 'COC1=NC(=CN=C1CNC[C@@H]2CCC(=O)N2)C3=CC=CC(=C3Cl)C4=C(C(=CC=C4)C5=CN=C(C(=N5)OC)CN6CC[C@@H]([C@@H](C6)F)O)Cl', 'COC1=NC(=CN=C1CNC[C@@H]2CCC(=O)N2)C3=CC=CC(=C3Cl)C4=C(C(=CC=C4)C5=CN=C(C(=N5)OC)CN6CCC(CC6)(F)F)Cl', 'COC1=NC(=CN=C1CNC[C@@H]2CCC(=O)N2)C3=CC=CC(=C3Cl)C4=C(C(=CC=C4)C5=CN=C(C(=N5)OC)CNC6CC(C6)F)Cl', 'COC1=NC(=CN=C1CNC[C@@H]2CCC(=O)N2)C3=CC=CC(=C3Cl)C4=C(C(=CC=C4)C5=CN=C(C(=N5)OC)CNC6CC(C6)(F)F)Cl', 'COC1=NC(=CN=C1CNC[C@@H]2CCC(=O)N2)C3=CC=CC(=C3Cl)C4=C(C(=CC=C4)C5=CN=C(C(=N5)OC)CN6CC7(C6)CC(C7)(C(F)(F)F)O)Cl', 'COC1=NC(=CN=C1CNC[C@@H]2C[C@H](C(=O)N2)CC(F)(F)F)C3=CC=CC(=C3Cl)C4=C(C(=CC=C4)C5=CN=C(C(=N5)OC)CNC[C@@H]6C[C@H](C(=O)N6)CC(F)(F)F)Cl', 'COC1=NC(=CN=C1CN2CC3(C2)CC(=O)NC3)C4=CC=CC(=C4F)C5=C(C(=CC=C5)C6=CN=C(C(=N6)OC)CN7CC8(C7)CC(=O)NC8)Br', 'COC1=NC(=CN=C1CN2CC3(C2)CCC(=O)N3)C4=CC=CC(=C4F)C5=C(C(=CC=C5)C6=CN=C(C(=N6)OC)CN7CC8(C7)CCC(=O)N8)Br', 'COC1=NC(=CN=C1CN2CC(C2)O)C3=CC=CC(=C3F)C4=C(C(=CC=C4)C5=CN=C(C(=N5)OC)CN6CC(C6)O)Br', 'COC1=NC(=CN=C1CNC[C@@H]2CCC(=O)N2)C3=CC=CC(=C3F)C4=C(C(=CC=C4)C5=CN=C(C(=N5)OC)CNC[C@@H]6CCC(=O)N6)Br', 'COC1=NC(=CN=C1CNC[C@@H]2CCC(=O)N2)C3=CC(=CC(=C3Cl)C4=C(C(=CC(=C4)F)C5=CN=C(C(=N5)OC)CNC[C@@H]6CCC(=O)N6)Cl)F', 'COC1=NC(=CN=C1CNC[C@@H]2CCC(=O)N2)C3=CC=CC(=C3Cl)C4=C(C(=CC(=C4)F)C5=CN=C(C(=N5)OC)CNC[C@@H]6CCC(=O)N6)Cl', 'COC1=NC(=CN=C1CN2CC(C2)O)C3=CC=CC(=C3Cl)C4=C(C(=CC(=C4)F)C5=CN=C(C(=N5)OC)CN6CC(C6)O)Cl', 'COC1=NC(=CN=C1CNC[C@@H]2CCC(=O)N2)C3=CC=CC(=C3Cl)C4=C(C(=CC=C4)C5=CN=C(C(=N5)OC)CNC6CC(C6)(CF)O)Cl', 'COC1=C(C=CC(=N1)C2=CC=CC(=C2F)C3=C(C(=CC=C3)C4=CN=C(C(=N4)OC)CN5CC6(C5)CC(=O)NC6)Cl)CN7CC8(C7)CC(=O)NC8', 'COC1=C(C=CC(=N1)C2=CC=CC(=C2F)C3=C(C(=CC=C3)C4=CN=C(C(=N4)OC)CNC[C@@H]5CCC(=O)N5)Cl)CNC[C@@H]6CCC(=O)N6', 'COC1=NC(=CN=C1CNC[C@@H]2CCC(=O)N2)C3=CC=CC(=C3Cl)C4=C(C(=CC=C4)C5=CN=C(C(=N5)OC)CNC6CC(C6)OC(F)F)Cl', 'COC1=C(C=CC(=N1)C2=CC=CC(=C2Cl)C3=C(C(=CC=C3)C4=CN=C(C(=N4)OC)CNC[C@@H]5CCC(=O)N5)F)CNC[C@@H]6CCC(=O)N6', 'COC1=C(C=CC(=N1)C2=CC=CC(=C2Cl)C3=C(C(=CC=C3)C4=CN=C(C(=N4)OC)CNCCO)F)CNCCO', 'COC1=C(C=CC(=N1)C2=CC=CC(=C2Cl)C3=C(C(=CC=C3)C4=CN=C(C(=N4)OC)CN5CC[C@H](C5)CO)F)CN6CC[C@H](C6)CO', 'CC(=O)N1CC2(C1)CN(C2)CC3=C(N=C(C=C3)C4=CC=CC(=C4Cl)C5=C(C(=CC=C5)C6=CN=C(C(=N6)OC)CN7CC8(C7)CN(C8)C(=O)C)F)OC', 'COC1=C(C=CC(=N1)C2=CC=CC(=C2Cl)C3=C(C(=CC=C3)C4=CN=C(C(=N4)OC)CN5CC6(C5)CCC(=O)N6)F)CN7CC8(C7)CCC(=O)N8', 'COC1=C(C=CC(=N1)C2=CC=CC(=C2Cl)C3=C(C(=CC=C3)C4=CN=C(C(=N4)OC)CN5CC(C5)O)F)CN6CC(C6)O', 'COC1=C(C=CC(=N1)C2=CC=CC(=C2F)C3=C(C(=CC=C3)C4=CN=C(C(=N4)OC)CN5CC6(C5)CCC(=O)N6)Cl)CN7CC8(C7)CCC(=O)N8', 'CC1=CC(=NC(=C1CN2CC3(C2)CCC(=O)N3)OC)C4=CC=CC(=C4F)C5=C(C(=CC=C5)C6=CN=C(C(=N6)OC)CN7CC8(C7)CCC(=O)N8)Cl', 'CC1=CC(=NC(=C1CN2CC3(C2)CC(=O)NC3)OC)C4=CC=CC(=C4F)C5=C(C(=CC=C5)C6=CN=C(C(=N6)OC)CN7CC8(C7)CC(=O)NC8)Cl']\n",
      "63\n"
     ]
    }
   ],
   "source": [
    "F_SMILES = []\n",
    "count_F=0\n",
    "for i in File2['SMILES']:\n",
    "    for j in i:\n",
    "        if j == 'F':\n",
    "            count_F = count+1\n",
    "            F_SMILES.append(i)\n",
    "            break\n",
    "print(F_SMILES)\n",
    "print(count_F)"
   ]
  },
  {
   "cell_type": "code",
   "execution_count": 74,
   "metadata": {},
   "outputs": [
    {
     "name": "stdout",
     "output_type": "stream",
     "text": [
      "['COC1=NC(=CN=C1CN2CC3(C2)CCC(=O)N3)C4=CC=CC(=C4F)C5=C(C(=CC=C5)C6=CN=C(C(=N6)OC)CN7CC8(C7)CCC(=O)N8)Cl', 'COC1=NC(=CN=C1CN2CC(C2)O)C3=CC=CC(=C3F)C4=C(C(=CC=C4)C5=CN=C(C(=N5)OC)CN6CC(C6)O)Cl', 'COC1CN(C1)CC2=NC=C(N=C2OC)C3=CC=CC(=C3F)C4=C(C(=CC=C4)C5=CN=C(C(=N5)OC)CN6CC(C6)OC)Cl', 'CC(=O)N1CC2(C1)CN(C2)CC3=NC=C(N=C3OC)C4=CC=CC(=C4F)C5=C(C(=CC=C5)C6=CN=C(C(=N6)OC)CN7CC8(C7)CN(C8)C(=O)C)Cl', 'COC1=NC(=CN=C1CNCCO)C2=CC=CC(=C2F)C3=C(C(=CC=C3)C4=CN=C(C(=N4)OC)CNCCO)Cl', 'COC1=NC(=CN=C1CNC[C@@H]2CCC(=O)N2)C3=CC=CC(=C3F)C4=C(C(=CC=C4)C5=CN=C(C(=N5)OC)CNC[C@@H]6CCC(=O)N6)Cl', 'COC1=NC(=CN=C1CNC[C@@H]2CCC(=O)N2)C3=CC=CC(=C3Cl)C4=C(C(=CC=C4)C5=CN=C(C(=N5)OC)CNC67CC(C6)(C7)C#N)Cl', 'COC1=NC(=CN=C1CNC[C@@H]2CCC(=O)N2)C3=CC=CC(=C3Cl)C4=C(C(=CC=C4)C5=CN=C(C(=N5)OC)CNC67CC(C6)(C7)OC)Cl', 'CC1(CN(C1)CC2=NC=C(N=C2OC)C3=CC=CC(=C3Cl)C4=C(C(=CC=C4)C5=CN=C(C(=N5)OC)CNC[C@@H]6CCC(=O)N6)Cl)C#N', 'COC1=NC(=CN=C1CNC[C@@H]2CCC(=O)N2)C3=CC=CC(=C3Cl)C4=C(C(=CC=C4)C5=CN=C(C(=N5)OC)CN6CC(C6)C#N)Cl', 'COC1=NC(=CN=C1CNC[C@@H]2CCC(=O)N2)C3=CC=CC(=C3Cl)C4=C(C(=CC=C4)C5=CN=C(C(=N5)OC)CN[C@@H]6COC[C@H]6O)Cl', 'COC1=NC(=CN=C1CNC[C@@H]2CCC(=O)N2)C3=CC=CC(=C3Cl)C4=C(C(=CC=C4)C5=CN=C(C(=N5)OC)CNC67CC(C6)C7)Cl', 'COC1=NC(=CN=C1CNC[C@@H]2CCC(=O)N2)C3=CC=CC(=C3Cl)C4=C(C(=CC=C4)C5=CN=C(C(=N5)OC)CN6CC(C6)C(=O)N)Cl', 'COC1=NC(=CN=C1CNC[C@@H]2CCC(=O)N2)C3=CC=CC(=C3Cl)C4=C(C(=CC=C4)C5=CN=C(C(=N5)OC)CN6CC(C6)N7CCCC7=O)Cl', 'COC1=NC(=CN=C1CNC[C@@H]2CCC(=O)N2)C3=CC=CC(=C3Cl)C4=C(C(=CC=C4)C5=CN=C(C(=N5)OC)CNC67CC(C6)(C7)C(F)(F)F)Cl', 'CC1(CN(C1)CC2=NC=C(N=C2OC)C3=CC=CC(=C3Cl)C4=C(C(=CC=C4)C5=CN=C(C(=N5)OC)CNC[C@@H]6CCC(=O)N6)Cl)O', 'CC(=O)N1CCC[C@@H]1CNCC2=NC=C(N=C2OC)C3=CC=CC(=C3Cl)C4=C(C(=CC=C4)C5=CN=C(C(=N5)OC)CNC[C@@H]6CCC(=O)N6)Cl', 'CC(=O)N1CCC[C@H]1CNCC2=NC=C(N=C2OC)C3=CC=CC(=C3Cl)C4=C(C(=CC=C4)C5=CN=C(C(=N5)OC)CNC[C@@H]6CCC(=O)N6)Cl', 'CNC(=O)[C@@H]1CCCN1CC2=NC=C(N=C2OC)C3=CC=CC(=C3Cl)C4=C(C(=CC=C4)C5=CN=C(C(=N5)OC)CNC[C@@H]6CCC(=O)N6)Cl', 'CNC(=O)[C@H]1CCCN1CC2=NC=C(N=C2OC)C3=CC=CC(=C3Cl)C4=C(C(=CC=C4)C5=CN=C(C(=N5)OC)CNC[C@@H]6CCC(=O)N6)Cl', 'COC[C@H]1CCCN1CC2=NC=C(N=C2OC)C3=CC=CC(=C3Cl)C4=C(C(=CC=C4)C5=CN=C(C(=N5)OC)CNC[C@@H]6CCC(=O)N6)Cl', 'COC[C@@H]1CCCN1CC2=NC=C(N=C2OC)C3=CC=CC(=C3Cl)C4=C(C(=CC=C4)C5=CN=C(C(=N5)OC)CNC[C@@H]6CCC(=O)N6)Cl', 'COC1=NC(=CN=C1CNC[C@@H]2CCC(=O)N2)C3=CC=CC(=C3Cl)C4=C(C(=CC=C4)C5=CN=C(C(=N5)OC)CN6CCC[C@@H]6CO)Cl', 'COC1=NC(=CN=C1CNC[C@@H]2CCC(=O)N2)C3=CC=CC(=C3Cl)C4=C(C(=CC=C4)C5=CN=C(C(=N5)OC)CN6CCC[C@H]6CO)Cl', 'COC1=NC(=CN=C1CNCCOC(=O)N)C2=CC=CC(=C2Cl)C3=C(C(=CC=C3)C4=CN=C(C(=N4)OC)CNC[C@@H]5CCC(=O)N5)Cl', 'COC1=NC(=CN=C1CNC[C@@H]2CCC(=O)N2)C3=CC=CC(=C3Cl)C4=C(C(=CC=C4)C5=CN=C(C(=N5)OC)CNCC6=CN(N=C6)CCO)Cl', 'CN1C=CC(=N1)CNCC2=NC=C(N=C2OC)C3=CC=CC(=C3Cl)C4=C(C(=CC=C4)C5=CN=C(C(=N5)OC)CNC[C@@H]6CCC(=O)N6)Cl', 'COC1=NC(=CN=C1CNC[C@@H]2CCC(=O)N2)C3=CC=CC(=C3Cl)C4=C(C(=CC=C4)C5=CN=C(C(=N5)OC)CNCC6=NC=NN6)Cl', 'CC1=NC(=NN1)CNCC2=NC=C(N=C2OC)C3=CC=CC(=C3Cl)C4=C(C(=CC=C4)C5=CN=C(C(=N5)OC)CNCC6=NNC(=N6)C)Cl', 'CN1C=CC(=N1)CNCC2=NC=C(N=C2OC)C3=CC=CC(=C3Cl)C4=C(C(=CC=C4)C5=CN=C(C(=N5)OC)CNCC6=NN(C=C6)C)Cl', 'CCN1C=C(C=N1)CNCC2=NC=C(N=C2OC)C3=CC=CC(=C3Cl)C4=C(C(=CC=C4)C5=CN=C(C(=N5)OC)CNCC6=CN(N=C6)CC)Cl', 'CCN1C=C(N=N1)CNCC2=NC=C(N=C2OC)C3=CC=CC(=C3Cl)C4=C(C(=CC=C4)C5=CN=C(C(=N5)OC)CNC[C@@H]6CCC(=O)N6)Cl', 'COC1=NC(=CN=C1CNCCC2=NNN=C2)C3=CC=CC(=C3Cl)C4=C(C(=CC=C4)C5=CN=C(C(=N5)OC)CNC[C@@H]6CCC(=O)N6)Cl', 'CN1C(=CC=N1)CNCC2=NC=C(N=C2OC)C3=CC=CC(=C3Cl)C4=C(C(=CC=C4)C5=CN=C(C(=N5)OC)CNC[C@@H]6CCC(=O)N6)Cl', 'COC1=NC(=CN=C1CNC[C@@H]2CCC(=O)N2)C3=CC=CC(=C3Cl)C4=C(C(=CC=C4)C5=CN=C(C(=N5)OC)CNCC6=NNN=C6)Cl', 'COC1=NC(=CN=C1CNC[C@@H]2CCC(=O)N2)C3=CC=CC(=C3Cl)C4=C(C(=CC=C4)C5=CN=C(C(=N5)OC)CN6C[C@H](CCC6=O)N)Cl', 'COC1=NC(=CN=C1CNCCNC2=CC=C(C=C2)[N+](=O)[O-])C3=CC=CC(=C3Cl)C4=C(C(=CC=C4)C5=CN=C(C(=N5)OC)CNC[C@@H]6CCC(=O)N6)Cl', 'COC1=NC(=CN=C1CNC[C@@H]2CCC(=O)N2)C3=CC=CC(=C3Cl)C4=C(C(=CC=C4)C5=CN=C(C(=N5)OC)CNC(CO)C6=NNN=N6)Cl', 'COC1=NC(=CN=C1CNC[C@@H]2CCC(=O)N2)C3=CC=CC(=C3Cl)C4=C(C(=CC=C4)C5=CN=C(C(=N5)OC)CN[C@H]6CCNC6=O)Cl', 'COC1=NC(=CN=C1CNC[C@@H]2CCC(=O)N2)C3=CC=CC(=C3Cl)C4=C(C(=CC=C4)C5=CN=C(C(=N5)OC)CN6C[C@H](C[C@H]6CO)F)Cl', 'COC1=NC(=CN=C1CNC[C@@H]2CCC(=O)N2)C3=CC=CC(=C3Cl)C4=C(C(=CC=C4)C5=CN=C(C(=N5)OC)CN6CCNC(=O)C6)Cl', 'COC1=NC(=CN=C1CNCCS(=O)(=O)O)C2=CC=CC(=C2Cl)C3=C(C(=CC=C3)C4=CN=C(C(=N4)OC)CNC[C@@H]5CCC(=O)N5)Cl', 'COC1=NC(=CN=C1CNCCS(=O)(=O)N)C2=CC=CC(=C2Cl)C3=C(C(=CC=C3)C4=CN=C(C(=N4)OC)CNC[C@@H]5CCC(=O)N5)Cl', 'COC1=NC(=CN=C1CNCCNC(=O)N)C2=CC=CC(=C2Cl)C3=C(C(=CC=C3)C4=CN=C(C(=N4)OC)CNC[C@@H]5CCC(=O)N5)Cl', 'COC1=NC(=CN=C1CNCCC(=O)N)C2=CC=CC(=C2Cl)C3=C(C(=CC=C3)C4=CN=C(C(=N4)OC)CNC[C@@H]5CCC(=O)N5)Cl', 'CN(C)CC1=NC=C(N=C1OC)C2=CC=CC(=C2Cl)C3=C(C(=CC=C3)C4=CN=C(C(=N4)OC)CNC[C@@H]5CCC(=O)N5)Cl', 'COC1=NC(=CN=C1CNC[C@@H]2CCC(=O)N2)C3=CC=CC(=C3Cl)C4=C(C(=CC=C4)C5=CN=C(C(=N5)OC)CNCC(C(F)(F)F)O)Cl', 'CCN(CCC1=CNN=C1)CC2=NC=C(N=C2OC)C3=CC=CC(=C3Cl)C4=C(C(=CC=C4)C5=CN=C(C(=N5)OC)CNC[C@@H]6CCC(=O)N6)Cl', 'COC1=NC(=CN=C1CNCCC2=CNN=C2)C3=CC=CC(=C3Cl)C4=C(C(=CC=C4)C5=CN=C(C(=N5)OC)CNC[C@@H]6CCC(=O)N6)Cl', 'COC1=NC(=CN=C1CNC[C@@H]2CCC(=O)N2)C3=CC=CC(=C3Cl)C4=C(C(=CC=C4)C5=CN=C(C(=N5)OC)CN6CC7(C6)CNC(=O)O7)Cl', 'CN(CC1=NC=C(N=C1OC)C2=CC=CC(=C2Cl)C3=C(C(=CC=C3)C4=CN=C(C(=N4)OC)CNC[C@@H]5CCC(=O)N5)Cl)CC(=O)N', 'COC1=NC(=CN=C1CNC[C@@H]2CCC(=O)N2)C3=CC=CC(=C3Cl)C4=C(C(=CC=C4)C5=CN=C(C(=N5)OC)CN6CC7CC7(C6)CO)Cl', 'COC1=NC(=CN=C1CNC[C@@H]2CCC(=O)N2)C3=CC=CC(=C3Cl)C4=C(C(=CC=C4)C5=CN=C(C(=N5)OC)CN6CC7CC6(C7)CO)Cl', 'COC1=NC(=CN=C1CNC[C@H]2CCC[C@@H]2O)C3=CC=CC(=C3Cl)C4=C(C(=CC=C4)C5=CN=C(C(=N5)OC)CNC[C@@H]6CCC(=O)N6)Cl', 'COC1=NC(=CN=C1CNC[C@H]2CCC[C@@H]2O)C3=CC=CC(=C3Cl)C4=C(C(=CC=C4)C5=CN=C(C(=N5)OC)CNC[C@@H]6CCC(=O)N6)Cl', 'COC1=NC(=CN=C1CNC[C@@H]2CCC(=O)N2)C3=CC=CC(=C3Cl)C4=C(C(=CC=C4)C5=CN=C(C(=N5)OC)CNCC6CCCCO6)Cl', 'COC1=NC(=CN=C1CNC[C@@H]2CCC(=O)N2)C3=CC=CC(=C3Cl)C4=C(C(=CC=C4)C5=CN=C(C(=N5)OC)CNCC6CCC(O6)C(=O)N)Cl', 'CNC1=NC(=CN=C1CNCC2CC(C2)O)C3=CC=CC(=C3Cl)C4=C(C(=CC=C4)C5=CN=C(C(=N5)NC)CNCC6CC(C6)O)Cl', 'CNC1=NC(=CN=C1CN)C2=CC=CC(=C2Cl)C3=C(C(=CC=C3)C4=CN=C(C(=N4)NC)CN)Cl', 'CC(=O)N1CC2(C1)CN(C2)CC3=NC=C(N=C3NC)C4=CC=CC(=C4Cl)C5=C(C(=CC=C5)C6=CN=C(C(=N6)OC)CN7CC8(C7)CN(C8)C(=O)C)Cl', 'CNC1=NC(=CN=C1CN2CC(C2)O)C3=CC=CC(=C3Cl)C4=C(C(=CC=C4)C5=CN=C(C(=N5)OC)CN6CC(C6)O)Cl', 'CNC1=NC(=CN=C1CN2CC3(C2)CC(=O)NC3)C4=CC=CC(=C4Cl)C5=C(C(=CC=C5)C6=CN=C(C(=N6)OC)CN7CC8(C7)CC(=O)NC8)Cl', 'CNC1=NC(=CN=C1CN2CC3(C2)CCC(=O)N3)C4=CC=CC(=C4Cl)C5=C(C(=CC=C5)C6=CN=C(C(=N6)OC)CN7CC8(C7)CCC(=O)N8)Cl', 'CNC1=NC(=CN=C1CNC[C@@H]2CCC(=O)N2)C3=CC=CC(=C3Cl)C4=C(C(=CC=C4)C5=CN=C(C(=N5)OC)CNC[C@@H]6CCC(=O)N6)Cl', 'CCNC1=NC(=CN=C1CN2CC3(C2)CN(C3)C(=O)C)C4=CC=CC(=C4Cl)C5=C(C(=CC=C5)C6=CN=C(C(=N6)NCC)CN7CC8(C7)CN(C8)C(=O)C)Cl', 'CCNC1=NC(=CN=C1CN2CC(C2)O)C3=CC=CC(=C3Cl)C4=C(C(=CC=C4)C5=CN=C(C(=N5)NCC)CN6CC(C6)O)Cl', 'CCNC1=NC(=CN=C1CN2CC3(C2)CC(=O)NC3)C4=CC=CC(=C4Cl)C5=C(C(=CC=C5)C6=CN=C(C(=N6)NCC)CN7CC8(C7)CC(=O)NC8)Cl', 'CCNC1=NC(=CN=C1CN2CC3(C2)CCC(=O)N3)C4=CC=CC(=C4Cl)C5=C(C(=CC=C5)C6=CN=C(C(=N6)NCC)CN7CC8(C7)CCC(=O)N8)Cl', 'CNC1=NC(=CN=C1CN2CC(C2)F)C3=CC=CC(=C3Cl)C4=C(C(=CC=C4)C5=CN=C(C(=N5)NC)CN6CC(C6)F)Cl', 'CNC1=NC(=CN=C1CN2CCCC2)C3=CC=CC(=C3Cl)C4=C(C(=CC=C4)C5=CN=C(C(=N5)NC)CN6CCCC6)Cl', 'CNC1=NC(=CN=C1CN(C)C)C2=CC=CC(=C2Cl)C3=C(C(=CC=C3)C4=CN=C(C(=N4)NC)CN(C)C)Cl', 'CNC1=NC(=CN=C1CN2CCC2)C3=CC=CC(=C3Cl)C4=C(C(=CC=C4)C5=CN=C(C(=N5)NC)CN6CCC6)Cl', 'CNCC1=NC=C(N=C1NC)C2=CC=CC(=C2Cl)C3=C(C(=CC=C3)C4=CN=C(C(=N4)NC)CN5CCC5)Cl', 'CNCC1=NC=C(N=C1NC)C2=CC=CC(=C2Cl)C3=C(C(=CC=C3)C4=CN=C(C(=N4)NC)CNC)Cl', 'CNC1=NC(=CN=C1CN2CC(C2)OC)C3=CC=CC(=C3Cl)C4=C(C(=CC=C4)C5=CN=C(C(=N5)NC)CN6CC(C6)OC)Cl', 'CC(=O)N1CC2(C1)CN(C2)CC3=NC=C(N=C3NC)C4=CC=CC(=C4Cl)C5=C(C(=CC=C5)C6=CN=C(C(=N6)NC)CN7CC8(C7)CN(C8)C(=O)C)Cl', 'CNC1=NC(=CN=C1CN2CC(C2)O)C3=CC=CC(=C3Cl)C4=C(C(=CC=C4)C5=CN=C(C(=N5)NC)CN6CC(C6)O)Cl', 'CNC1=NC(=CN=C1CN2CC3(C2)CC(=O)NC3)C4=CC=CC(=C4Cl)C5=C(C(=CC=C5)C6=CN=C(C(=N6)NC)CN7CC8(C7)CC(=O)NC8)Cl', 'CNC1=NC(=CN=C1CN2CC3(C2)CCC(=O)N3)C4=CC=CC(=C4Cl)C5=C(C(=CC=C5)C6=CN=C(C(=N6)NC)CN7CC8(C7)CCC(=O)N8)Cl', 'CNC1=NC(=CN=C1CNC[C@@H]2CCC(=O)N2)C3=CC=CC(=C3Cl)C4=C(C(=CC=C4)C5=CN=C(C(=N5)NC)CNC[C@@H]6CCC(=O)N6)Cl', 'C1C(CN1CC2=CN=C(C=N2)C3=CC=CC(=C3Cl)C4=C(C(=CC=C4)C5=NC=C(N=C5)CN6CC(C6)O)Cl)O', 'CCC1=NC(=CN=C1CN2CC(C2)O)C3=CC=CC(=C3Cl)C4=C(C(=CC=C4)C5=CN=C(C(=N5)CC)CN6CC(C6)O)Cl', 'CCC1=NC(=CN=C1CN2CC3(C2)CC(=O)NC3)C4=CC=CC(=C4Cl)C5=C(C(=CC=C5)C6=CN=C(C(=N6)CC)CN7CC8(C7)CC(=O)NC8)Cl', 'CCC1=NC(=CN=C1CN2CC3(C2)CCC(=O)N3)C4=CC=CC(=C4Cl)C5=C(C(=CC=C5)C6=CN=C(C(=N6)CC)CN7CC8(C7)CCC(=O)N8)Cl', 'CCC1=NC(=CN=C1CNC[C@@H]2CCC(=O)N2)C3=CC=CC(=C3Cl)C4=C(C(=CC=C4)C5=CN=C(C(=N5)CC)CNC[C@@H]6CCC(=O)N6)Cl', 'COC1=NC(=CN=C1CNC23CC(C2)C3)C4=CC=CC(=C4Cl)C5=C(C(=CC=C5)C6=CN=C(C(=N6)OC)CNC78CC(C7)C8)Cl', 'COC1CN(C1)CC2=NC=C(N=C2SC)C3=CC=CC(=C3Cl)C4=C(C(=CC=C4)C5=CN=C(C(=N5)SC)CN6CC(C6)OC)Cl', 'CSC1=NC(=CN=C1CN2CC(C2)O)C3=CC=CC(=C3Cl)C4=C(C(=CC=C4)C5=CN=C(C(=N5)SC)CN6CC(C6)O)Cl', 'CSC1=NC(=CN=C1CN2CC3(C2)CC(=O)NC3)C4=CC=CC(=C4Cl)C5=C(C(=CC=C5)C6=CN=C(C(=N6)SC)CN7CC8(C7)CC(=O)NC8)Cl', 'CSC1=NC(=CN=C1CN2CC3(C2)CCC(=O)N3)C4=CC=CC(=C4Cl)C5=C(C(=CC=C5)C6=CN=C(C(=N6)SC)CN7CC8(C7)CCC(=O)N8)Cl', 'CSC1=NC(=CN=C1CNC[C@@H]2CCC(=O)N2)C3=CC=CC(=C3Cl)C4=C(C(=CC=C4)C5=CN=C(C(=N5)SC)CNC[C@@H]6CCC(=O)N6)Cl', 'CC1=NC(=CN=C1CN2CC(C2)OC)C3=CC=CC(=C3Cl)C4=C(C(=CC=C4)C5=CN=C(C(=N5)C)CN6CC(C6)OC)Cl', 'CC1=NC(=CN=C1CN2CC(C2)O)C3=CC=CC(=C3Cl)C4=C(C(=CC=C4)C5=CN=C(C(=N5)C)CN6CC(C6)O)Cl', 'CC1=NC(=CN=C1CN2CC3(C2)CC(=O)NC3)C4=CC=CC(=C4Cl)C5=C(C(=CC=C5)C6=CN=C(C(=N6)C)CN7CC8(C7)CC(=O)NC8)Cl', 'CC1=NC(=CN=C1CN2CC3(C2)CCC(=O)N3)C4=CC=CC(=C4Cl)C5=C(C(=CC=C5)C6=CN=C(C(=N6)C)CN7CC8(C7)CCC(=O)N8)Cl', 'CC1=NC(=CN=C1CNC[C@@H]2CCC(=O)N2)C3=CC=CC(=C3Cl)C4=C(C(=CC=C4)C5=CN=C(C(=N5)C)CNC[C@@H]6CCC(=O)N6)Cl', 'CN(C)C1=NC(=CN=C1CN2CC(C2)OC)C3=CC=CC(=C3Cl)C4=C(C(=CC=C4)C5=CN=C(C(=N5)N(C)C)CN6CC(C6)OC)Cl', 'CN(C)C1=NC(=CN=C1CN2CC(C2)OC)C3=CC=CC(=C3Cl)C4=C(C(=CC=C4)C5=CN=C(C(=N5)Cl)CN6CC(C6)OC)Cl', 'CN(C)C1=NC(=CN=C1CN2CC(C2)O)C3=CC=CC(=C3Cl)C4=C(C(=CC=C4)C5=CN=C(C(=N5)N(C)C)CN6CC(C6)O)Cl', 'CN(C)C1=NC(=CN=C1CN2CC(C2)O)C3=CC=CC(=C3Cl)C4=C(C(=CC=C4)C5=CN=C(C(=N5)Cl)CN6CC(C6)O)Cl', 'CN(C)C1=NC(=CN=C1CN2CC3(C2)CC(=O)NC3)C4=CC=CC(=C4Cl)C5=C(C(=CC=C5)C6=CN=C(C(=N6)N(C)C)CN7CC8(C7)CC(=O)NC8)Cl', 'CN(C)C1=NC(=CN=C1CN2CC3(C2)CC(=O)NC3)C4=CC=CC(=C4Cl)C5=C(C(=CC=C5)C6=CN=C(C(=N6)Cl)CN7CC8(C7)CC(=O)NC8)Cl', 'CN(C)C1=NC(=CN=C1CN2CC3(C2)CCC(=O)N3)C4=CC=CC(=C4Cl)C5=C(C(=CC=C5)C6=CN=C(C(=N6)N(C)C)CN7CC8(C7)CCC(=O)N8)Cl', 'CN(C)C1=NC(=CN=C1CN2CC3(C2)CCC(=O)N3)C4=CC=CC(=C4Cl)C5=C(C(=CC=C5)C6=CN=C(C(=N6)Cl)CN7CC8(C7)CCC(=O)N8)Cl', 'CN(C)C1=NC(=CN=C1CNC[C@@H]2CCC(=O)N2)C3=CC=CC(=C3Cl)C4=C(C(=CC=C4)C5=CN=C(C(=N5)N(C)C)CNC[C@@H]6CCC(=O)N6)Cl', 'CN(C)C1=NC(=CN=C1CNC[C@@H]2CCC(=O)N2)C3=CC=CC(=C3Cl)C4=C(C(=CC=C4)C5=CN=C(C(=N5)Cl)CNC[C@@H]6CCC(=O)N6)Cl', 'COC1CN(C1)CC2=NC=C(N=C2Cl)C3=CC=CC(=C3Cl)C4=C(C(=CC=C4)C5=CN=C(C(=N5)Cl)CN6CC(C6)OC)Cl', 'C1C(CN1CC2=NC=C(N=C2Cl)C3=CC=CC(=C3Cl)C4=C(C(=CC=C4)C5=CN=C(C(=N5)Cl)CN6CC(C6)O)Cl)O', 'C1C(=O)NCC12CN(C2)CC3=NC=C(N=C3Cl)C4=CC=CC(=C4Cl)C5=C(C(=CC=C5)C6=CN=C(C(=N6)Cl)CN7CC8(C7)CC(=O)NC8)Cl', 'C1CC2(CN(C2)CC3=NC=C(N=C3Cl)C4=CC=CC(=C4Cl)C5=C(C(=CC=C5)C6=CN=C(C(=N6)Cl)CN7CC8(C7)CCC(=O)N8)Cl)NC1=O', 'C1CC(=O)N[C@@H]1CNCC2=NC=C(N=C2Cl)C3=CC=CC(=C3Cl)C4=C(C(=CC=C4)C5=CN=C(C(=N5)Cl)CNC[C@@H]6CCC(=O)N6)Cl', 'COC1=C(C=CC(=N1)C2=CC=CC(=C2Cl)C3=C(C(=CC=C3)C4=CN=C(C(=N4)OC)CN5CC6(C5)CC(=O)NC6)Cl)C7=NCCN7', 'COC1=C(C=CC(=N1)C2=CC=CC(=C2Cl)C3=C(C(=CC=C3)C4=CN=C(C(=N4)OC)CN5CC6(C5)CCC(=O)N6)Cl)C7=NCCN7', 'COC1=C(C=CC(=N1)C2=CC=CC(=C2Cl)C3=C(C(=CC=C3)C4=CN=C(C(=N4)OC)CN5CC(C5)O)Cl)C6=NCCN6', 'COC1=C(C=CC(=N1)C2=CC=CC(=C2Cl)C3=C(C(=CC=C3)C4=CN=C(C(=N4)OC)CNC[C@@H]5CCC(=O)N5)Cl)C6=NCCN6', 'COC1=NC(=CN=C1CN2CC(C2)F)C3=CC=CC(=C3Cl)C4=C(C(=CC=C4)C5=CN=C(C(=N5)OC)CN6CC(C6)F)Cl', 'COC1=NC(=CN=C1C2=NCC(CN2)(F)F)C3=CC=CC(=C3Cl)C4=C(C(=CC=C4)C5=CN=C(C(=N5)OC)C6=NCC(CN6)(F)F)Cl', 'COC1=NC(=CN=C1CN2CC3(C2)CC(=O)NC3)C4=CC=CC(=C4Cl)C5=C(C(=CC=C5)C6=CN=C(C(=N6)OC)CN7CC8(C7)CC(=O)NC8)Cl', 'C[C@H]1CN=C(N1)C2=NC=C(N=C2OC)C3=CC=CC(=C3Cl)C4=C(C(=CC=C4)C5=CN=C(C(=N5)OC)C6=NC[C@@H](N6)C)Cl', 'COC1=C(C=CC(=C1)C2=C(C(=CC=C2)C3=C(C(=CC=C3)C4=CN=C(C(=N4)OC)CN)Cl)Cl)CN', 'COC1=C(C=CC(=C1)C2=C(C(=CC=C2)C3=C(C(=CC=C3)C4=CN=C(C(=N4)OC)CN5CC6(C5)CC(=O)NC6)Cl)Cl)CN7CC8(C7)CC(=O)NC8', 'COC1=C(C=CC(=C1)C2=C(C(=CC=C2)C3=C(C(=CC=C3)C4=CN=C(C(=N4)OC)CN5CC6(C5)CCC(=O)N6)Cl)Cl)CN7CC8(C7)CCC(=O)N8', 'COC1=C(C=CC(=C1)C2=C(C(=CC=C2)C3=C(C(=CC=C3)C4=CN=C(C(=N4)OC)CNC[C@@H]5CCC(=O)N5)Cl)Cl)CNC[C@@H]6CCC(=O)N6', 'COC1=C(C=CC(=N1)C2=CC=CC(=C2Cl)C3=C(C(=CC=C3)C4=CN=C(C(=N4)OC)CNC[C@@H]5CCC(=O)N5)Cl)CNC[C@@H]6CCC(=O)N6', 'CC1(CN=C(N1)C2=NC=C(N=C2OC)C3=CC=CC(=C3Cl)C4=C(C(=CC=C4)C5=CN=C(C(=N5)OC)C6=NCC(N6)(C)C)Cl)C', 'COC1=NC(=CN=C1C2=NCC(CN2)O)C3=CC=CC(=C3Cl)C4=C(C(=CC=C4)C5=CN=C(C(=N5)OC)C6=NCC(CN6)O)Cl', 'C[C@@H]1CN=C(N1)C2=NC=C(N=C2OC)C3=CC=CC(=C3Cl)C4=C(C(=CC=C4)C5=CN=C(C(=N5)OC)C6=NC[C@H](N6)C)Cl', 'COC1=NC(=CN=C1CN2CC[C@H](C2)O)C3=CC=CC(=C3Cl)C4=C(C(=CC=C4)C5=CN=C(C(=N5)OC)CN6CC[C@H](C6)O)Cl', 'COC1=NC(=CN=C1CN2CC(C2)O)C3=CC=CC(=C3Cl)C4=C(C(=CC=C4)C5=CN=C(C(=N5)OC)CN6CC(C6)O)Cl', 'COC1=NC(=CN=C1CN2CC[C@@H](C2)O)C3=CC=CC(=C3Cl)C4=C(C(=CC=C4)C5=CN=C(C(=N5)OC)CN6CC[C@@H](C6)O)Cl', 'COC1=NC(=CN=C1C2=NC[C@@H](N2)CO)C3=CC=CC(=C3Cl)C4=C(C(=CC=C4)C5=CN=C(C(=N5)OC)C6=NC[C@@H](N6)CO)Cl', 'COC1=NC(=CN=C1C2=NC[C@H](N2)CO)C3=CC=CC(=C3Cl)C4=C(C(=CC=C4)C5=CN=C(C(=N5)OC)C6=NC[C@H](N6)CO)Cl', 'COC1=NC(=CN=C1CN)C2=CC=CC(=C2Cl)C3=C(C(=CC=C3)C4=CN=C(C(=N4)OC)CN)Cl', 'COC1=NC(=CN=C1CN2CC3(C2)CCC(=O)N3)C4=CC=CC(=C4Cl)C5=C(C(=CC=C5)C6=CN=C(C(=N6)OC)CN7CC8(C7)CCC(=O)N8)Cl', 'COC1=NC(=CN=C1CNC[C@H](CC(=O)O)O)C2=CC=CC(=C2Cl)C3=C(C(=CC=C3)C4=CN=C(C(=N4)OC)CNC[C@H](CC(=O)O)O)Cl', 'COC1=NC(=CN=C1CNC[C@H]2CCC(=O)N2)C3=CC=CC(=C3Cl)C4=C(C(=CC=C4)C5=CN=C(C(=N5)OC)CNC[C@H]6CCC(=O)N6)Cl', 'COC1=NC(=CN=C1CNC[C@@H]2CCC(=O)N2)C3=CC=CC(=C3Cl)C4=C(C(=CC=C4)C5=CN=C(C(=N5)OC)CNC[C@@H]6CCC(=O)N6)Cl', 'COC1=NC(=CN=C1CNCCO)C2=CC=CC(=C2Cl)C3=C(C(=CC=C3)C4=CN=C(C(=N4)OC)CNCCO)Cl', 'COC1=NC(=CN=C1C2=NCCN2)C3=CC=CC(=C3Cl)C4=C(C(=CC=C4)C5=CN=C(C(=N5)OC)C6=NCCN6)Cl', 'C[C@@]1(CCN(C1)CC2=NC=C(N=C2OC)C3=CC=CC(=C3Cl)C4=C(C(=CC=C4)C5=CN=C(C(=N5)OC)CN6CC[C@](C6)(C)O)Cl)O', 'COC1=NC(=CN=C1CN[C@@H]2CCOC2)C3=CC=CC(=C3Cl)C4=C(C(=CC=C4)C5=CN=C(C(=N5)OC)CN[C@@H]6CCOC6)Cl', 'COC1=NC(=CN=C1CN[C@H]2CCOC2)C3=CC=CC(=C3Cl)C4=C(C(=CC=C4)C5=CN=C(C(=N5)OC)CN[C@H]6CCOC6)Cl', 'COC1=NC(=CN=C1CN2CC(C2)CO)C3=CC=CC(=C3Cl)C4=C(C(=CC=C4)C5=CN=C(C(=N5)OC)CN6CC(C6)CO)Cl', 'CC1(CCN(C1)CC2=NC=C(N=C2OC)C3=CC=CC(=C3Cl)C4=C(C(=CC=C4)C5=CN=C(C(=N5)OC)CN6CCC(C6)(C)O)Cl)O', 'CC1(CN(C1)CC2=NC=C(N=C2OC)C3=CC=CC(=C3Cl)C4=C(C(=CC=C4)C5=CN=C(C(=N5)OC)CN6CC(C6)(C)O)Cl)O', 'CC1(CN(C1)CC2=NC=C(N=C2OC)C3=CC=CC(=C3Cl)C4=C(C(=CC=C4)C5=CN=C(C(=N5)OC)CN6CC(C6)(C)CO)Cl)CO', 'COC1=NC(=CN=C1CNC2CC(C2)CO)C3=CC=CC(=C3Cl)C4=C(C(=CC=C4)C5=CN=C(C(=N5)OC)CNC6CC(C6)CO)Cl', 'COC1=NC(=CN=C1CNC2CC(C2)CO)C3=CC=CC(=C3Cl)C4=C(C(=CC=C4)C5=CN=C(C(=N5)OC)CNC6CC(C6)CO)Cl', 'COC1=NC(=CN=C1CNC[C@@H]2CCC(=O)N2)C3=CC=CC(=C3Cl)C4=CC=CC(=C4Cl)C5=CC(=C(C=C5)CN6CC7(C6)CCC(=O)N7)C#N', 'COC1=NC(=CN=C1CNC[C@@H]2CCC(=O)N2)C3=CC=CC(=C3Cl)C4=CC=CC(=C4Cl)C5=CC(=C(C=C5)CNC[C@@H]6CCC(=O)N6)C#N', 'COC1=NC(=CN=C1CNC[C@@H]2CCC(=O)N2)C3=CC=CC(=C3Cl)C4=CC=CC(=C4Cl)C5=CC(=C(C=C5)CN6CC(C6)O)C#N', 'CC1(CN(C1)CC2=C(C=C(C=C2)C3=C(C(=CC=C3)C4=C(C(=CC=C4)C5=CN=C(C(=N5)OC)CNC[C@@H]6CCC(=O)N6)Cl)Cl)C#N)CO', 'CC1=CC2=C(N1)C=CC(=C2)CNCC3=C(N=C(C=C3)C4=CC=CC(=C4Cl)C5=C(C(=CC=C5)C6=CN=C(C(=N6)OC)CNC[C@@H]7CCC(=O)N7)Cl)OC', 'CC1(CN(C1)CC2=C(N=C(C=C2)C3=CC=CC(=C3Cl)C4=C(C(=CC=C4)C5=CN=C(C(=N5)OC)CNC[C@@H]6CCC(=O)N6)Cl)OC)CO', 'COC1=C(C=CC(=N1)C2=CC=CC(=C2Cl)C3=C(C(=CC=C3)C4=CN=C(C(=N4)OC)CNC[C@@H]5CCC(=O)N5)Cl)CN6CC(C6)CO', 'CC1(CCN(CC1)CC2=C(N=C(C=C2)C3=CC=CC(=C3Cl)C4=C(C(=CC=C4)C5=CN=C(C(=N5)OC)CNC[C@@H]6CCC(=O)N6)Cl)OC)O', 'C[C@@]1(CCN(C1)CC2=C(N=C(C=C2)C3=CC=CC(=C3Cl)C4=C(C(=CC=C4)C5=CN=C(C(=N5)OC)CNC[C@@H]6CCC(=O)N6)Cl)OC)O', 'COC1=C(C=CC(=N1)C2=CC=CC(=C2Cl)C3=C(C(=CC=C3)C4=CN=C(C(=N4)OC)CNC[C@@H]5CCC(=O)N5)Cl)CN6CCC(CC6)CO', 'COC1=C(C=CC(=N1)C2=CC=CC(=C2Cl)C3=C(C(=CC=C3)C4=CN=C(C(=N4)OC)CNC[C@@H]5CCC(=O)N5)Cl)CNCC6NC(=O)ON6', 'COC1=C(C=CC(=N1)C2=CC=CC(=C2Cl)C3=C(C(=CC=C3)C4=CN=C(C(=N4)OC)CNC[C@@H]5CCC(=O)N5)Cl)CNC6CCOCC6', 'COC1=C(C=CC(=N1)C2=CC=CC(=C2Cl)C3=C(C(=CC=C3)C4=CN=C(C(=N4)OC)CNC[C@@H]5CCC(=O)N5)Cl)CN6CCC(CC6)C(=O)N', 'COC1=C(C=CC(=N1)C2=CC=CC(=C2Cl)C3=C(C(=CC=C3)C4=CN=C(C(=N4)OC)CNC[C@@H]5CCC(=O)N5)Cl)CN6CC(C6)O', 'COC1=C(C=CC(=N1)C2=CC=CC(=C2Cl)C3=C(C(=CC=C3)C4=CN=C(C(=N4)OC)CNC[C@@H]5CCC(=O)N5)Cl)CN[C@@H]6COC[C@H]6O', 'COC1=C(C=CC(=N1)C2=CC=CC(=C2Cl)C3=C(C(=CC=C3)C4=CN=C(C(=N4)OC)CNC[C@@H]5CCC(=O)N5)Cl)CN[C@@H]6CC(=O)NC6', 'COC1=C(C=CC(=N1)C2=CC=CC(=C2Cl)C3=C(C(=CC=C3)C4=CN=C(C(=N4)OC)CNC[C@@H]5CCC(=O)N5)Cl)CN[C@H]6CC(=O)NC6', 'COC1=C(C=CC(=N1)C2=CC=CC(=C2Cl)C3=C(C(=CC=C3)C4=CN=C(C(=N4)OC)CNC[C@@H]5CCC(=O)N5)Cl)CN6CC7(C6)CNC(=O)N7', 'COC1=C(C=CC(=N1)C2=CC=CC(=C2Cl)C3=C(C(=CC=C3)C4=CN=C(C(=N4)OC)CNC[C@@H]5CCC(=O)N5)Cl)CN[C@H]6CCNC6=O', 'COC1=C(C=CC(=N1)C2=CC=CC(=C2Cl)C3=C(C(=CC=C3)C4=CN=C(C(=N4)OC)CNC[C@@H]5CCC(=O)N5)Cl)CN[C@@H]6CCOC6', 'COC1=C(C=CC(=N1)C2=CC=CC(=C2Cl)C3=C(C(=CC=C3)C4=CN=C(C(=N4)OC)CNC[C@@H]5CCC(=O)N5)Cl)CN[C@H]6CCOC6', 'COC1=NC(=CN=C1CNC[C@@H]2CCC(=O)N2)C3=CC=CC(=C3Cl)C4=C(C(=CC=C4)C5=CN=C(C(=N5)OC)CNCC6CC(C6)O)Cl', 'COC1CN(C1)CC2=NC=C(N=C2OC)C3=CC=CC(=C3Cl)C4=C(C(=CC=C4)C5=CN=C(C(=N5)OC)CNC[C@@H]6CCC(=O)N6)Cl', 'CC1(CCN(C1)CC2=NC=C(N=C2OC)C3=CC=CC(=C3Cl)C4=C(C(=CC=C4)C5=CN=C(C(=N5)OC)CNC[C@@H]6CCC(=O)N6)Cl)O', 'CC1(CN(C1)CC2=NC=C(N=C2OC)C3=CC=CC(=C3Cl)C4=C(C(=CC=C4)C5=CN=C(C(=N5)OC)CNC[C@@H]6CCC(=O)N6)Cl)CO', 'COC1=NC(=CN=C1CNC[C@@H]2CCC(=O)N2)C3=CC=CC(=C3Cl)C4=C(C(=CC=C4)C5=CN=C(C(=N5)OC)CN6CC(C6)CO)Cl', 'COC1=NC(=CN=C1CNC[C@@H]2CCC(=O)N2)C3=CC=CC(=C3Cl)C4=C(C(=CC=C4)C5=CN=C(C(=N5)OC)CNC6CCC(C6)F)Cl', 'COC1=NC(=CN=C1CNC[C@@H]2CCC(=O)N2)C3=CC=CC(=C3Cl)C4=C(C(=CC=C4)C5=CN=C(C(=N5)OC)CN[C@@H]6C[C@@H]6F)Cl', 'COC1=NC(=CN=C1CNC[C@@H]2CCC(=O)N2)C3=CC=CC(=C3Cl)C4=C(C(=CC=C4)C5=CN=C(C(=N5)OC)CNCC6CC6)Cl', 'COC1=NC(=CN=C1CNC[C@@H]2CCC(=O)N2)C3=CC=CC(=C3Cl)C4=C(C(=CC=C4)C5=CN=C(C(=N5)OC)CN[C@@H]6C[C@@H]6C(F)F)Cl', 'CC(C)(C(F)F)NCC1=NC=C(N=C1OC)C2=CC=CC(=C2Cl)C3=C(C(=CC=C3)C4=CN=C(C(=N4)OC)CNC[C@@H]5CCC(=O)N5)Cl', 'COC1=NC(=CN=C1CNC[C@@H]2CCC(=O)N2)C3=CC=CC(=C3Cl)C4=C(C(=CC=C4)C5=CN=C(C(=N5)OC)CNCC(F)F)Cl', 'COC1=NC(=CN=C1CNC[C@@H]2CCC(=O)N2)C3=CC=CC(=C3Cl)C4=C(C(=CC=C4)C5=CN=C(C(=N5)OC)CN6CC(C6)OC(F)F)Cl', 'COC1=NC(=CN=C1CNC[C@@H]2CCC(=O)N2)C3=CC=CC(=C3Cl)C4=C(C(=CC=C4)C5=CN=C(C(=N5)OC)CNC6CC6)Cl', 'COCC1(CCC1)NCC2=NC=C(N=C2OC)C3=CC=CC(=C3Cl)C4=C(C(=CC=C4)C5=CN=C(C(=N5)OC)CNC[C@@H]6CCC(=O)N6)Cl', 'COC1=NC(=CN=C1CNC[C@@H]2CCC(=O)N2)C3=CC=CC(=C3Cl)C4=C(C(=CC=C4)C5=CN=C(C(=N5)OC)CN6C[C@H]7C[C@H]7[C@H]6CO)Cl', 'COC1=NC(=CN=C1CNC[C@@H]2CCC(=O)N2)C3=CC=CC(=C3Cl)C4=C(C(=CC=C4)C5=CN=C(C(=N5)OC)CN6CCC(C6)NC(=O)OC)Cl', 'CC(=O)N1CC(C1)CNCC2=NC=C(N=C2OC)C3=CC=CC(=C3Cl)C4=C(C(=CC=C4)C5=CN=C(C(=N5)OC)CNCC6CN(C6)C(=O)C)Cl', 'CC(=O)N1CC2(C1)CC(C2)NCC3=NC=C(N=C3OC)C4=CC=CC(=C4Cl)C5=C(C(=CC=C5)C6=CN=C(C(=N6)OC)CNC7CC8(C7)CN(C8)C(=O)C)Cl', 'CC(=O)N1CC(C1)NCC2=NC=C(N=C2OC)C3=CC=CC(=C3Cl)C4=C(C(=CC=C4)C5=CN=C(C(=N5)OC)CNC[C@@H]6CCC(=O)N6)Cl', 'CC(=O)N1CC2(C1)CN(C2)CC3=NC=C(N=C3OC)C4=CC=CC(=C4Cl)C5=C(C(=CC=C5)C6=CN=C(C(=N6)OC)CNC[C@H]7CCC(=O)N7)Cl', 'COC1=NC(=CN=C1CNC[C@H]2CCC(=O)N2)C3=CC=CC(=C3Cl)C4=C(C(=CC=C4)C5=CN=C(C(=N5)OC)CN6CCC7(C6)CC(=O)NC7)Cl', 'CC(=O)N1CCC(C1)NCC2=NC=C(N=C2OC)C3=CC=CC(=C3Cl)C4=C(C(=CC=C4)C5=CN=C(C(=N5)OC)CNC[C@H]6CCC(=O)N6)Cl', 'CC(=O)NC1CCC(CC1)NCC2=NC=C(N=C2OC)C3=CC=CC(=C3Cl)C4=C(C(=CC=C4)C5=CN=C(C(=N5)OC)CNC[C@H]6CCC(=O)N6)Cl', 'COC1=NC(=CN=C1CNC[C@H]2CCC(=O)N2)C3=CC=CC(=C3Cl)C4=C(C(=CC=C4)C5=CN=C(C(=N5)OC)CNCC6CC(=O)NC6)Cl', 'COC1=NC(=CN=C1CNC[C@H]2CCC(=O)N2)C3=CC=CC(=C3Cl)C4=C(C(=CC=C4)C5=CN=C(C(=N5)OC)CN6CCC7(C6)CCC(=O)N7)Cl', 'CC(=O)N[C@@H]1CCN(C1)CC2=NC=C(N=C2OC)C3=CC=CC(=C3Cl)C4=C(C(=CC=C4)C5=CN=C(C(=N5)OC)CNC[C@H]6CCC(=O)N6)Cl', 'COC1=NC(=CN=C1CNC[C@H]2CCC(=O)N2)C3=CC=CC(=C3Cl)C4=C(C(=CC=C4)C5=CN=C(C(=N5)OC)CN[C@H]6CC(=O)NC6)Cl', 'COC1=NC(=CN=C1CNC[C@H]2CCC(=O)N2)C3=CC=CC(=C3Cl)C4=C(C(=CC=C4)C5=CN=C(C(=N5)OC)CN[C@@H]6CC(=O)NC6)Cl', 'COC1=NC(=CN=C1CNCCC2=NC=CN2)C3=CC=CC(=C3Cl)C4=C(C(=CC=C4)C5=CN=C(C(=N5)OC)CNC[C@H]6CCC(=O)N6)Cl', 'COC1=NC(=CN=C1CNC[C@H]2CCC(=O)N2)C3=CC=CC(=C3Cl)C4=C(C(=CC=C4)C5=CN=C(C(=N5)OC)CNC6CCC7(C6)CC(=O)NC7)Cl', 'COC1=NC(=CN=C1CNC[C@H]2CCC(=O)N2)C3=CC=CC(=C3Cl)C4=C(C(=CC=C4)C5=CN=C(C(=N5)OC)CN6CCC7(CCC(=O)N7)CC6)Cl', 'CC(=O)N[C@H]1CCN(C1)CC2=NC=C(N=C2OC)C3=CC=CC(=C3Cl)C4=C(C(=CC=C4)C5=CN=C(C(=N5)OC)CNC[C@H]6CCC(=O)N6)Cl', 'CC(=O)N1CCCC(C1)NCC2=NC=C(N=C2OC)C3=CC=CC(=C3Cl)C4=C(C(=CC=C4)C5=CN=C(C(=N5)OC)CNC[C@H]6CCC(=O)N6)Cl', 'CC(=O)N1CCC(CC1)NCC2=NC=C(N=C2OC)C3=CC=CC(=C3Cl)C4=C(C(=CC=C4)C5=CN=C(C(=N5)OC)CNC[C@H]6CCC(=O)N6)Cl', 'COC1=NC(=CN=C1CNC[C@H]2CCC(=O)N2)C3=CC=CC(=C3Cl)C4=C(C(=CC=C4)C5=CN=C(C(=N5)OC)CN6CC7(C6)CNC(=O)N7)Cl', 'CC(=O)N1CC2(C1)CC(C2)NCC3=NC=C(N=C3OC)C4=CC=CC(=C4Cl)C5=C(C(=CC=C5)C6=CN=C(C(=N6)OC)CNC[C@H]7CCC(=O)N7)Cl', 'CC(=O)N1CC2(C1)CN(C2)CC3=NC=C(N=C3OC)C4=CC=CC(=C4Cl)C5=C(C(=CC=C5)C6=CN=C(C(=N6)OC)CN7CC8(C7)CN(C8)C(=O)C)Cl', 'CC1(COC(=O)N1)CNCC2=NC=C(N=C2OC)C3=CC=CC(=C3Cl)C4=C(C(=CC=C4)C5=CN=C(C(=N5)OC)CNC[C@@H]6CCC(=O)N6)Cl', 'COC1=NC(=CN=C1CNCCN2CCNC2=O)C3=CC=CC(=C3Cl)C4=C(C(=CC=C4)C5=CN=C(C(=N5)OC)CNC[C@@H]6CCC(=O)N6)Cl', 'COC1=NC(=CN=C1CNC[C@@H]2CCC(=O)N2)C3=CC=CC(=C3Cl)C4=C(C(=CC=C4)C5=CN=C(C(=N5)OC)CNC6CCC7=C(C6)NN=C7)Cl', 'COC1=NC(=CN=C1CNC[C@@H]2CCC(=O)N2)C3=CC=CC(=C3Cl)C4=C(C(=CC=C4)C5=CN=C(C(=N5)OC)CNCC6(CCC6)C#N)Cl', 'CC1=NN(C=C1)CCNCC2=NC=C(N=C2OC)C3=CC=CC(=C3Cl)C4=C(C(=CC=C4)C5=CN=C(C(=N5)OC)CNC[C@@H]6CCC(=O)N6)Cl', 'COC[C@@H]1CC[C@H]1NCC2=NC=C(N=C2OC)C3=CC=CC(=C3Cl)C4=C(C(=CC=C4)C5=CN=C(C(=N5)OC)CNC[C@@H]6CCC(=O)N6)Cl', 'COC1=NC(=CN=C1CNC[C@@H]2CCC(=O)N2)C3=CC=CC(=C3Cl)C4=C(C(=CC=C4)C5=CN=C(C(=N5)OC)CN6CC[C@H]7[C@@H]6[C@@H](CC7)O)Cl', 'COC1=NC(=CN=C1CNC[C@@H]2CCC(=O)N2)C3=CC=CC(=C3Cl)C4=C(C(=CC=C4)C5=CN=C(C(=N5)OC)CNC6CC(C6)CC(=O)N)Cl', 'COC1=NC(=CN=C1CNC[C@@H]2CCC(=O)N2)C3=CC=CC(=C3Cl)C4=C(C(=CC=C4)C5=CN=C(C(=N5)OC)CNCC6(CC6)S(=O)(=O)C)Cl', 'COC1=NC(=CN=C1CNC[C@@H]2CCC(=O)N2)C3=CC=CC(=C3Cl)C4=C(C(=CC=C4)C5=CN=C(C(=N5)OC)CNC[C@@H]6C[C@H]6C7=CN=CC=C7)Cl', 'COC1=NC(=CN=C1CNC[C@@H]2CCC(=O)N2)C3=CC=CC(=C3Cl)C4=C(C(=CC=C4)C5=CN=C(C(=N5)OC)CNCC6CC6CC#N)Cl', 'COCC1CC(C1)NCC2=NC=C(N=C2OC)C3=CC=CC(=C3Cl)C4=C(C(=CC=C4)C5=CN=C(C(=N5)OC)CNC[C@@H]6CCC(=O)N6)Cl', 'COC1=NC(=CN=C1CNC[C@@H]2CCC(=O)N2)C3=CC=CC(=C3Cl)C4=C(C(=CC=C4)C5=CN=C(C(=N5)OC)CNC6CCC(C6)S(=O)C)Cl', 'C[C@@H]1COCC[C@H]1NCC2=NC=C(N=C2OC)C3=CC=CC(=C3Cl)C4=C(C(=CC=C4)C5=CN=C(C(=N5)OC)CNC[C@@H]6CCC(=O)N6)Cl', 'CO[C@H]1C[C@H](N(C1)CC2=NC=C(N=C2OC)C3=CC=CC(=C3Cl)C4=C(C(=CC=C4)C5=CN=C(C(=N5)OC)CNC[C@@H]6CCC(=O)N6)Cl)CO', 'COCCC1CN(C1)CC2=NC=C(N=C2OC)C3=CC=CC(=C3Cl)C4=C(C(=CC=C4)C5=CN=C(C(=N5)OC)CNC[C@@H]6CCC(=O)N6)Cl', 'CC[C@H]1[C@@H](CCO1)NCC2=NC=C(N=C2OC)C3=CC=CC(=C3Cl)C4=C(C(=CC=C4)C5=CN=C(C(=N5)OC)CNC[C@@H]6CCC(=O)N6)Cl', 'CC(=O)N1CCC(C1)CNCC2=NC=C(N=C2OC)C3=CC=CC(=C3Cl)C4=C(C(=CC=C4)C5=CN=C(C(=N5)OC)CNC[C@@H]6CCC(=O)N6)Cl', 'COC1CC(C1)CNCC2=NC=C(N=C2OC)C3=CC=CC(=C3Cl)C4=C(C(=CC=C4)C5=CN=C(C(=N5)OC)CNC[C@@H]6CCC(=O)N6)Cl', 'C[C@@H]1CCN(C[C@@H]1O)CC2=NC=C(N=C2OC)C3=CC=CC(=C3Cl)C4=C(C(=CC=C4)C5=CN=C(C(=N5)OC)CNC[C@@H]6CCC(=O)N6)Cl', 'COC1=NC(=CN=C1CNC[C@@H]2CCC(=O)N2)C3=CC=CC(=C3Cl)C4=C(C(=CC=C4)C5=CN=C(C(=N5)OC)CN6C[C@@H]7CCC[C@@]7(C6)CO)Cl', 'C[C@@H]1CN(CC[C@H]1O)CC2=NC=C(N=C2OC)C3=CC=CC(=C3Cl)C4=C(C(=CC=C4)C5=CN=C(C(=N5)OC)CNC[C@@H]6CCC(=O)N6)Cl', 'COC1=NC(=CN=C1CNC[C@@H]2CCC(=O)N2)C3=CC=CC(=C3Cl)C4=C(C(=CC=C4)C5=CN=C(C(=N5)OC)CN6CCC7(C6)CCOC7=O)Cl', 'CCOC1CC(C1)NCC2=NC=C(N=C2OC)C3=CC=CC(=C3Cl)C4=C(C(=CC=C4)C5=CN=C(C(=N5)OC)CNC[C@@H]6CCC(=O)N6)Cl', 'COC1=NC(=CN=C1CNC[C@@H]2CCC(=O)N2)C3=CC=CC(=C3Cl)C4=C(C(=CC=C4)C5=CN=C(C(=N5)OC)CN6CC7(C6)CCOC7)Cl', 'COC1=NC(=CN=C1CNCCC2CC(=O)NC2)C3=CC=CC(=C3Cl)C4=C(C(=CC=C4)C5=CN=C(C(=N5)OC)CNC[C@@H]6CCC(=O)N6)Cl', 'COC1=NC(=CN=C1CNCCC2CCCO2)C3=CC=CC(=C3Cl)C4=C(C(=CC=C4)C5=CN=C(C(=N5)OC)CNC[C@@H]6CCC(=O)N6)Cl', 'COC1=NC(=CN=C1CNC[C@@H]2CCC(=O)N2)C3=CC=CC(=C3Cl)C4=C(C(=CC=C4)C5=CN=C(C(=N5)OC)CNC(CCO)C6CC6)Cl', 'COCC(C1CC1)NCC2=NC=C(N=C2OC)C3=CC=CC(=C3Cl)C4=C(C(=CC=C4)C5=CN=C(C(=N5)OC)CNC[C@@H]6CCC(=O)N6)Cl', 'COC1=NC(=CN=C1CN2CC(C2)(CO)F)C3=CC=CC(=C3Cl)C4=C(C(=CC=C4)C5=CN=C(C(=N5)OC)CN6CC(C6)(CO)F)Cl', 'COC1=NC(=CN=C1CN2CC(C2)(CO)O)C3=CC=CC(=C3Cl)C4=C(C(=CC=C4)C5=CN=C(C(=N5)OC)CN6CC(C6)(CO)O)Cl', 'CC1(CC(C1)NCC2=NC=C(N=C2OC)C3=CC=CC(=C3Cl)C4=C(C(=CC=C4)C5=CN=C(C(=N5)OC)CNC6CC(C6)(C)O)Cl)O', 'COC1=NC(=CN=C1CNCC2CC(C2)O)C3=CC=CC(=C3Cl)C4=C(C(=CC=C4)C5=CN=C(C(=N5)OC)CNCC6CC(C6)O)Cl', 'COC1=NC(=CN=C1CNCC2CC(C2)O)C3=CC=CC(=C3Cl)C4=C(C(=CC=C4)C5=CN=C(C(=N5)OC)CNCC6CC(C6)O)Cl', 'CC1(C[C@H](NC1=O)CNCC2=NC=C(N=C2OC)C3=CC=CC(=C3Cl)C4=C(C(=CC=C4)C5=CN=C(C(=N5)OC)CNC[C@@H]6CC(C(=O)N6)(C)C)Cl)C', 'CC1(C[C@H](NC1=O)CNCC2=NC=C(N=C2OC)C3=CC=CC(=C3Cl)C4=C(C(=CC=C4)C5=CN=C(C(=N5)OC)CNC[C@@H]6CCC(=O)N6)Cl)C', 'COC1=NC(=CN=C1CNC[C@@H]2CCC(=O)N2)C3=CC=CC(=C3Cl)C4=C(C(=CC=C4)C5=CN=C(C(=N5)OC)CNC[C@@H]6COC(=O)N6)Cl', 'COC1=NC(=CN=C1CNC[C@@H]2CCC(=O)N2)C3=CC=CC(=C3Cl)C4=C(C(=CC=C4)C5=CN=C(C(=N5)OC)CNC(CCF)CO)Cl', 'COC1=NC(=CN=C1CNC[C@@H]2CCC(=O)N2)C3=CC=CC(=C3Cl)C4=C(C(=CC=C4)C5=CN=C(C(=N5)OC)CNC(CO)CF)Cl', 'COCC(C(F)(F)F)NCC1=NC=C(N=C1OC)C2=CC=CC(=C2Cl)C3=C(C(=CC=C3)C4=CN=C(C(=N4)OC)CNC[C@@H]5CCC(=O)N5)Cl', 'C[C@H]1CN(CCN1)CC2=NC=C(N=C2OC)C3=CC=CC(=C3Cl)C4=C(C(=CC=C4)C5=CN=C(C(=N5)OC)CNC[C@@H]6CCC(=O)N6)Cl', 'C[C@@H]1CN(CCN1)CC2=NC=C(N=C2OC)C3=CC=CC(=C3Cl)C4=C(C(=CC=C4)C5=CN=C(C(=N5)OC)CNC[C@@H]6CCC(=O)N6)Cl', 'COC1=NC(=CN=C1CNC[C@@H]2CCC(=O)N2)C3=CC=CC(=C3Cl)C4=C(C(=CC=C4)C5=CN=C(C(=N5)OC)CN6CC(C6)(CO)F)Cl', 'COC1=NC(=CN=C1CNC[C@@H]2CCC(=O)N2)C3=CC=CC(=C3Cl)C4=C(C(=CC=C4)C5=CN=C(C(=N5)OC)CN6CC(C6)(CO)O)Cl', 'COC1=NC(=CN=C1CNC[C@@H]2CCC(=O)N2)C3=CC=CC(=C3Cl)C4=C(C(=CC=C4)C5=CN=C(C(=N5)OC)CNC[C@H]6CCN6)Cl', 'COC1=NC(=CN=C1CNC[C@@H]2CCC(=O)N2)C3=CC=CC(=C3Cl)C4=C(C(=CC=C4)C5=CN=C(C(=N5)OC)CNCC6CNC6)Cl', 'COC1=NC(=CN=C1CNC[C@@H]2CCC(=O)N2)C3=CC=CC(=C3Cl)C4=C(C(=CC=C4)C5=CN=C(C(=N5)OC)CN6CCN(CC6)C=O)Cl', 'CC(C)[C@@H](CO)NCC1=NC=C(N=C1OC)C2=CC=CC(=C2Cl)C3=C(C(=CC=C3)C4=CN=C(C(=N4)OC)CNC[C@@H]5CCC(=O)N5)Cl', 'COC1=NC(=CN=C1CNC[C@@H]2CCC(=O)N2)C3=CC=CC(=C3Cl)C4=C(C(=CC=C4)C5=CN=C(C(=N5)OC)CN(CCO)CC(F)(F)F)Cl', 'COC1=NC(=CN=C1CNC[C@@H]2CCC(=O)N2)C3=CC=CC(=C3Cl)C4=C(C(=CC=C4)C5=CN=C(C(=N5)OC)CN6CCN[C@@H](C6)C7CC7)Cl', 'CO[C@@H]1CCN(C[C@@H]1F)CC2=NC=C(N=C2OC)C3=CC=CC(=C3Cl)C4=C(C(=CC=C4)C5=CN=C(C(=N5)OC)CNC[C@@H]6CCC(=O)N6)Cl', 'COC1=NC(=CN=C1CNC[C@@H]2CCC(=O)N2)C3=CC=CC(=C3Cl)C4=C(C(=CC=C4)C5=CN=C(C(=N5)OC)CN6CCCC(C6)(CO)F)Cl', 'CC1C[C@H](NC1=O)CNCC2=NC=C(N=C2OC)C3=CC=CC(=C3Cl)C4=C(C(=CC=C4)C5=CN=C(C(=N5)OC)CNC[C@@H]6CCC(=O)N6)Cl', 'COC1=NC(=CN=C1CNC[C@@H]2CCC(=O)N2)C3=CC=CC(=C3Cl)C4=C(C(=CC=C4)C5=CN=C(C(=N5)OC)CN6C[C@H](C[C@H](C6)F)O)Cl', 'COC1=NC(=CN=C1CNC[C@@H]2CCC(=O)N2)C3=CC=CC(=C3Cl)C4=C(C(=CC=C4)C5=CN=C(C(=N5)OC)CN6C[C@@H](C[C@H](C6)F)O)Cl', 'COC1=NC(=CN=C1CNC[C@@H]2CCC(=O)N2)C3=CC=CC(=C3Cl)C4=C(C(=CC=C4)C5=CN=C(C(=N5)OC)CN6C[C@@H]([C@H](C6)F)O)Cl', 'COC1=NC(=CN=C1CNC[C@@H]2CCC(=O)N2)C3=CC=CC(=C3Cl)C4=C(C(=CC=C4)C5=CN=C(C(=N5)OC)CN6C[C@@H]([C@H](C6)O)C#N)Cl', 'COC1=NC(=CN=C1CNC[C@@H]2CCC(=O)N2)C3=CC=CC(=C3Cl)C4=C(C(=CC=C4)C5=CN=C(C(=N5)OC)CNC6CCC(C6)(F)F)Cl', 'COC1=NC(=CN=C1CNC[C@@H]2CCC(=O)N2)C3=CC=CC(=C3Cl)C4=C(C(=CC=C4)C5=CN=C(C(=N5)OC)CN[C@H]6C[C@H]6CO)Cl', 'COC1=NC(=CN=C1CNC[C@@H]2CCC(=O)N2)C3=CC=CC(=C3Cl)C4=C(C(=CC=C4)C5=CN=C(C(=N5)OC)CN6CCN(CC6)C7CC7)Cl', 'COC1=NC(=CN=C1CNC[C@@H]2CCC(=O)N2)C3=CC=CC(=C3Cl)C4=C(C(=CC=C4)C5=CN=C(C(=N5)OC)CN6CCC[C@H](C6)F)Cl', 'COC1=NC(=CN=C1CNC[C@@H]2CCC(=O)N2)C3=CC=CC(=C3Cl)C4=C(C(=CC=C4)C5=CN=C(C(=N5)OC)CN6CCCC(C6)(F)F)Cl', 'COC1=NC(=CN=C1CNC[C@@H]2CCC(=O)N2)C3=CC=CC(=C3Cl)C4=C(C(=CC=C4)C5=CN=C(C(=N5)OC)CN6CCCC(C6)C(F)F)Cl', 'COC1=NC(=CN=C1CNC[C@@H]2CCC(=O)N2)C3=CC=CC(=C3Cl)C4=C(C(=CC=C4)C5=CN=C(C(=N5)OC)CNC6CC7CC7C6)Cl', 'CC1(CC(C1)NCC2=NC=C(N=C2OC)C3=CC=CC(=C3Cl)C4=C(C(=CC=C4)C5=CN=C(C(=N5)OC)CNC[C@@H]6CCC(=O)N6)Cl)O', 'COC1=NC(=CN=C1CNC[C@@H]2CCC(=O)N2)C3=CC=CC(=C3Cl)C4=C(C(=CC=C4)C5=CN=C(C(=N5)OC)CNCC6CC(C6)O)Cl', 'COC1=NC(=CN=C1CNC[C@@H]2CCC(=O)N2)C3=CC=CC(=C3Cl)C4=C(C(=CC=C4)C5=CN=C(C(=N5)OC)CN[C@@H]6C[C@H]6CO)Cl', 'COC1=NC(=CN=C1CNC[C@@H]2CCC(=O)N2)C3=CC=CC(=C3Cl)C4=C(C(=CC=C4)C5=CN=C(C(=N5)OC)CN6CC[C@@H]([C@H](C6)F)O)Cl', 'COC1=NC(=CN=C1CNC[C@@H]2CCC(=O)N2)C3=CC=CC(=C3Cl)C4=C(C(=CC=C4)C5=CN=C(C(=N5)OC)CN6CC[C@H]([C@H](C6)F)O)Cl', 'COC1=NC(=CN=C1CNC[C@@H]2CCC(=O)N2)C3=CC=CC(=C3Cl)C4=C(C(=CC=C4)C5=CN=C(C(=N5)OC)CN6CC[C@H]([C@@H](C6)F)O)Cl', 'COC1=NC(=CN=C1CNC[C@@H]2CCC(=O)N2)C3=CC=CC(=C3Cl)C4=C(C(=CC=C4)C5=CN=C(C(=N5)OC)CN6CC[C@@H]([C@@H](C6)F)O)Cl', 'COC1=NC(=CN=C1CNC[C@@H]2CCC(=O)N2)C3=CC=CC(=C3Cl)C4=C(C(=CC=C4)C5=CN=C(C(=N5)OC)CNCC6COC(=O)N6)Cl', 'COC1=NC(=CN=C1CNC[C@@H]2CCC(=O)N2)C3=CC=CC(=C3Cl)C4=C(C(=CC=C4)C5=CN=C(C(=N5)OC)CN6CCC(CC6)(F)F)Cl', 'COC1=NC(=CN=C1CNC[C@@H]2CCC(=O)N2)C3=CC=CC(=C3Cl)C4=C(C(=CC=C4)C5=CN=C(C(=N5)OC)CNC6CC(C6)F)Cl', 'COC1=NC(=CN=C1CNC[C@@H]2CCC(=O)N2)C3=CC=CC(=C3Cl)C4=C(C(=CC=C4)C5=CN=C(C(=N5)OC)CNC6CC(C6)(F)F)Cl', 'CC(=O)NC1CCCN(C1)CC2=NC=C(N=C2OC)C3=CC=CC(=C3Cl)C4=C(C(=CC=C4)C5=CN=C(C(=N5)OC)CNC[C@H]6CCC(=O)N6)Cl', 'COC1=NC(=CN=C1CNC[C@@H]2CCC(=O)N2)C3=CC=CC(=C3Cl)C4=C(C(=CC=C4)C5=CN=C(C(=N5)OC)CNCC6(CCS(=O)(=O)C6)O)Cl', 'COC1=NC(=CN=C1CNC[C@@H]2CCC(=O)N2)C3=CC=CC(=C3Cl)C4=C(C(=CC=C4)C5=CN=C(C(=N5)OC)CN6CC[C@@H]7[C@H]6C(=O)NC7)Cl', 'CNC(=O)CNCC1=NC=C(N=C1OC)C2=CC=CC(=C2Cl)C3=C(C(=CC=C3)C4=CN=C(C(=N4)OC)CNC[C@@H]5CCC(=O)N5)Cl', 'COC1=NC(=CN=C1CNC[C@@H]2CCC(=O)N2)C3=CC=CC(=C3Cl)C4=C(C(=CC=C4)C5=CN=C(C(=N5)OC)CN6CC7(C6)CC(C7)O)Cl', 'COC1=NC(=CN=C1CNC[C@@H]2CCC(=O)N2)C3=CC=CC(=C3Cl)C4=C(C(=CC=C4)C5=CN=C(C(=N5)OC)CN6CCC7(CC6)C(=O)NC(=O)N7)Cl', 'CC1=NC2(CCCN(C2)CC3=NC=C(N=C3OC)C4=CC=CC(=C4Cl)C5=C(C(=CC=C5)C6=CN=C(C(=N6)OC)CNC[C@@H]7CCC(=O)N7)Cl)C(=O)N1', 'COC1=NC(=CN=C1CNC[C@@H]2CCC(=O)N2)C3=CC=CC(=C3Cl)C4=C(C(=CC=C4)C5=CN=C(C(=N5)OC)CN6CCC7(C6)C(=O)NC(=O)N7)Cl', 'COC1=NC(=CN=C1CNC[C@@H]2CCC(=O)N2)C3=CC=CC(=C3Cl)C4=C(C(=CC=C4)C5=CN=C(C(=N5)OC)CN6CCCC7(C6)C(=O)NC(=O)N7)Cl', 'CN1C(=O)C2(CCN(C2)CC3=NC=C(N=C3OC)C4=CC=CC(=C4Cl)C5=C(C(=CC=C5)C6=CN=C(C(=N6)OC)CNC[C@@H]7CCC(=O)N7)Cl)NC1=O', 'C[C@@H]1[C@@H](CCO1)NCC2=NC=C(N=C2OC)C3=CC=CC(=C3Cl)C4=C(C(=CC=C4)C5=CN=C(C(=N5)OC)CNC[C@@H]6CCC(=O)N6)Cl', 'COC1=NC(=CN=C1CNC[C@H]2CCOC2)C3=CC=CC(=C3Cl)C4=C(C(=CC=C4)C5=CN=C(C(=N5)OC)CNC[C@@H]6CCC(=O)N6)Cl', 'CN(CC1=NC=C(N=C1OC)C2=CC=CC(=C2Cl)C3=C(C(=CC=C3)C4=CN=C(C(=N4)OC)CNC[C@@H]5CCC(=O)N5)Cl)[C@H]6CCOC6', 'COC1=NC(=CN=C1CNC[C@@H]2CCC(=O)N2)C3=CC=CC(=C3Cl)C4=C(C(=CC=C4)C5=CN=C(C(=N5)OC)CN6CCC7(C6)CC(C7)CO)Cl', 'COC1=NC(=CN=C1CNC[C@@H]2CCC(=O)N2)C3=CC=CC(=C3Cl)C4=C(C(=CC=C4)C5=CN=C(C(=N5)OC)CNCN6CCOC6)Cl', 'COC1=NC(=CN=C1CNC[C@@H]2CCC(=O)N2)C3=CC=CC(=C3Cl)C4=C(C(=CC=C4)C5=CN=C(C(=N5)OC)CN6CC[C@H]([C@H](C6)O)CO)Cl', 'COC1=NC(=CN=C1CNC[C@@H]2CCC(=O)N2)C3=CC=CC(=C3Cl)C4=C(C(=CC=C4)C5=CN=C(C(=N5)OC)CN6CC7(C6)CCS7(=O)=O)Cl', 'COC1=NC(=CN=C1CNC[C@@H]2CCC(=O)N2)C3=CC=CC(=C3Cl)C4=C(C(=CC=C4)C5=CN=C(C(=N5)OC)CNCC(=O)N)Cl', 'CN1[C@@H](CCC1=O)CNCC2=NC=C(N=C2OC)C3=CC=CC(=C3Cl)C4=C(C(=CC=C4)C5=CN=C(C(=N5)OC)CNC[C@@H]6CCC(=O)N6)Cl', 'COC1=NC(=CN=C1CNC[C@@H]2CCC(=O)N2)C3=CC=CC(=C3Cl)C4=C(C(=CC=C4)C5=CN=C(C(=N5)OC)CN[C@@H](CO)C(=O)N)Cl', 'CN1C=CC=C(C1=O)CNCC2=NC=C(N=C2OC)C3=CC=CC(=C3Cl)C4=C(C(=CC=C4)C5=CN=C(C(=N5)OC)CNC[C@@H]6CCC(=O)N6)Cl', 'COC1=NC(=CN=C1CNC[C@@H]2CCC(=O)N2)C3=CC=CC(=C3Cl)C4=C(C(=CC=C4)C5=CN=C(C(=N5)OC)CNCC6CCS(=O)(=O)N6)Cl', 'CC1(CC2(C1)CN(C2)CC3=NC=C(N=C3OC)C4=CC=CC(=C4Cl)C5=C(C(=CC=C5)C6=CN=C(C(=N6)OC)CNC[C@@H]7CCC(=O)N7)Cl)O', 'COC1=NC(=CN=C1CNC[C@@H]2CCC(=O)N2)C3=CC=CC(=C3Cl)C4=C(C(=CC=C4)C5=CN=C(C(=N5)OC)CN6CC7(C6)CC(C7)(C(F)(F)F)O)Cl', 'COC[C@H]1CCN1CC2=NC=C(N=C2OC)C3=CC=CC(=C3Cl)C4=C(C(=CC=C4)C5=CN=C(C(=N5)OC)CNC[C@@H]6CCC(=O)N6)Cl', 'COC[C@@H]1CCN1CC2=NC=C(N=C2OC)C3=CC=CC(=C3Cl)C4=C(C(=CC=C4)C5=CN=C(C(=N5)OC)CNC[C@@H]6CCC(=O)N6)Cl', 'COC1=NC(=CN=C1CNC[C@@H]2CCC(=O)N2)C3=CC=CC(=C3Cl)C4=C(C(=CC=C4)C5=CN=C(C(=N5)OC)CNCC6CS(=O)(=O)C6)Cl', 'COC1=NC(=CN=C1CNC[C@@H]2CCC(=O)N2)C3=CC=CC(=C3Cl)C4=C(C(=CC=C4)C5=CN=C(C(=N5)OC)CN6C[C@H]7CC(=O)N[C@H]7C6)Cl', 'COC1=NC(=CN=C1CNC[C@@H]2CCC(=O)N2)C3=CC=CC(=C3Cl)C4=C(C(=CC=C4)C5=CN=C(C(=N5)OC)CN6CC7(C6)C(=O)NC(=O)N7)Cl', 'COC1=NC(=CN=C1CNCC[C@H]2CCC(=O)N2)C3=CC=CC(=C3Cl)C4=C(C(=CC=C4)C5=CN=C(C(=N5)OC)CNC[C@@H]6CCC(=O)N6)Cl', 'C[C@H](C1=NC=C(N=C1OC)C2=CC=CC(=C2Cl)C3=C(C(=CC=C3)C4=CN=C(C(=N4)OC)CNC[C@@H]5CCC(=O)N5)Cl)N', 'C[C@@H](C1=NC=C(N=C1OC)C2=CC=CC(=C2Cl)C3=C(C(=CC=C3)C4=CN=C(C(=N4)OC)CNC[C@@H]5CCC(=O)N5)Cl)N', 'C[C@@H]([C@H]1CCC(=O)N1)NCC2=NC=C(N=C2OC)C3=CC=CC(=C3Cl)C4=C(C(=CC=C4)C5=CN=C(C(=N5)OC)CN[C@@H](C)[C@H]6CCC(=O)N6)Cl', 'COC1=NC(=CN=C1CN)C2=CC=CC(=C2Cl)C3=C(C(=CC=C3)C4=CN=C(C(=N4)OC)CNC[C@@H]5CCC(=O)N5)Cl', 'CNC1=NC(=CN=C1CN(C)C[C@@H]2CCC(=O)N2)C3=CC=CC(=C3Cl)C4=C(C(=CC=C4)C5=CN=C(C(=N5)NC)CN(C)C[C@@H]6CCC(=O)N6)Cl', 'CNC1=NC(=CN=C1CNC[C@H]2CCC(=O)N2)C3=CC=CC(=C3Cl)C4=C(C(=CC=C4)C5=CN=C(C(=N5)NC)CNC[C@H]6CCC(=O)N6)Cl', 'COC1=NC(=CN=C1CN[C@@H]2CCN(C2)S(=O)(=O)C)C3=CC=CC(=C3Cl)C4=C(C(=CC=C4)C5=CN=C(C(=N5)OC)CN[C@@H]6CCN(C6)S(=O)(=O)C)Cl', 'CN(CCO)CC1=NC=C(N=C1OC)C2=CC=CC(=C2Cl)C3=C(C(=CC=C3)C4=CN=C(C(=N4)OC)CN(C)C[C@@H]5CCC(=O)N5)Cl', 'CN(CCO)CC1=NC=C(N=C1OC)C2=CC=CC(=C2Cl)C3=C(C(=CC=C3)C4=CN=C(C(=N4)OC)CNC[C@@H]5CCC(=O)N5)Cl', 'COC1=NC(=CN=C1CNC[C@@H]2[C@H]3C[C@H]3C(=O)N2)C4=CC=CC(=C4Cl)C5=C(C(=CC=C5)C6=CN=C(C(=N6)OC)CNC[C@@H]7[C@H]8C[C@H]8C(=O)N7)Cl', 'COC1=NC(=CN=C1CNC[C@@H]2CCC(=O)N2)C3=CC=CC(=C3Cl)C4=C(C(=CC=C4)C5=CN=C(C(=N5)OC)CN(C[C@@H]6CCC(=O)N6)CC7=CC=CC=C7)Cl', 'C[C@@H]1C[C@H](NC1=O)CNCC2=NC=C(N=C2OC)C3=CC=CC(=C3Cl)C4=C(C(=CC=C4)C5=CN=C(C(=N5)OC)CNC[C@@H]6C[C@H](C(=O)N6)C)Cl', 'CN(C[C@@H]1CCC(=O)N1)CC2=NC=C(N=C2OC)C3=CC=CC(=C3Cl)C4=C(C(=CC=C4)C5=CN=C(C(=N5)OC)CN(C)C[C@@H]6CCC(=O)N6)Cl', 'COC1=NC(=CN=C1CN(C[C@@H]2CCC(=O)N2)CC3CC3)C4=CC=CC(=C4Cl)C5=C(C(=CC=C5)C6=CN=C(C(=N6)OC)CN(C[C@@H]7CCC(=O)N7)CC8CC8)Cl', 'COC1=NC(=CN=C1CNC[C@@H]2CCC(=O)N2)C3=CC=CC(=C3Cl)C4=C(C(=CC=C4)C5=CN=C(C(=N5)OC)CN(C[C@@H]6CCC(=O)N6)CC7CC7)Cl', 'COC1=NC(=CN=C1CNC[C@@H]2C[C@H](C(=O)N2)CC(F)(F)F)C3=CC=CC(=C3Cl)C4=C(C(=CC=C4)C5=CN=C(C(=N5)OC)CNC[C@@H]6C[C@H](C(=O)N6)CC(F)(F)F)Cl', 'COC1=NC(=CN=C1CNC[C@@H]2CC3(CC3)C(=O)N2)C4=CC=CC(=C4Cl)C5=C(C(=CC=C5)C6=CN=C(C(=N6)OC)CNC[C@@H]7CC8(CC8)C(=O)N7)Cl', 'C[C@H]1COC[C@@H](N1CC2=NC=C(N=C2OC)C3=CC=CC(=C3Cl)C4=C(C(=CC=C4)C5=CN=C(C(=N5)OC)CNC[C@@H]6CCC(=O)N6)Cl)C', 'COC1=NC(=CN=C1CNC[C@@H]2CCC(=O)N2)C3=CC=CC(=C3Cl)C4=C(C(=CC=C4)C5=CN=C(C(=N5)OC)CN[C@@H]6CCN(C6)C7COC7)Cl', 'COC1=NC(=CN=C1CNC[C@@H]2CCC(=O)N2)C3=CC=CC(=C3Cl)C4=C(C(=CC=C4)C5=CN=C(C(=N5)OC)CN[C@@H]6CCOC[C@H]6O)Cl', 'COC1=NC(=CN=C1CNC[C@@H]2CCC(=O)N2)C3=CC=CC(=C3Cl)C4=C(C(=CC=C4)C5=CN=C(C(=N5)OC)CN[C@H]6CCOC[C@@H]6O)Cl', 'COC1=NC(=CN=C1CNC[C@@H]2CCC(=O)N2)C3=CC=CC(=C3Cl)C4=C(C(=CC=C4)C5=CN=C(C(=N5)OC)CN[C@H]6COCC[C@@H]6O)Cl', 'COC1=NC(=CN=C1CNC[C@@H]2CCC(=O)N2)C3=CC=CC(=C3Cl)C4=C(C(=CC=C4)C5=CN=C(C(=N5)OC)CNCC6=CC=C(S6)S(=O)(=O)N)Cl', 'COC1=NC(=CN=C1CNC[C@@H]2CCC(=O)N2)C3=CC=CC(=C3Cl)C4=C(C(=CC=C4)C5=CN=C(C(=N5)OC)CNCC6=C(C=CC=N6)O)Cl', 'COC1=NC(=CN=C1CNC[C@@H]2CCC(=O)N2)C3=CC=CC(=C3Cl)C4=C(C(=CC=C4)C5=CN=C(C(=N5)OC)CN[C@@H]6COCC[C@H]6O)Cl', 'COCCNCC1=NC=C(N=C1OC)C2=CC=CC(=C2Cl)C3=C(C(=CC=C3)C4=CN=C(C(=N4)OC)CNC[C@@H]5CCC(=O)N5)Cl', 'COC1=NC(=CN=C1CNC[C@@H]2CCC(=O)N2)C3=CC=CC(=C3Cl)C4=C(C(=CC=C4)C5=CN=C(C(=N5)OC)CNC6CC(C6)CO)Cl', 'COC1=NC(=CN=C1CNC[C@@H]2CCC(=O)N2)C3=CC=CC(=C3Cl)C4=C(C(=CC=C4)C5=CN=C(C(=N5)OC)CNC6CC(C6)O)Cl', 'COC1=NC(=CN=C1CNC[C@@H]2CCC(=O)N2)C3=CC=CC(=C3Cl)C4=C(C(=CC=C4)C5=CN=C(C(=N5)OC)CNC6CC(C6)O)Cl', 'C[C@@H](CNCC1=NC=C(N=C1OC)C2=CC=CC(=C2Cl)C3=C(C(=CC=C3)C4=CN=C(C(=N4)OC)CNC[C@@H]5CCC(=O)N5)Cl)O', 'C[C@H](CNCC1=NC=C(N=C1OC)C2=CC=CC(=C2Cl)C3=C(C(=CC=C3)C4=CN=C(C(=N4)OC)CNC[C@@H]5CCC(=O)N5)Cl)O', 'C[C@@H](CO)NCC1=NC=C(N=C1OC)C2=CC=CC(=C2Cl)C3=C(C(=CC=C3)C4=CN=C(C(=N4)OC)CNC[C@@H]5CCC(=O)N5)Cl', 'C[C@H](CO)NCC1=NC=C(N=C1OC)C2=CC=CC(=C2Cl)C3=C(C(=CC=C3)C4=CN=C(C(=N4)OC)CNC[C@@H]5CCC(=O)N5)Cl', 'COC1=NC(=CN=C1CNC[C@@H]2CCC(=O)N2)C3=CC=CC(=C3Cl)C4=C(C(=CC=C4)C5=CN=C(C(=N5)OC)CN6CC(C6)N7CC(C7)O)Cl', 'COC1=NC(=CN=C1CNC[C@@H]2CCC(=O)N2)C3=CC=CC(=C3Cl)C4=C(C(=CC=C4)C5=CN=C(C(=N5)OC)CN6CC(C6)C7=CC=CC=N7)Cl', 'COC1=NC(=CN=C1CNC[C@@H]2CCC(=O)N2)C3=CC=CC(=C3Cl)C4=C(C(=CC=C4)C5=CN=C(C(=N5)OC)CN6CC(C6)C7=CC=CC=C7)Cl', 'COC1=NC(=CN=C1CNC[C@@H]2CCC(=O)N2)C3=CC=CC(=C3Cl)C4=C(C(=CC=C4)C5=CN=C(C(=N5)OC)CN6CC(C6)N7CCOCC7)Cl', 'CC1=CC=C(N1CC2=NC=C(N=C2OC)C3=CC=CC(=C3Cl)C4=C(C(=CC=C4)C5=CN=C(C(=N5)OC)CNC[C@@H]6CCC(=O)N6)Cl)C', 'COC1=NC(=CN=C1CNC[C@@H]2CCC(=O)N2)C3=CC=CC(=C3Cl)C4=C(C(=CC=C4)C5=CN=C(C(=N5)OC)CN[C@@H]6CC[C@@H](C6)O)Cl', 'COC1=NC(=CN=C1CNC[C@@H]2CCC(=O)N2)C3=CC=CC(=C3Cl)C4=C(C(=CC=C4)C5=CN=C(C(=N5)OC)CN[C@@H]6CC[C@H](C6)O)Cl', 'COC1=NC(=CN=C1CNC[C@@H]2CCC(=O)N2)C3=CC=CC(=C3Cl)C4=C(C(=CC=C4)C5=CN=C(C(=N5)OC)CN[C@H]6CC[C@@H](C6)O)Cl', 'COC1=NC(=CN=C1CNC[C@@H]2CCC(=O)N2)C3=CC=CC(=C3Cl)C4=C(C(=CC=C4)C5=CN=C(C(=N5)OC)CN[C@H]6CC[C@H](C6)O)Cl', 'COC1=NC(=CN=C1CNC[C@@H]2CCC(=O)N2)C3=CC=CC(=C3Cl)C4=C(C(=CC=C4)C5=CN=C(C(=N5)OC)CNC6CC(C6)S(=O)(=O)C)Cl', 'COC1=NC(=CN=C1CNC[C@@H]2CCC(=O)N2)C3=CC=CC(=C3Cl)C4=C(C(=CC=C4)C5=CN=C(C(=N5)OC)CNC6CC(C6)S(=O)(=O)C)Cl', 'COC1=NC(=CN=C1CNC[C@@H]2CCC(=O)N2)C3=CC=CC(=C3Cl)C4=C(C(=CC=C4)C5=CN=C(C(=N5)OC)CN[C@H]6CCOC6)Cl', 'COC1=NC(=CN=C1CNC[C@@H]2CCC(=O)N2)C3=CC=CC(=C3Cl)C4=C(C(=CC=C4)C5=CN=C(C(=N5)OC)CN[C@@H]6CCOC6)Cl', 'CC(=O)NC1CC(C1)NCC2=NC=C(N=C2OC)C3=CC=CC(=C3Cl)C4=C(C(=CC=C4)C5=CN=C(C(=N5)OC)CNC[C@@H]6CCC(=O)N6)Cl', 'CC(=O)NC1CC(C1)NCC2=NC=C(N=C2OC)C3=CC=CC(=C3Cl)C4=C(C(=CC=C4)C5=CN=C(C(=N5)OC)CNC[C@@H]6CCC(=O)N6)Cl', 'COC1=NC(=CN=C1CNC[C@@H]2CCC(=O)N2)C3=CC=CC(=C3Cl)C4=C(C(=CC=C4)C5=CN=C(C(=N5)OC)CNC6CC7(C6)CS(=O)(=O)C7)Cl', 'COC1CC(C1)NCC2=NC=C(N=C2OC)C3=CC=CC(=C3Cl)C4=C(C(=CC=C4)C5=CN=C(C(=N5)OC)CNC[C@@H]6CCC(=O)N6)Cl', 'COC1CC(C1)NCC2=NC=C(N=C2OC)C3=CC=CC(=C3Cl)C4=C(C(=CC=C4)C5=CN=C(C(=N5)OC)CNC[C@@H]6CCC(=O)N6)Cl', 'CC(C)(C1CC(C1)NCC2=NC=C(N=C2OC)C3=CC=CC(=C3Cl)C4=C(C(=CC=C4)C5=CN=C(C(=N5)OC)CNC[C@@H]6CCC(=O)N6)Cl)O', 'COC1=NC(=CN=C1CNC[C@@H]2CCC(=O)N2)C3=CC=CC(=C3Cl)C4=C(C(=CC=C4)C5=CN=C(C(=N5)OC)CN6CC7(C6)CS(=O)(=O)C7)Cl', 'COC1=NC(=CN=C1CNC[C@@H]2CCC(=O)N2)C3=CC=CC(=C3Cl)C4=C(C(=CC=C4)C5=CN=C(C(=N5)OC)CN6CC7(C6)CC(=O)NC7)Cl', 'CC(=O)NC1CN(C1)CC2=NC=C(N=C2OC)C3=CC=CC(=C3Cl)C4=C(C(=CC=C4)C5=CN=C(C(=N5)OC)CNC[C@@H]6CCC(=O)N6)Cl', 'COC1=NC(=CN=C1CNCCN2C=CC=CC2=O)C3=CC=CC(=C3Cl)C4=C(C(=CC=C4)C5=CN=C(C(=N5)OC)CNC[C@@H]6CCC(=O)N6)Cl', 'COC1=NC(=CN=C1CNC[C@@H]2CCC(=O)N2)C3=CC=CC(=C3Cl)C4=C(C(=CC=C4)C5=CN=C(C(=N5)OC)CN6CC7(C6)CCC(=O)N7)Cl', 'COC1=NC(=CN=C1CNCCN2CCCC2=O)C3=CC=CC(=C3Cl)C4=C(C(=CC=C4)C5=CN=C(C(=N5)OC)CNC[C@@H]6CCC(=O)N6)Cl', 'CC(=O)NCCNCC1=NC=C(N=C1OC)C2=CC=CC(=C2Cl)C3=C(C(=CC=C3)C4=CN=C(C(=N4)OC)CNC[C@@H]5CCC(=O)N5)Cl', 'COC1=NC(=CN=C1CNCCO)C2=CC=CC(=C2Cl)C3=C(C(=CC=C3)C4=CN=C(C(=N4)OC)CNC[C@@H]5CCC(=O)N5)Cl', 'CC(=O)NCC(C)(C)NCC1=NC=C(N=C1OC)C2=CC=CC(=C2Cl)C3=C(C(=CC=C3)C4=CN=C(C(=N4)OC)CNC[C@@H]5CCC(=O)N5)Cl', 'CC(=O)NC(C)(C)CNCC1=NC=C(N=C1OC)C2=CC=CC(=C2Cl)C3=C(C(=CC=C3)C4=CN=C(C(=N4)OC)CNC[C@@H]5CCC(=O)N5)Cl', 'CC(C)(CO)NCC1=NC=C(N=C1OC)C2=CC=CC(=C2Cl)C3=C(C(=CC=C3)C4=CN=C(C(=N4)OC)CNC[C@@H]5CCC(=O)N5)Cl', 'CC(C)(CNCC1=NC=C(N=C1OC)C2=CC=CC(=C2Cl)C3=C(C(=CC=C3)C4=CN=C(C(=N4)OC)CNC[C@@H]5CCC(=O)N5)Cl)O', 'COC1=NC(=CN=C1CNC[C@@H]2CCC(=O)N2)C3=CC=CC(=C3Cl)C4=C(C(=CC=C4)C5=CN=C(C(=N5)OC)CN6CC(C6)O)Cl', 'COC1=NC(=CN=C1CNC[C@@H]2CCC(=O)N2)C3=CC=CC(=C3Cl)C4=C(C(=CC=C4)C5=CN=C(C(=N5)OC)CN6CC[C@H](C6)O)Cl', 'COC1=NC(=CN=C1CNC[C@@H]2CCC(=O)N2)C3=CC=CC(=C3Cl)C4=C(C(=CC=C4)C5=CN=C(C(=N5)OC)CN[C@@H]6CCC[C@@H]6O)Cl', 'CC(C)(CNCC1=NC=C(N=C1OC)C2=CC=CC(=C2Cl)C3=C(C(=CC=C3)C4=CN=C(C(=N4)OC)CNCC(C)(C)O)Cl)O', 'COC1=NC(=CN=C1CN[C@@H]2CCC[C@@H]2O)C3=CC=CC(=C3Cl)C4=C(C(=CC=C4)C5=CN=C(C(=N5)OC)CN[C@@H]6CCC[C@@H]6O)Cl', 'CC(C)(CO)NCC1=NC=C(N=C1OC)C2=CC=CC(=C2Cl)C3=C(C(=CC=C3)C4=CN=C(C(=N4)OC)CNC(C)(C)CO)Cl', 'C[C@@H](C1=NC=C(N=C1OC)C2=CC=CC(=C2Cl)C3=C(C(=CC=C3)C4=CN=C(C(=N4)OC)[C@H](C)N)Cl)N', 'C[C@H](C1=NC=C(N=C1OC)C2=CC=CC(=C2Cl)C3=C(C(=CC=C3)C4=CN=C(C(=N4)OC)[C@@H](C)N)Cl)N', 'COC1=NC(=CN=C1CNC[C@@H]2CCC(=O)N2)C3=CC=CC(=C3Cl)C4=C(C(=CC=C4)C5=CN=C(C(=N5)OC)CN[C@@H]6CC[C@H]7[C@@H]6NC(=O)C7)Cl', 'COC1=NC(=CN=C1CN[C@@H]2CC[C@H]3[C@@H]2NC(=O)C3)C4=CC=CC(=C4Cl)C5=C(C(=CC=C5)C6=CN=C(C(=N6)OC)CN[C@@H]7CC[C@H]8[C@@H]7NC(=O)C8)Cl', 'COC1=NC(=CN=C1CN2CC3(C2)CC(=O)NC3)C4=CC=CC(=C4Cl)C5=C(C(=CC=C5)C6=CN=C(C(=N6)OC)CN7CC8(C7)CC(=O)NC8)Br', 'COC1=NC(=CN=C1CN2CC3(C2)CCC(=O)N3)C4=CC=CC(=C4Cl)C5=C(C(=CC=C5)C6=CN=C(C(=N6)OC)CN7CC8(C7)CCC(=O)N8)Br', 'COC1=NC(=CN=C1CN2CC(C2)O)C3=CC=CC(=C3Cl)C4=C(C(=CC=C4)C5=CN=C(C(=N5)OC)CN6CC(C6)O)Br', 'COC1=NC(=CN=C1CNC[C@H]2CCC(=O)N2)C3=CC=CC(=C3Cl)C4=C(C(=CC=C4)C5=CN=C(C(=N5)OC)CNC[C@H]6CCC(=O)N6)Br', 'COC1=NC(=CN=C1CNC[C@@H]2CCC(=O)N2)C3=CC(=CC(=C3Cl)C4=C(C(=CC(=C4)F)C5=CN=C(C(=N5)OC)CNC[C@@H]6CCC(=O)N6)Cl)F', 'COC1=NC(=CN=C1CNC[C@@H]2CCC(=O)N2)C3=CC=CC(=C3Cl)C4=C(C(=CC(=C4)F)C5=CN=C(C(=N5)OC)CNC[C@@H]6CCC(=O)N6)Cl', 'COC1=NC(=CN=C1CN2CC(C2)O)C3=CC=CC(=C3Cl)C4=C(C(=CC(=C4)F)C5=CN=C(C(=N5)OC)CN6CC(C6)O)Cl', 'COC1CN(C1)CC2=NC=C(N=C2OC)C3=CC=CC(=C3Cl)C4=C(C(=CC=C4)C5=CN=C(C(=N5)OC)CN6CC(C6)OC)Cl', 'CN(C)CC1=NC=C(N=C1OC)C2=CC=CC(=C2Cl)C3=C(C(=CC=C3)C4=CN=C(C(=N4)OC)CN(C)C)Cl', 'CNCC1=NC=C(N=C1OC)C2=CC=CC(=C2Cl)C3=C(C(=CC=C3)C4=CN=C(C(=N4)OC)CNC)Cl', 'COC1=NC(=CN=C1CNC[C@@H]2CCC(=O)N2)C3=CC=CC(=C3Cl)C4=C(C(=CC=C4)C5=CN=C(C(=N5)OC)CNCC6CC(=O)NC6=O)Cl', 'COC1=NC(=CN=C1CNC[C@@H]2CCC(=O)N2)C3=CC=CC(=C3Cl)C4=C(C(=CC=C4)C5=CN=C(C(=N5)OC)CN6CCC(C6)C7=NC=CN=C7)Cl', 'COC1=NC(=CN=C1CNC[C@@H]2CCC(=O)N2)C3=CC=CC(=C3Cl)C4=C(C(=CC=C4)C5=CN=C(C(=N5)OC)CN6CCC(C6)C7=CN=CC=C7)Cl', 'COC1=NC(=CN=C1CNC[C@@H]2CCC(=O)N2)C3=CC=CC(=C3Cl)C4=C(C(=CC=C4)C5=CN=C(C(=N5)OC)CN6CCC(C6)C7=CC=CC=N7)Cl', 'COC1=NC(=CN=C1CNC[C@@H]2CCC(=O)N2)C3=CC=CC(=C3Cl)C4=C(C(=CC=C4)C5=CN=C(C(=N5)OC)CN6CCC(C6)(CC#N)O)Cl', 'COC1=NC(=CN=C1CNC[C@@H]2CCC(=O)N2)C3=CC=CC(=C3Cl)C4=C(C(=CC=C4)C5=CN=C(C(=N5)OC)CN6CCC(C6)C7=NC=CC=N7)Cl', 'COC1=NC(=CN=C1CNC[C@@H]2CCC(=O)N2)C3=CC=CC(=C3Cl)C4=C(C(=CC=C4)C5=CN=C(C(=N5)OC)CN6CCC(C6)C7CCCO7)Cl', 'COC1=NC(=CN=C1CNC[C@@H]2CCC(=O)N2)C3=CC=CC(=C3Cl)C4=C(C(=CC=C4)C5=CN=C(C(=N5)OC)CN6CCC(C6)C7=CC=NC=C7)Cl', 'COC1=NC(=CN=C1CNC[C@@H]2CCC(=O)N2)C3=CC=CC(=C3Cl)C4=C(C(=CC=C4)C5=CN=C(C(=N5)OC)CN6CCC(C6)C7CCOC7)Cl', 'COC1=NC(=CN=C1CNCCC2=CC(=CN=C2)O)C3=CC=CC(=C3Cl)C4=C(C(=CC=C4)C5=CN=C(C(=N5)OC)CNC[C@@H]6CCC(=O)N6)Cl', 'COC1=NC(=CN=C1CNC[C@@H]2CCC(=O)N2)C3=CC=CC(=C3Cl)C4=C(C(=CC=C4)C5=CN=C(C(=N5)OC)CNCC(CN6CCCC6)O)Cl', 'COC1=C2CN(CC2=NC=C1)CC3=NC=C(N=C3OC)C4=CC=CC(=C4Cl)C5=C(C(=CC=C5)C6=CN=C(C(=N6)OC)CNC[C@@H]7CCC(=O)N7)Cl', 'COC1=NC(=CN=C1CNC[C@@H]2CCC(=O)N2)C3=CC=CC(=C3Cl)C4=C(C(=CC=C4)C5=CN=C(C(=N5)OC)CNC6CCN(CC6)C(=O)C7=COC=C7)Cl', 'CN1CCC(CC1=O)NCC2=NC=C(N=C2OC)C3=CC=CC(=C3Cl)C4=C(C(=CC=C4)C5=CN=C(C(=N5)OC)CNC[C@@H]6CCC(=O)N6)Cl', 'COC1=NC(=CN=C1CNCCC2=CC=CC=N2)C3=CC=CC(=C3Cl)C4=C(C(=CC=C4)C5=CN=C(C(=N5)OC)CNC[C@@H]6CCC(=O)N6)Cl', 'COC1=NC(=CN=C1CNC[C@@H]2CCC(=O)N2)C3=CC=CC(=C3Cl)C4=C(C(=CC=C4)C5=CN=C(C(=N5)OC)CNCC6=CC=CC=N6)Cl', 'COC1=NC(=CN=C1CNCCCC2=NC3=CC=CC=C3N2)C4=CC=CC(=C4Cl)C5=C(C(=CC=C5)C6=CN=C(C(=N6)OC)CNC[C@@H]7CCC(=O)N7)Cl', 'COC1=NC(=CN=C1CNC[C@@H]2CCC(=O)N2)C3=CC=CC(=C3Cl)C4=C(C(=CC=C4)C5=CN=C(C(=N5)OC)CNCC6=NC=CC=N6)Cl', 'COC1=NC(=CN=C1CNC[C@@H]2CCC(=O)N2)C3=CC=CC(=C3Cl)C4=C(C(=CC=C4)C5=CN=C(C(=N5)OC)CNC6(CC6)C7=CC=CC=N7)Cl', 'COC1=NC(=CN=C1CNC[C@@H]2CCC(=O)N2)C3=CC=CC(=C3Cl)C4=C(C(=CC=C4)C5=CN=C(C(=N5)OC)CNCC6=CC=NC=C6)Cl', 'COC1=NC(=CN=C1CNC[C@@H]2CCC(=O)N2)C3=CC=CC(=C3Cl)C4=C(C(=CC=C4)C5=CN=C(C(=N5)OC)CN6C[C@@H](C[C@H]6CO)O)Cl', 'COC1=NC(=CN=C1CNC[C@@H]2CCC(=O)N2)C3=CC=CC(=C3Cl)C4=C(C(=CC=C4)C5=CN=C(C(=N5)OC)CNC6(CC6)C7=CN=CC=C7)Cl', 'COC1=NC(=CN=C1CNC[C@@H]2CCC(=O)N2)C3=CC=CC(=C3Cl)C4=C(C(=CC=C4)C5=CN=C(C(=N5)OC)CNCC6=CN=CC=C6)Cl', 'COC1=NC(=CN=C1CNC[C@@H]2CCC(=O)N2)C3=CC=CC(=C3Cl)C4=C(C(=CC=C4)C5=CN=C(C(=N5)OC)CNCC6(CC6)O)Cl', 'CO[C@@H]1CCN(C1)CC2=NC=C(N=C2OC)C3=CC=CC(=C3Cl)C4=C(C(=CC=C4)C5=CN=C(C(=N5)OC)CNC[C@@H]6CCC(=O)N6)Cl', 'COC1=NC(=CN=C1CNC[C@@H]2CCC(=O)N2)C3=CC=CC(=C3Cl)C4=C(C(=CC=C4)C5=CN=C(C(=N5)OC)CNC(CO)(CO)CO)Cl', 'COC1=NC(=CN=C1CNC[C@@H]2CCC(=O)N2)C3=CC=CC(=C3Cl)C4=C(C(=CC=C4)C5=CN=C(C(=N5)OC)CNCC6(CC6)C#N)Cl', 'CO[C@H]1CCN(C1)CC2=NC=C(N=C2OC)C3=CC=CC(=C3Cl)C4=C(C(=CC=C4)C5=CN=C(C(=N5)OC)CNC[C@@H]6CCC(=O)N6)Cl', 'COC1=NC(=CN=C1CNC[C@@H]2CCC(=O)N2)C3=CC=CC(=C3Cl)C4=C(C(=CC=C4)C5=CN=C(C(=N5)OC)CN6CC[C@@H](C6)O)Cl', 'COC1=NC(=CN=C1CNC[C@@H]2CCC(=O)N2)C3=CC=CC(=C3Cl)C4=C(C(=CC=C4)C5=CN=C(C(=N5)OC)CNC6CC(C6)(CF)O)Cl', 'COC1=NC(=CN=C1CNC[C@@H]2CCC(=O)N2)C3=CC=CC(=C3Cl)C4=C(C(=CC=C4)C5=CN=C(C(=N5)OC)CNCC6OCCO6)Cl', 'COC1=NC(=CN=C1CNCC[C@@H]2CCC(=O)N2)C3=CC=CC(=C3Cl)C4=C(C(=CC=C4)C5=CN=C(C(=N5)OC)CNCC[C@@H]6CCC(=O)N6)Cl', 'COC1=NC(=CN=C1CNC[C@@H]2CCC(=O)N2)C3=CC=CC(=C3Cl)C4=C(C(=CC=C4)C5=CN=C(C(=N5)OC)CNC[C@H]6CC(=O)NC6)Cl', 'COC1=C(C=CC(=N1)C2=CC=CC(=C2Cl)C3=C(C(=CC=C3)C4=CN=C(C(=N4)OC)CN)Cl)CN', 'COC1=C(C=CC(=N1)C2=CC=CC(=C2Cl)C3=C(C(=CC=C3)C4=CN=C(C(=N4)OC)CN5CC6(C5)CC(=O)NC6)Cl)CN7CC8(C7)CC(=O)NC8', 'COC1CN(C1)CC2=C(N=C(C=C2)C3=CC=CC(=C3Cl)C4=C(C(=CC=C4)C5=CN=C(C(=N5)OC)CN6CC(C6)OC)Cl)OC', 'COC1=C(C=CC(=N1)C2=CC=CC(=C2Cl)C3=C(C(=CC=C3)C4=CN=C(C(=N4)OC)CN5CC(C5)O)Cl)CN6CC(C6)O', 'COC1=C(C=CC(=N1)C2=CC=CC(=C2Cl)C3=C(C(=CC=C3)C4=NC=C(N=C4)CNC[C@@H]5CCC(=O)N5)Cl)CNC[C@@H]6CCC(=O)N6', 'COC1=NC(=CN=C1CNC[C@@H]2CCC(=O)N2)C3=CC=CC(=C3Cl)C4=C(C(=CC=C4)C5=CN=C(C(=N5)OC)CN6CCC(C6)C7=CNN=C7)Cl', 'CC1(CCN(C1)CC2=NC=C(N=C2OC)C3=CC=CC(=C3Cl)C4=C(C(=CC=C4)C5=CN=C(C(=N5)OC)CNC[C@@H]6CCC(=O)N6)Cl)CO', 'CC1(CCN(C1)CC2=NC=C(N=C2OC)C3=CC=CC(=C3Cl)C4=C(C(=CC=C4)C5=CN=C(C(=N5)OC)CNC[C@@H]6CCC(=O)N6)Cl)OC', 'CC1(CN(C1)CC2=NC=C(N=C2OC)C3=CC=CC(=C3Cl)C4=C(C(=CC=C4)C5=CN=C(C(=N5)OC)CN6CC7(C6)CC(=O)NC7)Cl)O', 'CC1(CN(C1)CC2=NC=C(N=C2OC)C3=CC=CC(=C3Cl)C4=C(C(=CC=C4)C5=CN=C(C(=N5)OC)CN6CC7(C6)CCC(=O)N7)Cl)O', 'CC1(CN(C1)CC2=NC=C(N=C2OC)C3=CC=CC(=C3Cl)C4=C(C(=CC=C4)C5=CN=C(C(=N5)OC)CNC[C@H]6CCC(=O)N6)Cl)O', 'CC(=O)N1CC2(C1)CN(C2)CC3=NC=C(N=C3OC)C4=CC=CC(=C4Cl)C5=C(C(=CC=C5)C6=CN=C(C(=N6)OC)CN7CC(C7)(C)O)Cl', 'CC1(CN(C1)CC2=NC=C(N=C2OC)C3=CC=CC(=C3Cl)C4=C(C(=CC=C4)C5=CN=C(C(=N5)OC)CN6CC[C@H](C6)CO)Cl)O', 'CC1(CN(C1)CC2=NC=C(N=C2OC)C3=CC=CC(=C3Cl)C4=C(C(=CC=C4)C5=CN=C(C(=N5)OC)CNCCO)Cl)O', 'CN1C=C(C2=C1C=C(C=N2)C3=CC=CC(=C3Cl)C4=C(C(=CC=C4)C5=CN=C(C(=N5)OC)CN6CC7(C6)CCC(=O)N7)Cl)CN8CC9(C8)CCC(=O)N9', 'CC(=O)N1CC2(C1)CN(C2)CC3=CN(C4=C3N=CC(=C4)C5=CC=CC(=C5Cl)C6=C(C(=CC=C6)C7=CN=C(C(=N7)OC)CN8CC9(C8)CN(C9)C(=O)C)Cl)C', 'CCC(=O)NC1CCN(C1)CC2=NC=C(N=C2OC)C3=CC=CC(=C3Cl)C4=C(C(=CC=C4)C5=CN=C(C(=N5)OC)CNC[C@@H]6CCC(=O)N6)Cl', 'CC1(CCCN1CC2=NC=C(N=C2OC)C3=CC=CC(=C3Cl)C4=C(C(=CC=C4)C5=CN=C(C(=N5)OC)CNC[C@@H]6CCC(=O)N6)Cl)CO', 'COC1=NC(=CN=C1CNCCOC(=O)N)C2=CC=CC(=C2Cl)C3=C(C(=CC=C3)C4=CN=C(C(=N4)OC)CNCCOC(=O)N)Cl', 'COC1=NC(=CN=C1CNCC2=CN(N=C2)CCO)C3=CC=CC(=C3Cl)C4=C(C(=CC=C4)C5=CN=C(C(=N5)OC)CNCC6=CN(N=C6)CCO)Cl', 'COC1=NC(=CN=C1CNCC2=CNN=C2)C3=CC=CC(=C3Cl)C4=C(C(=CC=C4)C5=CN=C(C(=N5)OC)CNCC6=CNN=C6)Cl', 'C[C@@H](C1CCN(CC1)CC2=NC=C(N=C2OC)C3=CC=CC(=C3Cl)C4=C(C(=CC=C4)C5=CN=C(C(=N5)OC)CNC[C@@H]6CCC(=O)N6)Cl)O', 'COC1=NC(=CN=C1CNC[C@@H]2CCC(=O)N2)C3=CC=CC(=C3Cl)C4=C(C(=CC=C4)C5=CN=C(C(=N5)OC)CN[C@H]6CC[C@H](C6)C#N)Cl', 'CN(CC1CC(C1)O)CC2=NC=C(N=C2OC)C3=CC=CC(=C3Cl)C4=C(C(=CC=C4)C5=CN=C(C(=N5)OC)CNC[C@@H]6CCC(=O)N6)Cl', 'COCC1(CCN(C1)CC2=NC=C(N=C2OC)C3=CC=CC(=C3Cl)C4=C(C(=CC=C4)C5=CN=C(C(=N5)OC)CN6CCC(C6)(CO)COC)Cl)CO', 'COC1=NC(=CN=C1CNCCC2=NC=NN2)C3=CC=CC(=C3Cl)C4=C(C(=CC=C4)C5=CN=C(C(=N5)OC)CNC[C@@H]6CCC(=O)N6)Cl', 'COC1=NC(=CN=C1CNC[C@@H]2CCC(=O)N2)C3=CC=CC(=C3Cl)C4=C(C(=CC=C4)C5=CN=C(C(=N5)OC)CN6CCC(C6)C7=NC=NN7)Cl', 'COCC1(CCN(C1)CC2=NC=C(N=C2OC)C3=CC=CC(=C3Cl)C4=C(C(=CC=C4)C5=CN=C(C(=N5)OC)CNC[C@@H]6CCC(=O)N6)Cl)CO', 'COC1=NC(=CN=C1CNC[C@@H]2CCC(=O)N2)C3=CC=CC(=C3Cl)C4=C(C(=CC=C4)C5=CN=C(C(=N5)OC)CNC6CC(C6)C(=O)N)Cl', 'COC1=NC(=CN=C1CNC[C@@H]2CCC(=O)N2)C3=CC=CC(=C3Cl)C4=C(C(=CC=C4)C5=CN=C(C(=N5)OC)CNC6CC(C6)C(=O)N)Cl', 'COC1=NC(=CN=C1CNC2CCN(CC2)C(=O)N)C3=CC=CC(=C3Cl)C4=C(C(=CC=C4)C5=CN=C(C(=N5)OC)CNC6CCN(CC6)C(=O)N)Cl', 'COC1=NC(=CN=C1CNCC2CCN(C2)C(=O)N)C3=CC=CC(=C3Cl)C4=C(C(=CC=C4)C5=CN=C(C(=N5)OC)CNCC6CCN(C6)C(=O)N)Cl', 'CNC(=O)C1CCN(C1)CC2=NC=C(N=C2OC)C3=CC=CC(=C3Cl)C4=C(C(=CC=C4)C5=CN=C(C(=N5)OC)CC6CCN(C6)C(=O)NC)Cl', 'CC1CC[C@H]1NCC2=NC=C(N=C2OC)C3=CC=CC(=C3Cl)C4=C(C(=CC=C4)C5=CN=C(C(=N5)OC)CNC[C@@H]6CCC(=O)N6)Cl', 'COC1=NC(=CN=C1CNC[C@@H]2CCC(=O)N2)C3=CC=CC(=C3Cl)C4=C(C(=CC=C4)C5=CN=C(C(=N5)OC)CNC6CCN(CC6)C(=O)N)Cl', 'COC1=NC(=CN=C1CNC[C@@H]2CCC(=O)N2)C3=CC=CC(=C3Cl)C4=C(C(=CC=C4)C5=CN=C(C(=N5)OC)CNCC6CCN(C6)C(=O)N)Cl', 'CNC(=O)C1CCN(C1)CC2=NC=C(N=C2OC)C3=CC=CC(=C3Cl)C4=C(C(=CC=C4)C5=CN=C(C(=N5)OC)CNC[C@@H]6CCC(=O)N6)Cl', 'COC1=NC(=CN=C1CNC[C@@H]2CCC(=O)N2)C3=CC=CC(=C3Cl)C4=C(C(=CC=C4)C5=CN=C(C(=N5)OC)CN[C@@H]6CCC(C6)C(=O)N)Cl', 'COC1=NC(=CN=C1CN2C3CC2COC3)C4=CC=CC(=C4Cl)C5=C(C(=CC=C5)C6=CN=C(C(=N6)OC)CN7C8CC7COC8)Cl', 'COC1=NC(=CN=C1CNC[C@@H]2CC(=O)NC2)C3=CC=CC(=C3Cl)C4=C(C(=CC=C4)C5=CN=C(C(=N5)OC)CNC[C@@H]6CC(=O)NC6)Cl', 'COC1=NC(=CN=C1CNC[C@H]2CCC[C@@H]2O)C3=CC=CC(=C3Cl)C4=C(C(=CC=C4)C5=CN=C(C(=N5)OC)CNC[C@H]6CCC[C@@H]6O)Cl', 'COC1=NC(=CN=C1CN2CC3CC2(C3)CO)C4=CC=CC(=C4Cl)C5=C(C(=CC=C5)C6=CN=C(C(=N6)OC)CN7CC8CC7(C8)CO)Cl', 'CC(C)(C1CN(C1)CC2=NC=C(N=C2OC)C3=CC=CC(=C3Cl)C4=C(C(=CC=C4)C5=CN=C(C(=N5)OC)CN6CC(C6)C(C)(C)O)Cl)O', 'C[C@H]1CN(C[C@@H]1O)CC2=NC=C(N=C2OC)C3=CC=CC(=C3Cl)C4=C(C(=CC=C4)C5=CN=C(C(=N5)OC)CNCN6C[C@@H]([C@H](C6)O)C)Cl', 'COC1=NC(=CN=C1CNC[C@H]2CC(=O)NC2)C3=CC=CC(=C3Cl)C4=C(C(=CC=C4)C5=CN=C(C(=N5)OC)CNC[C@H]6CC(=O)NC6)Cl', 'COC1=NC(=CN=C1CNC[C@@H]2CCC(=O)N2)C3=CC=CC(=C3Cl)C4=C(C(=CC=C4)C5=CN=C(C(=N5)OC)CNC[C@@H]6CC(=O)NC6)Cl', 'COC1=NC(=CN=C1CNC[C@@H]2CCC(=O)N2)C3=CC=CC(=C3Cl)C4=C(C(=CC=C4)C5=CN=C(C(=N5)OC)CN6CC[C@@]7(C[C@@H]7C6)O)Cl', 'CC(C)(C1CCCN1CC2=NC=C(N=C2OC)C3=CC=CC(=C3Cl)C4=C(C(=CC=C4)C5=CN=C(C(=N5)OC)CNC[C@@H]6CCC(=O)N6)Cl)O', 'CC(C)(C1CN(C1)CC2=NC=C(N=C2OC)C3=CC=CC(=C3Cl)C4=C(C(=CC=C4)C5=CN=C(C(=N5)OC)CNC[C@@H]6CCC(=O)N6)Cl)O', 'COC1=NC(=CN=C1CNC[C@@H]2CCC(=O)N2)C3=CC=CC(=C3Cl)C4=C(C(=CC=C4)C5=CN=C(C(=N5)OC)CN6C7CC6COC7)Cl', 'COC1=NC(=CN=C1CNC[C@@H]2CCC(=O)N2)C3=CC=CC(=C3Cl)C4=C(C(=CC=C4)C5=CN=C(C(=N5)OC)CNCC6(CCC6)O)Cl', 'C[C@H]1CN(C[C@@H]1O)CC2=NC=C(N=C2OC)C3=CC=CC(=C3Cl)C4=C(C(=CC=C4)C5=CN=C(C(=N5)OC)CNC[C@@H]6CCC(=O)N6)Cl', 'CC(=O)N1CC2(C1)CN(C2)CC3=NC=C(N=C3NC)C4=CC=CC(=C4Cl)C5=C(C(=CC=C5)C6=CN=C(C(=N6)OC)CNC[C@@H]7CCC(=O)N7)Cl', 'CC(=O)N1CC2(C1)CN(C2)CC3=NN(C4=NC(=CN=C34)C5=CC=CC(=C5Cl)C6=C(C(=CC=C6)C7=CN=C(C(=N7)OC)CN8CC9(C8)CN(C9)C(=O)C)Cl)C', 'CCN1C2=NC(=CN=C2C(=N1)CN3CC4(C3)CN(C4)C(=O)C)C5=CC=CC(=C5Cl)C6=C(C(=CC=C6)C7=CN=C(C(=N7)OC)CN8CC9(C8)CN(C9)C(=O)C)Cl', 'CC(=O)N1CC2(C1)CN(C2)CC3=CN(C4=C3C=CC(=N4)C5=CC=CC(=C5Cl)C6=C(C(=CC=C6)C7=CN=C(C(=N7)OC)CN8CC9(C8)CN(C9)C(=O)C)Cl)C', 'CN1C=C(C2=C1N=C(C=C2)C3=CC=CC(=C3Cl)C4=C(C(=CC=C4)C5=CN=C(C(=N5)OC)CN6CC(C6)O)Cl)CN7CC(C7)O', 'CN1C=C(C2=C1N=C(C=C2)C3=CC=CC(=C3Cl)C4=C(C(=CC=C4)C5=CN=C(C(=N5)OC)CN6CC7(C6)CC(=O)NC7)Cl)CN8CC9(C8)CC(=O)NC9', 'CN1C=C(C2=C1N=C(C=C2)C3=CC=CC(=C3Cl)C4=C(C(=CC=C4)C5=CN=C(C(=N5)OC)CN6CC7(C6)CCC(=O)N7)Cl)CN8CC9(C8)CCC(=O)N9', 'CN1C=C(C2=C1N=C(C=C2)C3=CC=CC(=C3Cl)C4=C(C(=CC=C4)C5=CN=C(C(=N5)OC)CNC[C@@H]6CCC(=O)N6)Cl)CNC[C@@H]7CCC(=O)N7', 'C1CN(C1)C2=NC(=CN=C2CN3CC(C3)O)C4=CC=CC(=C4Cl)C5=C(C(=CC=C5)C6=CN=C(C(=N6)N7CCC7)CN8CC(C8)O)Cl', 'COC1=C(C=CC(=N1)C2=CC=CC(=C2F)C3=C(C(=CC=C3)C4=CN=C(C(=N4)OC)CN5CC6(C5)CC(=O)NC6)Cl)CN7CC8(C7)CC(=O)NC8', 'COC1=C(C=CC(=N1)C2=CC=CC(=C2F)C3=C(C(=CC=C3)C4=CN=C(C(=N4)OC)CNC[C@@H]5CCC(=O)N5)Cl)CNC[C@@H]6CCC(=O)N6', 'CC(C)([C@@H]1CCN(C1)CC2=NC=C(N=C2OC)C3=CC=CC(=C3Cl)C4=C(C(=CC=C4)C5=CN=C(C(=N5)OC)CN6CC[C@H](C6)C(C)(C)O)Cl)O', 'CC(C)([C@H]1CCN(C1)CC2=NC=C(N=C2OC)C3=CC=CC(=C3Cl)C4=C(C(=CC=C4)C5=CN=C(C(=N5)OC)CN6CC[C@@H](C6)C(C)(C)O)Cl)O', 'CC(C)([C@@H]1CCN(C1)CC2=NC=C(N=C2OC)C3=CC=CC(=C3Cl)C4=C(C(=CC=C4)C5=CN=C(C(=N5)OC)CNC[C@@H]6CCC(=O)N6)Cl)O', 'CC(C)([C@H]1CCN(C1)CC2=NC=C(N=C2OC)C3=CC=CC(=C3Cl)C4=C(C(=CC=C4)C5=CN=C(C(=N5)OC)CNC[C@@H]6CCC(=O)N6)Cl)O', 'COC1=NC(=CN=C1CNC[C@@H]2CCC(=O)N2)C3=CC=CC(=C3Cl)C4=C(C(=CC=C4)C5=CN=C(C(=N5)OC)CN6CCC(CC6)C(=O)N)Cl', 'COC1=NC(=CN=C1CNC[C@@H]2CCC(=O)N2)C3=CC=CC(=C3Cl)C4=C(C(=CC=C4)C5=CN=C(C(=N5)OC)CNC6CCOCC6)Cl', 'C[C@@]1(CCN(C1)CC2=NC=C(N=C2OC)C3=CC=CC(=C3Cl)C4=C(C(=CC=C4)C5=CN=C(C(=N5)OC)CNC[C@@H]6CCC(=O)N6)Cl)O', 'COC1=NC(=CN=C1CNC[C@@H]2CCC(=O)N2)C3=CC=CC(=C3Cl)C4=C(C(=CC=C4)C5=CN=C(C(=N5)OC)CNC6CC(C6)CO)Cl', 'COC1=C(C=CC(=N1)C2=CC=CC(=C2Cl)C3=C(C(=CC=C3)C4=CN=C(C(=N4)OC)CNCCC(=O)O)Cl)CNC[C@@H]5CCC(=O)N5', 'COC1=C(C=CC(=N1)C2=CC=CC(=C2Cl)C3=C(C(=CC=C3)C4=CN=C(C(=N4)OC)CN5CC[C@@H](C5)C(=O)O)Cl)CNC[C@@H]6CCC(=O)N6', 'COC1=C(C=CC(=N1)C2=CC=CC(=C2Cl)C3=C(C(=CC=C3)C4=CN=C(C(=N4)OC)CN5CC[C@H](C5)C(=O)O)Cl)CNC[C@@H]6CCC(=O)N6', 'COC1=NC(=CN=C1CNC[C@@H]2CCC(=O)N2)C3=CC=CC(=C3Cl)C4=C(C(=CC=C4)C5=CN=C(C(=N5)OC)CN6CCC(C6)C7=CC=NN7)Cl', 'C[C@H]1[C@H](CCN1CC2=NC=C(N=C2OC)C3=CC=CC(=C3Cl)C4=C(C(=CC=C4)C5=CN=C(C(=N5)OC)CNC[C@@H]6CCC(=O)N6)Cl)O', 'COC1=NC(=CN=C1CNC[C@@H]2CCC(=O)N2)C3=CC=CC(=C3Cl)C4=C(C(=CC=C4)C5=CN=C(C(=N5)OC)CN6CC[C@@H](C6)C(=O)N)Cl', 'COC1=NC(=CN=C1CNCCC2=NC=CN=C2)C3=CC=CC(=C3Cl)C4=C(C(=CC=C4)C5=CN=C(C(=N5)OC)CNCCC6=NC=CN=C6)Cl', 'COC1=NC(=CN=C1CN2C[C@H]([C@H](C2)O)O)C3=CC=CC(=C3Cl)C4=C(C(=CC=C4)C5=CN=C(C(=N5)OC)CN6C[C@H]([C@H](C6)O)O)Cl', 'COC1=NC(=CN=C1CNCCC2=CN=CN=C2)C3=CC=CC(=C3Cl)C4=C(C(=CC=C4)C5=CN=C(C(=N5)OC)CNC[C@@H]6CCC(=O)N6)Cl', 'COC1=NC(=CN=C1CNCCC2=NC=CN=C2)C3=CC=CC(=C3Cl)C4=C(C(=CC=C4)C5=CN=C(C(=N5)OC)CNC[C@@H]6CCC(=O)N6)Cl', 'COC1=NC(=CN=C1CNC[C@@H]2CCC(=O)N2)C3=CC=CC(=C3Cl)C4=C(C(=CC=C4)C5=CN=C(C(=N5)OC)CN(CCO)CCO)Cl', 'COC1=NC(=CN=C1CNC[C@@H]2CCC(=O)N2)C3=CC=CC(=C3Cl)C4=C(C(=CC=C4)C5=CN=C(C(=N5)OC)CN6CCC(C6)(CO)O)Cl', 'COC1=NC(=CN=C1CNC[C@@H]2CCC(=O)N2)C3=CC=CC(=C3Cl)C4=C(C(=CC=C4)C5=CN=C(C(=N5)OC)CN6C[C@H]([C@H](C6)O)O)Cl', 'COC1=NC(=CN=C1CN2CCC(C2)N3CCNC3=O)C4=CC=CC(=C4Cl)C5=C(C(=CC=C5)C6=CN=C(C(=N6)OC)CN7CCC(C7)N8CCNC8=O)Cl', 'COC1=NC(=CN=C1CN2C[C@@H]([C@H](C2)O)O)C3=CC=CC(=C3Cl)C4=C(C(=CC=C4)C5=CN=C(C(=N5)OC)CN6C[C@@H]([C@H](C6)O)O)Cl', 'COC1=NC(=CN=C1CN2CC(C2)C(=O)N)C3=CC=CC(=C3Cl)C4=C(C(=CC=C4)C5=CN=C(C(=N5)OC)CN6CC(C6)C(=O)N)Cl', 'COC1=NC(=CN=C1CNC[C@@H]2CCC(=O)N2)C3=CC=CC(=C3Cl)C4=C(C(=CC=C4)C5=CN=C(C(=N5)OC)CN6CCC(C6)N7CCNC7=O)Cl', 'COC1=NC(=CN=C1CNC[C@@H]2CCC(=O)N2)C3=CC=CC(=C3Cl)C4=C(C(=CC=C4)C5=CN=C(C(=N5)OC)CN6C[C@@H]([C@H](C6)O)O)Cl', 'COC[C@@H]1C[C@@H](CN1CC2=NC=C(N=C2OC)C3=CC=CC(=C3Cl)C4=C(C(=CC=C4)C5=CN=C(C(=N5)OC)CNC[C@@H]6CCC(=O)N6)Cl)OC', 'CN(C)C(=O)C1CCN(C1)CC2=NC=C(N=C2OC)C3=CC=CC(=C3Cl)C4=C(C(=CC=C4)C5=CN=C(C(=N5)OC)CN6CCC(C6)C(=O)N(C)C)Cl', 'COC1=NC(=CN=C1CN2CC[C@H](C2)C(=O)N)C3=CC=CC(=C3Cl)C4=C(C(=CC=C4)C5=CN=C(C(=N5)OC)CN6CC[C@H](C6)C(=O)N)Cl', 'C[C@@H]1CN(C[C@H]1CO)CC2=NC=C(N=C2OC)C3=CC=CC(=C3Cl)C4=C(C(=CC=C4)C5=CN=C(C(=N5)OC)CN6C[C@H]([C@@H](C6)CO)C)Cl', 'CN(C)C(=O)C1CCN(C1)CC2=NC=C(N=C2OC)C3=CC=CC(=C3Cl)C4=C(C(=CC=C4)C5=CN=C(C(=N5)OC)CNC[C@@H]6CCC(=O)N6)Cl', 'COC1=NC(=CN=C1CNC[C@@H]2CCC(=O)N2)C3=CC=CC(=C3Cl)C4=C(C(=CC=C4)C5=CN=C(C(=N5)OC)CN6CC[C@H](C6)C(=O)N)Cl', 'COC1=NC(=CN=C1CNC[C@@H]2CCC(=O)N2)C3=CC=CC(=C3Cl)C4=C(C(=CC=C4)C5=CN=C(C(=N5)OC)CNC6CC(C6)OC(F)F)Cl', 'COC1=NC(=CN=C1CN2CCC3(C2)CCC(=O)N3)C4=CC=CC(=C4Cl)C5=C(C(=CC=C5)C6=CN=C(C(=N6)OC)CN7CCC8(C7)CCC(=O)N8)Cl', 'COC1=NC(=CN=C1CNCC[C@H]2CC(=O)NC2)C3=CC=CC(=C3Cl)C4=C(C(=CC=C4)C5=CN=C(C(=N5)OC)CNCC[C@H]6CC(=O)NC6)Cl', 'COC1=NC(=CN=C1CNCC[C@H]2CC(=O)NC2)C3=CC=CC(=C3Cl)C4=C(C(=CC=C4)C5=CN=C(C(=N5)OC)CNC[C@@H]6CCC(=O)N6)Cl', 'COC1=NC(=CN=C1CNCC[C@@H]2CC(=O)NC2)C3=CC=CC(=C3Cl)C4=C(C(=CC=C4)C5=CN=C(C(=N5)OC)CNCC[C@@H]6CC(=O)NC6)Cl', 'COC1=NC(=CN=C1CNCC[C@@H]2CC(=O)NC2)C3=CC=CC(=C3Cl)C4=C(C(=CC=C4)C5=CN=C(C(=N5)OC)CNC[C@@H]6CCC(=O)N6)Cl', 'COC1=NC(=CN=C1CNC[C@@H]2CCC(=O)N2)C3=CC=CC(=C3Cl)C4=C(C(=CC=C4)C5=CN=C(C(=N5)OC)CN6CCC[C@H]7[C@@H]6CNC7=O)Cl', 'CN1CCC(C1=O)CNCC2=NC=C(N=C2OC)C3=CC=CC(=C3Cl)C4=C(C(=CC=C4)C5=CN=C(C(=N5)OC)CNC[C@@H]6CCC(=O)N6)Cl', 'COC1=NC(=CN=C1CNCC23CC(C2)(C3)O)C4=CC=CC(=C4Cl)C5=C(C(=CC=C5)C6=CN=C(C(=N6)OC)CNCC78CC(C7)(C8)O)Cl', 'COC1=NC(=CN=C1CNC[C@@H]2CCC(=O)N2)C3=CC=CC(=C3Cl)C4=C(C(=CC=C4)C5=CN=C(C(=N5)OC)CNCC67CC(C6)(C7)O)Cl', 'COC1=NC(=CN=C1CNCC2CN(C2)S(=O)(=O)C)C3=CC=CC(=C3Cl)C4=C(C(=CC=C4)C5=CN=C(C(=N5)OC)CNCC6CN(C6)S(=O)(=O)C)Cl', 'COC1=NC(=CN=C1CNC[C@@H]2CCC(=O)N2)C3=CC=CC(=C3Cl)C4=C(C(=CC=C4)C5=CN=C(C(=N5)OC)CNCC6CN(C6)S(=O)(=O)C)Cl', 'COC1=NC(=CN=C1CN2CC(C2)(C3CC3)O)C4=CC=CC(=C4Cl)C5=C(C(=CC=C5)C6=CN=C(C(=N6)OC)CN7CC(C7)(C8CC8)O)Cl', 'COC1=NC(=CN=C1CNC[C@@H]2CCC(=O)N2)C3=CC=CC(=C3Cl)C4=C(C(=CC=C4)C5=CN=C(C(=N5)OC)CN6CC(C6)(C7CC7)O)Cl', 'COC1=NC(=CN=C1CN2CC(C2)(C#C)O)C3=CC=CC(=C3Cl)C4=C(C(=CC=C4)C5=CN=C(C(=N5)OC)CN6CC(C6)(C#C)O)Cl', 'COC1=NC(=CN=C1CNC[C@@H]2CCC(=O)N2)C3=CC=CC(=C3Cl)C4=C(C(=CC=C4)C5=CN=C(C(=N5)OC)CN6CC(C6)(C#C)O)Cl', 'COC1=NC(=CN=C1CNC[C@@H]2CCC(=O)N2)C3=CC=CC(=C3Cl)C4=C(C(=CC=C4)C5=CN=C(C(=N5)OC)CN6CC[C@H](C6)C(=O)O)Cl', 'C[C@](CO)(C(=O)O)NCC1=NC=C(N=C1OC)C2=CC=CC(=C2Cl)C3=C(C(=CC=C3)C4=CN=C(C(=N4)OC)CNC[C@@H]5CCC(=O)N5)Cl', 'CNC(=O)NC1CN(C1)CC2=NC=C(N=C2OC)C3=CC=CC(=C3Cl)C4=C(C(=CC=C4)C5=CN=C(C(=N5)OC)CN6CC(C6)NC(=O)NC)Cl', 'CNC(=O)C1CN(C1)CC2=NC=C(N=C2OC)C3=CC=CC(=C3Cl)C4=C(C(=CC=C4)C5=CN=C(C(=N5)OC)CN6CC(C6)C(=O)NC)Cl', 'COC1=NC(=CN=C1CN2CC(C2)NS(=O)(=O)C)C3=CC=CC(=C3Cl)C4=C(C(=CC=C4)C5=CN=C(C(=N5)OC)CN6CC(C6)NS(=O)(=O)C)Cl', 'CNC(=O)NC1CN(C1)CC2=NC=C(N=C2OC)C3=CC=CC(=C3Cl)C4=C(C(=CC=C4)C5=CN=C(C(=N5)OC)CNC[C@@H]6CCC(=O)N6)Cl', 'CNC(=O)C1CN(C1)CC2=NC=C(N=C2OC)C3=CC=CC(=C3Cl)C4=C(C(=CC=C4)C5=CN=C(C(=N5)OC)CNC[C@@H]6CCC(=O)N6)Cl', 'COC1=NC(=CN=C1CNC[C@@H]2CCC(=O)N2)C3=CC=CC(=C3Cl)C4=C(C(=CC=C4)C5=CN=C(C(=N5)OC)CN6CC(C6)NS(=O)(=O)C)Cl', 'COC1=NC(=CN=C1CNC[C@@H]2CCC(=O)N2)C3=CC=CC(=C3Cl)C4=C(C(=CC=C4)C5=CN=C(C(=N5)OC)CNC6CS(=O)(=O)C6)Cl', 'CC1(CC(C1)NCC2=NC=C(N=C2OC)C3=CC=CC(=C3Cl)C4=C(C(=CC=C4)C5=CN=C(C(=N5)OC)CNC6CC(C6)(C)O)Cl)O', 'CC1(CC(C1)CNCC2=NC=C(N=C2OC)C3=CC=CC(=C3Cl)C4=C(C(=CC=C4)C5=CN=C(C(=N5)OC)CNCC6CC(C6)(C)O)Cl)O', 'CC1(CC(C1)CNCC2=NC=C(N=C2OC)C3=CC=CC(=C3Cl)C4=C(C(=CC=C4)C5=CN=C(C(=N5)OC)CNCC6CC(C6)(C)O)Cl)O', 'CC1(CC(C1)NCC2=NC=C(N=C2OC)C3=CC=CC(=C3Cl)C4=C(C(=CC=C4)C5=CN=C(C(=N5)OC)CNC[C@@H]6CCC(=O)N6)Cl)O', 'COC1CC(C1)CNCC2=NC=C(N=C2OC)C3=CC=CC(=C3Cl)C4=C(C(=CC=C4)C5=CN=C(C(=N5)OC)CNC[C@@H]6CCC(=O)N6)Cl', 'CC1(CC(C1)CNCC2=NC=C(N=C2OC)C3=CC=CC(=C3Cl)C4=C(C(=CC=C4)C5=CN=C(C(=N5)OC)CNC[C@@H]6CCC(=O)N6)Cl)O', 'CC1(CC(C1)CNCC2=NC=C(N=C2OC)C3=CC=CC(=C3Cl)C4=C(C(=CC=C4)C5=CN=C(C(=N5)OC)CNC[C@@H]6CCC(=O)N6)Cl)O', 'COC1=NC(=CN=C1CNC[C@H]2CCS(=O)(=O)N2)C3=CC=CC(=C3Cl)C4=C(C(=CC=C4)C5=CN=C(C(=N5)OC)CNC[C@H]6CCS(=O)(=O)N6)Cl', 'COC1=NC(=CN=C1CNC[C@@H]2CCS(=O)(=O)N2)C3=CC=CC(=C3Cl)C4=C(C(=CC=C4)C5=CN=C(C(=N5)OC)CNC[C@@H]6CCS(=O)(=O)N6)Cl', 'COC1=NC(=CN=C1CNCCCN2CCCS2(=O)=O)C3=CC=CC(=C3Cl)C4=C(C(=CC=C4)C5=CN=C(C(=N5)OC)CNCCCN6CCCS6(=O)=O)Cl', 'COC1=NC(=CN=C1CN2CC(C2)NS(=O)(=O)N)C3=CC=CC(=C3Cl)C4=C(C(=CC=C4)C5=CN=C(C(=N5)OC)CN6CC(C6)NS(=O)(=O)N)Cl', 'CNS(=O)(=O)CCNCC1=NC=C(N=C1OC)C2=CC=CC(=C2Cl)C3=C(C(=CC=C3)C4=CN=C(C(=N4)OC)CNC[C@@H]5CCC(=O)N5)Cl', 'COC1=NC(=CN=C1CNCCN2CCCS2(=O)=O)C3=CC=CC(=C3Cl)C4=C(C(=CC=C4)C5=CN=C(C(=N5)OC)CNC[C@@H]6CCC(=O)N6)Cl', 'COC1=NC(=CN=C1CNC[C@@H]2CCC(=O)N2)C3=CC=CC(=C3Cl)C4=C(C(=CC=C4)C5=CN=C(C(=N5)OC)CN6CC(C6)S(=O)(=O)C)Cl', 'COC1=NC(=CN=C1CNCCNS(=O)(=O)C)C2=CC=CC(=C2Cl)C3=C(C(=CC=C3)C4=CN=C(C(=N4)OC)CNCCNS(=O)(=O)C)Cl', 'COC1=NC(=CN=C1CNCC2CCS(=O)(=O)N2)C3=CC=CC(=C3Cl)C4=C(C(=CC=C4)C5=CN=C(C(=N5)OC)CNCC6CCS(=O)(=O)N6)Cl', 'COC1=NC(=CN=C1CNCCCS(=O)(=O)N)C2=CC=CC(=C2Cl)C3=C(C(=CC=C3)C4=CN=C(C(=N4)OC)CNC[C@@H]5CCC(=O)N5)Cl', 'CCNC(=O)CNCC1=NC=C(N=C1OC)C2=CC=CC(=C2Cl)C3=C(C(=CC=C3)C4=CN=C(C(=N4)OC)CNC[C@@H]5CCC(=O)N5)Cl', 'COC1=NC(=CN=C1CNC[C@H]2CCOC2)C3=CC=CC(=C3Cl)C4=C(C(=CC=C4)C5=CN=C(C(=N5)OC)CNC[C@H]6CCOC6)Cl', 'CN(C[C@@H]1CCC(=O)N1)CC2=NC=C(N=C2OC)C3=CC=CC(=C3Cl)C4=C(C(=CC=C4)C5=CN=C(C(=N5)OC)CNC[C@@H]6CCC(=O)N6)Cl', 'CC(C)NC(=O)CNCC1=NC=C(N=C1OC)C2=CC=CC(=C2Cl)C3=C(C(=CC=C3)C4=CN=C(C(=N4)OC)CNC[C@@H]5CCC(=O)N5)Cl', 'COC1=C(C=CC(=N1)C2=CC=CC(=C2Cl)C3=C(C(=CC=C3)C4=CN=C(C(=N4)OC)C5=NCCN5)Cl)CN', 'COC1=C(C=CC(=N1)C2=CC=CC(=C2Cl)C3=C(C(=CC=C3)C4=CN=C(C(=N4)OC)CN)Cl)C5=NCCN5', 'COC1=NC(=CN=C1CN)C2=CC=CC(=C2Cl)C3=C(C(=CC=C3)C4=CN=C(C(=N4)OC)C5=NCCN5)Cl', 'COC1=NC(=CN=C1CN)C2=CC=CC(=C2Cl)C3=C(C(=CC=C3)C4=CN=C(C(=N4)OC)CN5CC[C@@H](C5)C(=O)O)Cl', 'COC1=NC(=CN=C1CN)C2=CC=CC(=C2Cl)C3=C(C(=CC=C3)C4=CN=C(C(=N4)OC)CN5CC[C@@H](C5)O)Cl', 'COC1=NC(=CN=C1CN)C2=CC=CC(=C2Cl)C3=C(C(=CC=C3)C4=CN=C(C(=N4)OC)CN5CC[C@H](C5)O)Cl', 'COC1=NC(=CN=C1CNCC2(COC2)O)C3=CC=CC(=C3Cl)C4=C(C(=CC=C4)C5=CN=C(C(=N5)OC)CNCC6(COC6)O)Cl', 'COC1=NC(=CN=C1CNC[C@@H]2CCC(=O)N2)C3=CC=CC(=C3Cl)C4=C(C(=CC=C4)C5=CN=C(C(=N5)OC)CNCC6(COC6)O)Cl', 'COC1=NC(=CN=C1CN[C@@H]([C@@H]2CCC(=O)N2)C3CC3)C4=CC=CC(=C4Cl)C5=C(C(=CC=C5)C6=CN=C(C(=N6)OC)CN[C@@H]([C@@H]7CCC(=O)N7)C8CC8)Cl', 'COC1=NC(=CN=C1CN)C2=CC=CC(=C2Cl)C3=C(C(=CC=C3)C4=CN=C(C(=N4)OC)CN5CC6(C5)CC(=O)NC6)Cl', 'CC1(CC(C1)NCC2=NC=C(N=C2OC)C3=CC=CC(=C3Cl)C4=C(C(=CC=C4)C5=CN=C(C(=N5)OC)CN)Cl)O', 'CC(C)(C1CN(C1)CC2=NC=C(N=C2OC)C3=CC=CC(=C3Cl)C4=C(C(=CC=C4)C5=CN=C(C(=N5)OC)CN)Cl)O', 'COC1=NC(=CN=C1CN)C2=CC=CC(=C2Cl)C3=C(C(=CC=C3)C4=CN=C(C(=N4)OC)CN5CC(C5)O)Cl', 'COC1=NC(=CN=C1CN)C2=CC=CC(=C2Cl)C3=C(C(=CC=C3)C4=CN=C(C(=N4)OC)CN5CC6(C5)CCC(=O)N6)Cl', 'CC1(CN(C1)CC2=NC=C(N=C2OC)C3=CC=CC(=C3Cl)C4=C(C(=CC=C4)C5=CN=C(C(=N5)OC)CN)Cl)O', 'CC(=O)N1CC2(C1)CN(C2)CC3=NC=C(N=C3OC)C4=CC=CC(=C4Cl)C5=C(C(=CC=C5)C6=CN=C(C(=N6)OC)CN)Cl', 'C[C@@H]([C@H]1CCC(=O)N1)NCC2=NC=C(N=C2OC)C3=CC=CC(=C3Cl)C4=C(C(=CC=C4)C5=CN=C(C(=N5)OC)CNC[C@@H]6CCC(=O)N6)Cl', 'C[C@H]([C@@H]1CCC(=O)N1)NCC2=NC=C(N=C2OC)C3=CC=CC(=C3Cl)C4=C(C(=CC=C4)C5=CN=C(C(=N5)OC)CNC[C@@H]6CCC(=O)N6)Cl', 'COC1=NC(=CN=C1CNC[C@@H]2CCC(=O)N2)C3=CC=CC(=C3Cl)C4=C(C(=CC=C4)C5=CN=C(C(=N5)OC)CNC6CC(C6)(CO)O)Cl', 'C[C@H]([C@@H]1CCC(=O)N1)NCC2=NC=C(N=C2OC)C3=CC=CC(=C3Cl)C4=C(C(=CC=C4)C5=CN=C(C(=N5)OC)CN[C@H](C)[C@@H]6CCC(=O)N6)Cl', 'CN1C=C(C2=NC=C(N=C21)C3=CC=CC(=C3Cl)C4=C(C(=CC=C4)C5=CN=C(C(=N5)OC)CNC[C@H]6CCC(=O)N6)Cl)CN7CCC8(C7)CCC(=O)N8', 'CN1C=C(C2=NC=C(N=C21)C3=CC=CC(=C3Cl)C4=C(C(=CC=C4)C5=CN=C(C(=N5)OC)CNC[C@H]6CCC(=O)N6)Cl)CNCC7CC(C7)O', 'CC(=O)N1CC2(C1)CN(C2)CC3=CN(C4=NC(=CN=C34)C5=CC=CC(=C5Cl)C6=C(C(=CC=C6)C7=CN=C(C(=N7)OC)CNC[C@H]8CCC(=O)N8)Cl)C', 'CN1C=C(C2=NC=C(N=C21)C3=CC=CC(=C3Cl)C4=C(C(=CC=C4)C5=CN=C(C(=N5)OC)CNC[C@H]6CCC(=O)N6)Cl)CN7CC8(C7)CC(=O)NC8', 'CN1C=C(C2=NC=C(N=C21)C3=CC=CC(=C3Cl)C4=C(C(=CC=C4)C5=CN=C(C(=N5)OC)CNC[C@H]6CCC(=O)N6)Cl)CNC[C@@H]7CCC(=O)N7', 'CN1C=C(C2=NC=C(N=C21)C3=CC=CC(=C3Cl)C4=C(C(=CC=C4)C5=CN=C(C(=N5)OC)CN6CC7(C6)CC(=O)NC7)Cl)CN8CC9(C8)CC(=O)NC9', 'CCN1C=C(C2=NC=C(N=C21)C3=CC=CC(=C3Cl)C4=C(C(=CC=C4)C5=CN=C(C(=N5)OC)CN6CC7(C6)CN(C7)C(=O)C)Cl)CN8CC9(C8)CN(C9)C(=O)C', 'CCN1C=C(C2=NC=C(N=C21)C3=CC=CC(=C3Cl)C4=C(C(=CC=C4)C5=CN=C(C(=N5)OC)CN6CC7(C6)CC(=O)NC7)Cl)CN8CC9(C8)CC(=O)NC9', 'CCN1C=C(C2=NC=C(N=C21)C3=CC=CC(=C3Cl)C4=C(C(=CC=C4)C5=CN=C(C(=N5)OC)CN6CC7(C6)CCC(=O)N7)Cl)CN8CC9(C8)CCC(=O)N9', 'CCN1C=C(C2=NC=C(N=C21)C3=CC=CC(=C3Cl)C4=C(C(=CC=C4)C5=CN=C(C(=N5)OC)CN6CC(C6)O)Cl)CN7CC(C7)O', 'CC(=O)N1CC2(C1)CN(C2)CC3=CN(C4=NC(=CN=C34)C5=CC=CC(=C5Cl)C6=C(C(=CC=C6)C7=CN=C(C(=N7)OC)CN8CC9(C8)CN(C9)C(=O)C)Cl)C', 'CN1C=C(C2=NC=C(N=C21)C3=CC=CC(=C3Cl)C4=C(C(=CC=C4)C5=CN=C(C(=N5)OC)CN6CC7(C6)CCC(=O)N7)Cl)CN8CC9(C8)CCC(=O)N9', 'COC1=C(C=CC(=N1)C2=CC=CC(=C2Cl)C3=C(C(=CC=C3)C4=CN=C(C(=N4)OC)CNC[C@@H]5CCC(=O)N5)F)CNC[C@@H]6CCC(=O)N6', 'COC1=C(C=CC(=N1)C2=CC=CC(=C2Cl)C3=C(C(=CC=C3)C4=CN=C(C(=N4)OC)CNCCO)F)CNCCO', 'COC1=C(C=CC(=N1)C2=CC=CC(=C2Cl)C3=C(C(=CC=C3)C4=CN=C(C(=N4)OC)CN5CC[C@H](C5)CO)F)CN6CC[C@H](C6)CO', 'CC(=O)N1CC2(C1)CN(C2)CC3=C(N=C(C=C3)C4=CC=CC(=C4Cl)C5=C(C(=CC=C5)C6=CN=C(C(=N6)OC)CN7CC8(C7)CN(C8)C(=O)C)F)OC', 'COC1=C(C=CC(=N1)C2=CC=CC(=C2Cl)C3=C(C(=CC=C3)C4=CN=C(C(=N4)OC)CN5CC6(C5)CCC(=O)N6)F)CN7CC8(C7)CCC(=O)N8', 'COC1=C(C=CC(=N1)C2=CC=CC(=C2Cl)C3=C(C(=CC=C3)C4=CN=C(C(=N4)OC)CN5CC(C5)O)F)CN6CC(C6)O', 'COC1=NC(=CN=C1CNCCOC2=CC=CC=N2)C3=CC=CC(=C3Cl)C4=C(C(=CC=C4)C5=CN=C(C(=N5)OC)CNC[C@@H]6CCC(=O)N6)Cl', 'CC1(CN(C1)CC2=NC=C(N=C2OC)C3=CC=CC(=C3Cl)C4=C(C(=CC=C4)C5=CN=C(C(=N5)OC)CN6CC(C6)(C)N)Cl)N', 'CC1(CN(C1)CC2=NC=C(N=C2OC)C3=CC=CC(=C3Cl)C4=C(C(=CC=C4)C5=CN=C(C(=N5)OC)CNC[C@@H]6CCC(=O)N6)Cl)N', 'COC1=NC(=CN=C1CNC[C@H]2CCC(=O)N2)C3=CC=CC(=C3Cl)C4=C(C(=CC=C4)C5=CN=C(C(=N5)OC)CNC[C@@H]6CCC(=O)N6)Cl', 'COC1=NC(=CN=C1CN2CC[C@@H](C2)CO)C3=CC=CC(=C3Cl)C4=C(C(=CC=C4)C5=CN=C(C(=N5)OC)CN6CC[C@@H](C6)CO)Cl', 'COC1=NC(=CN=C1CNC[C@@H]2CCC(=O)N2)C3=CC=CC(=C3Cl)C4=C(C(=CC=C4)C5=CN=C(C(=N5)OC)CN6CC[C@@H](C6)CO)Cl', 'COC1=NC(=CN=C1CN2CC[C@H](C2)CO)C3=CC=CC(=C3Cl)C4=C(C(=CC=C4)C5=CN=C(C(=N5)OC)CN6CC[C@H](C6)CO)Cl', 'COC1=NC(=CN=C1CNC[C@@H]2CCC(=O)N2)C3=CC=CC(=C3Cl)C4=C(C(=CC=C4)C5=CN=C(C(=N5)OC)CN6CC[C@H](C6)CO)Cl', 'CC1=CC(=NC(=C1CNC[C@@H]2CCC(=O)N2)OC)C3=CC=CC(=C3Cl)C4=C(C(=CC=C4)C5=CN=C(C(=N5)OC)CNC[C@@H]6CCC(=O)N6)Cl', 'CC1(CN(C1)CC2=NC=C(N=C2OC)C3=CC=CC(=C3Cl)C4=C(C(=CC=C4)C5=CN=C(C(=N5)OC)CN6CC(C6)O)Cl)O', 'COC1=C(C=CC(=N1)C2=CC=CC(=C2Cl)C3=C(C(=CC=C3)C4=CN=C(C(=N4)OC)CN)Cl)CNC[C@@H]5CCC(=O)N5', 'CC1(CN(C1)CC2=NC=C(N=C2OC)C3=CC=CC(=C3Cl)C4=C(C(=CC=C4)C5=NC(=C(C=C5)CNC[C@@H]6CCC(=O)N6)OC)Cl)O', 'CC(=O)N1CC2(C1)CN(C2)CC3=NC=C(N=C3OC)C4=CC=CC(=C4Cl)C5=C(C(=CC=C5)C6=NC(=C(C=C6)CNC[C@@H]7CCC(=O)N7)OC)Cl', 'COC1=C(C=CC(=N1)C2=CC=CC(=C2Cl)C3=C(C(=CC=C3)C4=CN=C(C(=N4)OC)CN5CC6(C5)CC(=O)NC6)Cl)CNC[C@@H]7CCC(=O)N7', 'COC1=NC(=CN=C1CN2CCC(C2)(CO)CO)C3=CC=CC(=C3Cl)C4=C(C(=CC=C4)C5=CN=C(C(=N5)OC)CN6CCC(C6)(CO)CO)Cl', 'CC(C)(C1CN(C1)CC2=C(N=C(C=C2)C3=CC=CC(=C3Cl)C4=C(C(=CC=C4)C5=CN=C(C(=N5)OC6CC6)CN7CC(C7)C(C)(C)O)Cl)OC)O', 'COC1=C(C=CC(=N1)C2=CC=CC(=C2Cl)C3=C(C(=CC=C3)C4=CN=C(C(=N4)OC5CC5)CN6CC7(C6)CCC(=O)N7)Cl)CN8CC9(C8)CCC(=O)N9', 'COC1=C(C=CC(=N1)C2=CC=CC(=C2Cl)C3=C(C(=CC=C3)C4=CN=C(C(=N4)OC5CC5)CN6CC7(C6)CC(=O)NC7)Cl)CN8CC9(C8)CC(=O)NC9', 'COC1=C(C=CC(=N1)C2=CC=CC(=C2Cl)C3=C(C(=CC=C3)C4=CN=C(C(=N4)OC5CC5)CNC[C@@H]6CCC(=O)N6)Cl)CNC[C@@H]7CCC(=O)N7', 'COC1=C(C=CC(=N1)C2=CC=CC(=C2Cl)C3=C(C(=CC=C3)C4=CN=C(C(=N4)OC)CNC5CC(C5)C(=O)N)Cl)CNC[C@H]6CC(=O)NC6', 'COC1=C(C=CC(=N1)C2=CC=CC(=C2Cl)C3=C(C(=CC=C3)C4=CN=C(C(=N4)OC)CN[C@H]5CCC[C@H]5O)Cl)CNC[C@H]6CC(=O)NC6', 'COC1=C(C=CC(=N1)C2=CC=CC(=C2Cl)C3=C(C(=CC=C3)C4=CN=C(C(=N4)OC)C5=NCCN5)Cl)CN6CC7(C6)CCC(=O)N7', 'CC1(CN(C1)CC2=C(N=C(C=C2)C3=CC=CC(=C3Cl)C4=C(C(=CC=C4)C5=CN=C(C(=N5)OC)C6=NCCN6)Cl)OC)O', 'C[C@H]1CN=C(N1)C2=NC=C(N=C2OC)C3=CC=CC(=C3Cl)C4=C(C(=CC=C4)C5=NC(=C(C=C5)CNC[C@@H]6CCC(=O)N6)OC)Cl', 'C[C@@H]1CN=C(N1)C2=NC=C(N=C2OC)C3=CC=CC(=C3Cl)C4=C(C(=CC=C4)C5=NC(=C(C=C5)CNC[C@@H]6CCC(=O)N6)OC)Cl', 'COC1=C(C=CC(=N1)C2=CC=CC(=C2Cl)C3=C(C(=CC=C3)C4=CN=C(C(=N4)OC)C5=NCCN5)Cl)CNC[C@@H]6CCC(=O)N6', 'C[C@H]1CN=C(N1)C2=NC=C(N=C2OC)C3=CC=CC(=C3Cl)C4=C(C(=CC=C4)C5=CN=C(C(=N5)OC)CNC[C@@H]6CCC(=O)N6)Cl', 'C[C@@H]1CN=C(N1)C2=NC=C(N=C2OC)C3=CC=CC(=C3Cl)C4=C(C(=CC=C4)C5=CN=C(C(=N5)OC)CNC[C@@H]6CCC(=O)N6)Cl', 'COC1=NC(=CN=C1CNC[C@@H]2CCC(=O)N2)C3=CC=CC(=C3Cl)C4=C(C(=CC=C4)C5=CN=C(C(=N5)OC)CN[C@H]6CC[C@H](C6)CO)Cl', 'COC1=C(C=CC(=N1)C2=CC=CC(=C2F)C3=C(C(=CC=C3)C4=CN=C(C(=N4)OC)CN5CC6(C5)CCC(=O)N6)Cl)CN7CC8(C7)CCC(=O)N8', 'CC1=CC(=NC(=C1CN2CC3(C2)CCC(=O)N3)OC)C4=CC=CC(=C4F)C5=C(C(=CC=C5)C6=CN=C(C(=N6)OC)CN7CC8(C7)CCC(=O)N8)Cl', 'CC1=CC(=NC(=C1CN2CC3(C2)CC(=O)NC3)OC)C4=CC=CC(=C4F)C5=C(C(=CC=C5)C6=CN=C(C(=N6)OC)CN7CC8(C7)CC(=O)NC8)Cl', 'CC1=CC(=NC(=C1CNCC2CC(C2)O)OC)C3=CC=CC(=C3Cl)C4=C(C(=CC=C4)C5=CN=C(C(=N5)OC)CNC[C@@H]6CCC(=O)N6)Cl', 'CC1=CC(=NC(=C1CN2CC3(C2)CN(C3)C(=O)C)OC)C4=CC=CC(=C4Cl)C5=C(C(=CC=C5)C6=CN=C(C(=N6)OC)CNC[C@@H]7CCC(=O)N7)Cl', 'CC1=CC(=NC(=C1CN2CC(C3(C2)CCOC3)C(=O)O)OC)C4=CC=CC(=C4Cl)C5=C(C(=CC=C5)C6=CN=C(C(=N6)OC)CNC[C@@H]7CCC(=O)N7)Cl', 'CC1=CC(=NC(=C1CN2C[C@@H]3CCC[C@@]3(C2)C(=O)O)OC)C4=CC=CC(=C4Cl)C5=C(C(=CC=C5)C6=CN=C(C(=N6)OC)CNC[C@@H]7CCC(=O)N7)Cl', 'COC1=C(C=CC(=N1)C2=CC=CC(=C2Cl)C3=C(C(=CC=C3)C4=CN=C(C(=N4)OC)CNCC5CC(C5)O)Cl)CNC[C@@H]6CCC(=O)N6', 'COC1=NC(=CN=C1CN2CC(C2)OCC(=O)N)C3=CC=CC(=C3Cl)C4=C(C(=CC=C4)C5=CN=C(C(=N5)OC)CN6CC(C6)OCC(=O)N)Cl', 'COC1=NC(=CN=C1CNC[C@@H]2CCC(=O)N2)C3=CC=CC(=C3Cl)C4=C(C(=CC=C4)C5=CN=C(C(=N5)OC)CNCC6CCNC6=O)Cl', 'COC1=NC(=CN=C1CNC[C@@H]2CCC(=O)N2)C3=CC=CC(=C3Cl)C4=C(C(=CC=C4)C5=CN=C(C(=N5)OC)CNCC6CCNC(=O)C6)Cl', 'COC1=NC(=CN=C1CNCC2CCNC(=O)C2)C3=CC=CC(=C3Cl)C4=C(C(=CC=C4)C5=CN=C(C(=N5)OC)CNCC6CCNC(=O)C6)Cl', 'COC1=NC(=CN=C1CNCC2CCNC2=O)C3=CC=CC(=C3Cl)C4=C(C(=CC=C4)C5=CN=C(C(=N5)OC)CNCC6CCNC6=O)Cl', 'CC1=C(C=CC=C1C2=CN=C(C(=N2)OC)CN3CC4(C3)CN(C4)C(=O)C)C5=C(C(=CC=C5)C6=CN=C(C(=N6)OC)CN7CC8(C7)CN(C8)C(=O)C)Cl', 'CC(=O)NC[C@@H]1CCN(C1)CC2=NC=C(N=C2OC)C3=CC=CC(=C3Cl)C4=C(C(=CC=C4)C5=CN=C(C(=N5)OC)CN6CC[C@H](C6)CNC(=O)C)Cl']\n",
      "651\n"
     ]
    }
   ],
   "source": [
    "Cl_SMILES = []\n",
    "count_Cl = 0\n",
    "for i in File2['SMILES']:\n",
    "    try:\n",
    "        i.index('Cl')\n",
    "    except:\n",
    "        continue\n",
    "    Cl_SMILES.append(i)\n",
    "    count_Cl +=1\n",
    "print(Cl_SMILES)\n",
    "print(count_Cl)"
   ]
  },
  {
   "cell_type": "markdown",
   "metadata": {},
   "source": [
    "### 6. Ex6. Caculate mean of 5 highest pIC50 values in Dataframe "
   ]
  },
  {
   "cell_type": "code",
   "execution_count": 8,
   "metadata": {},
   "outputs": [
    {
     "data": {
      "text/html": [
       "<div>\n",
       "<style scoped>\n",
       "    .dataframe tbody tr th:only-of-type {\n",
       "        vertical-align: middle;\n",
       "    }\n",
       "\n",
       "    .dataframe tbody tr th {\n",
       "        vertical-align: top;\n",
       "    }\n",
       "\n",
       "    .dataframe thead th {\n",
       "        text-align: right;\n",
       "    }\n",
       "</style>\n",
       "<table border=\"1\" class=\"dataframe\">\n",
       "  <thead>\n",
       "    <tr style=\"text-align: right;\">\n",
       "      <th></th>\n",
       "      <th>SMILES</th>\n",
       "      <th>IC50</th>\n",
       "      <th>pIC50</th>\n",
       "    </tr>\n",
       "  </thead>\n",
       "  <tbody>\n",
       "    <tr>\n",
       "      <th>25</th>\n",
       "      <td>COC1=NC(=CN=C1CNC[C@@H]2CCC(=O)N2)C3=CC=CC(=C3...</td>\n",
       "      <td>0.06</td>\n",
       "      <td>10.221849</td>\n",
       "    </tr>\n",
       "    <tr>\n",
       "      <th>146</th>\n",
       "      <td>CC1(CN(C1)CC2=NC=C(N=C2OC)C3=CC=CC(=C3Cl)C4=C(...</td>\n",
       "      <td>0.06</td>\n",
       "      <td>10.221849</td>\n",
       "    </tr>\n",
       "    <tr>\n",
       "      <th>147</th>\n",
       "      <td>CC1(CN(C1)CC2=NC=C(N=C2OC)C3=CC=CC(=C3Cl)C4=C(...</td>\n",
       "      <td>0.06</td>\n",
       "      <td>10.221849</td>\n",
       "    </tr>\n",
       "    <tr>\n",
       "      <th>250</th>\n",
       "      <td>COC1=NC(=CN=C1CNC[C@@H]2CCC(=O)N2)C3=CC=CC(=C3...</td>\n",
       "      <td>0.06</td>\n",
       "      <td>10.221849</td>\n",
       "    </tr>\n",
       "    <tr>\n",
       "      <th>284</th>\n",
       "      <td>COC1=NC(=CN=C1CNC[C@@H]2CCC(=O)N2)C3=CC=CC(=C3...</td>\n",
       "      <td>0.06</td>\n",
       "      <td>10.221849</td>\n",
       "    </tr>\n",
       "  </tbody>\n",
       "</table>\n",
       "</div>"
      ],
      "text/plain": [
       "                                                SMILES  IC50      pIC50\n",
       "25   COC1=NC(=CN=C1CNC[C@@H]2CCC(=O)N2)C3=CC=CC(=C3...  0.06  10.221849\n",
       "146  CC1(CN(C1)CC2=NC=C(N=C2OC)C3=CC=CC(=C3Cl)C4=C(...  0.06  10.221849\n",
       "147  CC1(CN(C1)CC2=NC=C(N=C2OC)C3=CC=CC(=C3Cl)C4=C(...  0.06  10.221849\n",
       "250  COC1=NC(=CN=C1CNC[C@@H]2CCC(=O)N2)C3=CC=CC(=C3...  0.06  10.221849\n",
       "284  COC1=NC(=CN=C1CNC[C@@H]2CCC(=O)N2)C3=CC=CC(=C3...  0.06  10.221849"
      ]
     },
     "execution_count": 8,
     "metadata": {},
     "output_type": "execute_result"
    }
   ],
   "source": [
    "File2.nlargest(5, columns = 'pIC50', keep = 'first')"
   ]
  },
  {
   "cell_type": "code",
   "execution_count": 11,
   "metadata": {},
   "outputs": [
    {
     "data": {
      "text/plain": [
       "10.22184875"
      ]
     },
     "execution_count": 11,
     "metadata": {},
     "output_type": "execute_result"
    }
   ],
   "source": [
    "File2['pIC50'].nlargest(5, keep = 'first').mean()"
   ]
  },
  {
   "cell_type": "markdown",
   "metadata": {},
   "source": [
    "### 7. Ex7. Caculate mean of 5 lowest pIC50 values in Dataframe "
   ]
  },
  {
   "cell_type": "code",
   "execution_count": 76,
   "metadata": {},
   "outputs": [
    {
     "data": {
      "text/plain": [
       "8.147526285"
      ]
     },
     "execution_count": 76,
     "metadata": {},
     "output_type": "execute_result"
    }
   ],
   "source": [
    "File2['pIC50'].nsmallest(5, keep = 'first').mean()"
   ]
  },
  {
   "cell_type": "markdown",
   "metadata": {},
   "source": [
    "### 8. Ex8. Create a column in dataframe which shows the number of 'F' in SMILES\n",
    " "
   ]
  },
  {
   "cell_type": "code",
   "execution_count": 77,
   "metadata": {},
   "outputs": [
    {
     "data": {
      "text/html": [
       "<div>\n",
       "<style scoped>\n",
       "    .dataframe tbody tr th:only-of-type {\n",
       "        vertical-align: middle;\n",
       "    }\n",
       "\n",
       "    .dataframe tbody tr th {\n",
       "        vertical-align: top;\n",
       "    }\n",
       "\n",
       "    .dataframe thead th {\n",
       "        text-align: right;\n",
       "    }\n",
       "</style>\n",
       "<table border=\"1\" class=\"dataframe\">\n",
       "  <thead>\n",
       "    <tr style=\"text-align: right;\">\n",
       "      <th></th>\n",
       "      <th>SMILES</th>\n",
       "      <th>IC50</th>\n",
       "      <th>pIC50</th>\n",
       "      <th>Count_F</th>\n",
       "    </tr>\n",
       "  </thead>\n",
       "  <tbody>\n",
       "    <tr>\n",
       "      <th>0</th>\n",
       "      <td>COC1=NC(=CN=C1CN2CC3(C2)CCC(=O)N3)C4=CC=CC(=C4...</td>\n",
       "      <td>0.080</td>\n",
       "      <td>NaN</td>\n",
       "      <td>1</td>\n",
       "    </tr>\n",
       "    <tr>\n",
       "      <th>1</th>\n",
       "      <td>COC1=NC(=CN=C1CN2CC(C2)O)C3=CC=CC(=C3F)C4=C(C(...</td>\n",
       "      <td>0.135</td>\n",
       "      <td>9.869666</td>\n",
       "      <td>1</td>\n",
       "    </tr>\n",
       "    <tr>\n",
       "      <th>2</th>\n",
       "      <td>COC1CN(C1)CC2=NC=C(N=C2OC)C3=CC=CC(=C3F)C4=C(C...</td>\n",
       "      <td>0.318</td>\n",
       "      <td>9.497573</td>\n",
       "      <td>1</td>\n",
       "    </tr>\n",
       "    <tr>\n",
       "      <th>3</th>\n",
       "      <td>CC(=O)N1CC2(C1)CN(C2)CC3=NC=C(N=C3OC)C4=CC=CC(...</td>\n",
       "      <td>NaN</td>\n",
       "      <td>10.065502</td>\n",
       "      <td>1</td>\n",
       "    </tr>\n",
       "    <tr>\n",
       "      <th>4</th>\n",
       "      <td>COC1=NC(=CN=C1CNCCO)C2=CC=CC(=C2F)C3=C(C(=CC=C...</td>\n",
       "      <td>0.213</td>\n",
       "      <td>9.671620</td>\n",
       "      <td>1</td>\n",
       "    </tr>\n",
       "    <tr>\n",
       "      <th>...</th>\n",
       "      <td>...</td>\n",
       "      <td>...</td>\n",
       "      <td>...</td>\n",
       "      <td>...</td>\n",
       "    </tr>\n",
       "    <tr>\n",
       "      <th>652</th>\n",
       "      <td>COC1=NC(=CN=C1CNC[C@@H]2CCC(=O)N2)C3=CC=CC(=C3...</td>\n",
       "      <td>0.121</td>\n",
       "      <td>9.917215</td>\n",
       "      <td>0</td>\n",
       "    </tr>\n",
       "    <tr>\n",
       "      <th>653</th>\n",
       "      <td>COC1=NC(=CN=C1CNCC2CCNC(=O)C2)C3=CC=CC(=C3Cl)C...</td>\n",
       "      <td>0.135</td>\n",
       "      <td>9.869666</td>\n",
       "      <td>0</td>\n",
       "    </tr>\n",
       "    <tr>\n",
       "      <th>654</th>\n",
       "      <td>COC1=NC(=CN=C1CNCC2CCNC2=O)C3=CC=CC(=C3Cl)C4=C...</td>\n",
       "      <td>0.064</td>\n",
       "      <td>10.193820</td>\n",
       "      <td>0</td>\n",
       "    </tr>\n",
       "    <tr>\n",
       "      <th>655</th>\n",
       "      <td>CC1=C(C=CC=C1C2=CN=C(C(=N2)OC)CN3CC4(C3)CN(C4)...</td>\n",
       "      <td>0.082</td>\n",
       "      <td>10.086186</td>\n",
       "      <td>0</td>\n",
       "    </tr>\n",
       "    <tr>\n",
       "      <th>656</th>\n",
       "      <td>CC(=O)NC[C@@H]1CCN(C1)CC2=NC=C(N=C2OC)C3=CC=CC...</td>\n",
       "      <td>0.281</td>\n",
       "      <td>NaN</td>\n",
       "      <td>0</td>\n",
       "    </tr>\n",
       "  </tbody>\n",
       "</table>\n",
       "<p>657 rows × 4 columns</p>\n",
       "</div>"
      ],
      "text/plain": [
       "                                                SMILES   IC50      pIC50  \\\n",
       "0    COC1=NC(=CN=C1CN2CC3(C2)CCC(=O)N3)C4=CC=CC(=C4...  0.080        NaN   \n",
       "1    COC1=NC(=CN=C1CN2CC(C2)O)C3=CC=CC(=C3F)C4=C(C(...  0.135   9.869666   \n",
       "2    COC1CN(C1)CC2=NC=C(N=C2OC)C3=CC=CC(=C3F)C4=C(C...  0.318   9.497573   \n",
       "3    CC(=O)N1CC2(C1)CN(C2)CC3=NC=C(N=C3OC)C4=CC=CC(...    NaN  10.065502   \n",
       "4    COC1=NC(=CN=C1CNCCO)C2=CC=CC(=C2F)C3=C(C(=CC=C...  0.213   9.671620   \n",
       "..                                                 ...    ...        ...   \n",
       "652  COC1=NC(=CN=C1CNC[C@@H]2CCC(=O)N2)C3=CC=CC(=C3...  0.121   9.917215   \n",
       "653  COC1=NC(=CN=C1CNCC2CCNC(=O)C2)C3=CC=CC(=C3Cl)C...  0.135   9.869666   \n",
       "654  COC1=NC(=CN=C1CNCC2CCNC2=O)C3=CC=CC(=C3Cl)C4=C...  0.064  10.193820   \n",
       "655  CC1=C(C=CC=C1C2=CN=C(C(=N2)OC)CN3CC4(C3)CN(C4)...  0.082  10.086186   \n",
       "656  CC(=O)NC[C@@H]1CCN(C1)CC2=NC=C(N=C2OC)C3=CC=CC...  0.281        NaN   \n",
       "\n",
       "     Count_F  \n",
       "0          1  \n",
       "1          1  \n",
       "2          1  \n",
       "3          1  \n",
       "4          1  \n",
       "..       ...  \n",
       "652        0  \n",
       "653        0  \n",
       "654        0  \n",
       "655        0  \n",
       "656        0  \n",
       "\n",
       "[657 rows x 4 columns]"
      ]
     },
     "execution_count": 77,
     "metadata": {},
     "output_type": "execute_result"
    }
   ],
   "source": [
    "File2['Count_F'] = [i.count('F') for i in File2['SMILES']]   \n",
    "File2"
   ]
  },
  {
   "cell_type": "code",
   "execution_count": 78,
   "metadata": {},
   "outputs": [
    {
     "data": {
      "text/html": [
       "<div>\n",
       "<style scoped>\n",
       "    .dataframe tbody tr th:only-of-type {\n",
       "        vertical-align: middle;\n",
       "    }\n",
       "\n",
       "    .dataframe tbody tr th {\n",
       "        vertical-align: top;\n",
       "    }\n",
       "\n",
       "    .dataframe thead th {\n",
       "        text-align: right;\n",
       "    }\n",
       "</style>\n",
       "<table border=\"1\" class=\"dataframe\">\n",
       "  <thead>\n",
       "    <tr style=\"text-align: right;\">\n",
       "      <th></th>\n",
       "      <th>SMILES</th>\n",
       "      <th>IC50</th>\n",
       "      <th>pIC50</th>\n",
       "      <th>Count_F</th>\n",
       "      <th>Count_Cl</th>\n",
       "    </tr>\n",
       "  </thead>\n",
       "  <tbody>\n",
       "    <tr>\n",
       "      <th>0</th>\n",
       "      <td>COC1=NC(=CN=C1CN2CC3(C2)CCC(=O)N3)C4=CC=CC(=C4...</td>\n",
       "      <td>0.080</td>\n",
       "      <td>NaN</td>\n",
       "      <td>1</td>\n",
       "      <td>1</td>\n",
       "    </tr>\n",
       "    <tr>\n",
       "      <th>1</th>\n",
       "      <td>COC1=NC(=CN=C1CN2CC(C2)O)C3=CC=CC(=C3F)C4=C(C(...</td>\n",
       "      <td>0.135</td>\n",
       "      <td>9.869666</td>\n",
       "      <td>1</td>\n",
       "      <td>1</td>\n",
       "    </tr>\n",
       "    <tr>\n",
       "      <th>2</th>\n",
       "      <td>COC1CN(C1)CC2=NC=C(N=C2OC)C3=CC=CC(=C3F)C4=C(C...</td>\n",
       "      <td>0.318</td>\n",
       "      <td>9.497573</td>\n",
       "      <td>1</td>\n",
       "      <td>1</td>\n",
       "    </tr>\n",
       "    <tr>\n",
       "      <th>3</th>\n",
       "      <td>CC(=O)N1CC2(C1)CN(C2)CC3=NC=C(N=C3OC)C4=CC=CC(...</td>\n",
       "      <td>NaN</td>\n",
       "      <td>10.065502</td>\n",
       "      <td>1</td>\n",
       "      <td>1</td>\n",
       "    </tr>\n",
       "    <tr>\n",
       "      <th>4</th>\n",
       "      <td>COC1=NC(=CN=C1CNCCO)C2=CC=CC(=C2F)C3=C(C(=CC=C...</td>\n",
       "      <td>0.213</td>\n",
       "      <td>9.671620</td>\n",
       "      <td>1</td>\n",
       "      <td>1</td>\n",
       "    </tr>\n",
       "    <tr>\n",
       "      <th>...</th>\n",
       "      <td>...</td>\n",
       "      <td>...</td>\n",
       "      <td>...</td>\n",
       "      <td>...</td>\n",
       "      <td>...</td>\n",
       "    </tr>\n",
       "    <tr>\n",
       "      <th>652</th>\n",
       "      <td>COC1=NC(=CN=C1CNC[C@@H]2CCC(=O)N2)C3=CC=CC(=C3...</td>\n",
       "      <td>0.121</td>\n",
       "      <td>9.917215</td>\n",
       "      <td>0</td>\n",
       "      <td>2</td>\n",
       "    </tr>\n",
       "    <tr>\n",
       "      <th>653</th>\n",
       "      <td>COC1=NC(=CN=C1CNCC2CCNC(=O)C2)C3=CC=CC(=C3Cl)C...</td>\n",
       "      <td>0.135</td>\n",
       "      <td>9.869666</td>\n",
       "      <td>0</td>\n",
       "      <td>2</td>\n",
       "    </tr>\n",
       "    <tr>\n",
       "      <th>654</th>\n",
       "      <td>COC1=NC(=CN=C1CNCC2CCNC2=O)C3=CC=CC(=C3Cl)C4=C...</td>\n",
       "      <td>0.064</td>\n",
       "      <td>10.193820</td>\n",
       "      <td>0</td>\n",
       "      <td>2</td>\n",
       "    </tr>\n",
       "    <tr>\n",
       "      <th>655</th>\n",
       "      <td>CC1=C(C=CC=C1C2=CN=C(C(=N2)OC)CN3CC4(C3)CN(C4)...</td>\n",
       "      <td>0.082</td>\n",
       "      <td>10.086186</td>\n",
       "      <td>0</td>\n",
       "      <td>1</td>\n",
       "    </tr>\n",
       "    <tr>\n",
       "      <th>656</th>\n",
       "      <td>CC(=O)NC[C@@H]1CCN(C1)CC2=NC=C(N=C2OC)C3=CC=CC...</td>\n",
       "      <td>0.281</td>\n",
       "      <td>NaN</td>\n",
       "      <td>0</td>\n",
       "      <td>2</td>\n",
       "    </tr>\n",
       "  </tbody>\n",
       "</table>\n",
       "<p>657 rows × 5 columns</p>\n",
       "</div>"
      ],
      "text/plain": [
       "                                                SMILES   IC50      pIC50  \\\n",
       "0    COC1=NC(=CN=C1CN2CC3(C2)CCC(=O)N3)C4=CC=CC(=C4...  0.080        NaN   \n",
       "1    COC1=NC(=CN=C1CN2CC(C2)O)C3=CC=CC(=C3F)C4=C(C(...  0.135   9.869666   \n",
       "2    COC1CN(C1)CC2=NC=C(N=C2OC)C3=CC=CC(=C3F)C4=C(C...  0.318   9.497573   \n",
       "3    CC(=O)N1CC2(C1)CN(C2)CC3=NC=C(N=C3OC)C4=CC=CC(...    NaN  10.065502   \n",
       "4    COC1=NC(=CN=C1CNCCO)C2=CC=CC(=C2F)C3=C(C(=CC=C...  0.213   9.671620   \n",
       "..                                                 ...    ...        ...   \n",
       "652  COC1=NC(=CN=C1CNC[C@@H]2CCC(=O)N2)C3=CC=CC(=C3...  0.121   9.917215   \n",
       "653  COC1=NC(=CN=C1CNCC2CCNC(=O)C2)C3=CC=CC(=C3Cl)C...  0.135   9.869666   \n",
       "654  COC1=NC(=CN=C1CNCC2CCNC2=O)C3=CC=CC(=C3Cl)C4=C...  0.064  10.193820   \n",
       "655  CC1=C(C=CC=C1C2=CN=C(C(=N2)OC)CN3CC4(C3)CN(C4)...  0.082  10.086186   \n",
       "656  CC(=O)NC[C@@H]1CCN(C1)CC2=NC=C(N=C2OC)C3=CC=CC...  0.281        NaN   \n",
       "\n",
       "     Count_F  Count_Cl  \n",
       "0          1         1  \n",
       "1          1         1  \n",
       "2          1         1  \n",
       "3          1         1  \n",
       "4          1         1  \n",
       "..       ...       ...  \n",
       "652        0         2  \n",
       "653        0         2  \n",
       "654        0         2  \n",
       "655        0         1  \n",
       "656        0         2  \n",
       "\n",
       "[657 rows x 5 columns]"
      ]
     },
     "execution_count": 78,
     "metadata": {},
     "output_type": "execute_result"
    }
   ],
   "source": [
    "File2['Count_Cl'] = [i.count('Cl') for i in File2['SMILES']]   \n",
    "File2"
   ]
  }
 ],
 "metadata": {
  "kernelspec": {
   "display_name": "Python 3",
   "language": "python",
   "name": "python3"
  },
  "language_info": {
   "codemirror_mode": {
    "name": "ipython",
    "version": 3
   },
   "file_extension": ".py",
   "mimetype": "text/x-python",
   "name": "python",
   "nbconvert_exporter": "python",
   "pygments_lexer": "ipython3",
   "version": "3.12.4"
  },
  "orig_nbformat": 4
 },
 "nbformat": 4,
 "nbformat_minor": 2
}
